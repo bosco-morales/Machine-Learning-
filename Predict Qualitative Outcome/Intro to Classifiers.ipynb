{
  "nbformat": 4,
  "nbformat_minor": 0,
  "metadata": {
    "colab": {
      "provenance": [],
      "toc_visible": true
    },
    "kernelspec": {
      "name": "python3",
      "display_name": "Python 3"
    },
    "language_info": {
      "name": "python"
    }
  },
  "cells": [
    {
      "cell_type": "markdown",
      "source": [
        "##CAP 4633C - Fall 2024. Assignment 1\n",
        "\n",
        "Group 5:\n",
        "\n",
        "Alberto Diaz\n",
        "\n",
        "Barbara Lorenzo\n",
        "\n",
        "Bosco Morales\n",
        "\n",
        "Robert Rivera"
      ],
      "metadata": {
        "id": "nwjgogvn-MMC"
      }
    },
    {
      "cell_type": "markdown",
      "source": [
        "##Introduction\n",
        "\n",
        "\n",
        "\n",
        "\n",
        "*   This assignment covers the basic ideas about Classification we have discussed so far in class. It also covers Naive Bayes classification and ClassificationTrees.\n",
        "*   Questions 1 and 2 are challenge questions. They are worth only 5 and 15 points, respectively. Challenge questions are those I want you to try your best to answer without getting any help from me (i.e., you cannot ask me how to answer them). If you do something, you will get points for your answers to these questions, even if they are not completely right (i.e., partial credit is your friend!)\n",
        "*   Questions 3 and 4 are based on the Cancer dataset part of scikit-learn. To know more about the variables in this dataset, you can visit the following web page: https://scikit-learn.org/stable/datasets/toy_dataset.html\n",
        "\n",
        "To read this dataset from scikit-learn, run the following statements in your Colab notebook:\n",
        "\n",
        "```\n",
        "from sklearn import datasets\n",
        "cancer_data=datasets.load_breast_cancer()\n",
        "cancer_df=pd.DataFrame(cancer_data.data, columns= cancer_data.feature_names)\n",
        "original_target= cancer_data.target\n",
        "new_target= 1 - original_target\n",
        "cancer_df['Y']= new_target\n",
        "\n",
        "```\n",
        "Now you can use the cancer_df data frame to answer questions 3 and 4. In this dataframe, the last column, Y, is the outcome. The other columns are the predictors. The classes of the outcome variable are 1 for patients with Malignant tumors and 0 for patients with benign tumors.\n",
        "\n",
        "Note: I strongly advised you to read the dataset using the code I provided you above. If you try to use your own code and get the labels of Y wrong, you will be deducted 15 points for making such an AVOIDABLE mistake. If that situation happens, the explanation for why you lost the 15 points will be to show you this fragment.\n",
        "\n",
        "\n"
      ],
      "metadata": {
        "id": "ZYfadNWd-Zuo"
      }
    },
    {
      "cell_type": "code",
      "source": [
        "# Import useful packages\n",
        "import numpy as np\n",
        "import pandas as pd\n",
        "import matplotlib.pyplot as plt\n",
        "\n",
        "from sklearn.model_selection import train_test_split, GridSearchCV, KFold\n",
        "from sklearn.metrics import confusion_matrix, classification_report, roc_auc_score, roc_curve\n",
        "from sklearn.tree import DecisionTreeClassifier\n",
        "from sklearn import tree\n",
        "from sklearn.naive_bayes import GaussianNB\n",
        "from sklearn import datasets\n",
        "from sklearn.inspection import permutation_importance"
      ],
      "metadata": {
        "id": "nh0bAgF3ATKj"
      },
      "execution_count": null,
      "outputs": []
    },
    {
      "cell_type": "code",
      "source": [
        "# Loading the dataset as instructed\n",
        "cancer_data=datasets.load_breast_cancer()\n",
        "cancer_df=pd.DataFrame(cancer_data.data, columns= cancer_data.feature_names)\n",
        "original_target= cancer_data.target\n",
        "new_target= 1 - original_target\n",
        "cancer_df['Y']= new_target"
      ],
      "metadata": {
        "id": "ok198kecNlOe"
      },
      "execution_count": null,
      "outputs": []
    },
    {
      "cell_type": "code",
      "source": [
        "cancer_df.info()"
      ],
      "metadata": {
        "colab": {
          "base_uri": "https://localhost:8080/"
        },
        "id": "Os5NwR1pAfKJ",
        "outputId": "2859c020-a048-403c-bbb7-d5a9249b9a74"
      },
      "execution_count": null,
      "outputs": [
        {
          "output_type": "stream",
          "name": "stdout",
          "text": [
            "<class 'pandas.core.frame.DataFrame'>\n",
            "RangeIndex: 569 entries, 0 to 568\n",
            "Data columns (total 31 columns):\n",
            " #   Column                   Non-Null Count  Dtype  \n",
            "---  ------                   --------------  -----  \n",
            " 0   mean radius              569 non-null    float64\n",
            " 1   mean texture             569 non-null    float64\n",
            " 2   mean perimeter           569 non-null    float64\n",
            " 3   mean area                569 non-null    float64\n",
            " 4   mean smoothness          569 non-null    float64\n",
            " 5   mean compactness         569 non-null    float64\n",
            " 6   mean concavity           569 non-null    float64\n",
            " 7   mean concave points      569 non-null    float64\n",
            " 8   mean symmetry            569 non-null    float64\n",
            " 9   mean fractal dimension   569 non-null    float64\n",
            " 10  radius error             569 non-null    float64\n",
            " 11  texture error            569 non-null    float64\n",
            " 12  perimeter error          569 non-null    float64\n",
            " 13  area error               569 non-null    float64\n",
            " 14  smoothness error         569 non-null    float64\n",
            " 15  compactness error        569 non-null    float64\n",
            " 16  concavity error          569 non-null    float64\n",
            " 17  concave points error     569 non-null    float64\n",
            " 18  symmetry error           569 non-null    float64\n",
            " 19  fractal dimension error  569 non-null    float64\n",
            " 20  worst radius             569 non-null    float64\n",
            " 21  worst texture            569 non-null    float64\n",
            " 22  worst perimeter          569 non-null    float64\n",
            " 23  worst area               569 non-null    float64\n",
            " 24  worst smoothness         569 non-null    float64\n",
            " 25  worst compactness        569 non-null    float64\n",
            " 26  worst concavity          569 non-null    float64\n",
            " 27  worst concave points     569 non-null    float64\n",
            " 28  worst symmetry           569 non-null    float64\n",
            " 29  worst fractal dimension  569 non-null    float64\n",
            " 30  Y                        569 non-null    int64  \n",
            "dtypes: float64(30), int64(1)\n",
            "memory usage: 137.9 KB\n"
          ]
        }
      ]
    },
    {
      "cell_type": "markdown",
      "source": [
        "##Question 1 (5 points)\n",
        "\n",
        "We have two piles of product X. The probability that one product selected from pile # 1 is defective is 0.2. The probability that one product selected from pile # 2 is defective is 0.1."
      ],
      "metadata": {
        "id": "zaeJSjLy-q_A"
      }
    },
    {
      "cell_type": "markdown",
      "source": [
        "###1 a) We inspect an item that was previously drawn from a pile (we do not know which pile) and we notice it is defective. What is the probability it was selected from pile 2? Show all your work.\n"
      ],
      "metadata": {
        "id": "DG4wt_5g-3hv"
      }
    },
    {
      "cell_type": "code",
      "source": [
        "# Conditional probabilities\n",
        "defective_pile_one = 0.2\n",
        "defective_pile_two = 0.1\n",
        "\n",
        "# Non-conditional probabilities\n",
        "item_defective_pile_one = 0.5\n",
        "item_defective_pile_two = 0.5\n",
        "\n",
        "# Combined probability of getting a defective item from either pile\n",
        "combined_probability = (defective_pile_one * item_defective_pile_one) + (defective_pile_two * item_defective_pile_two)\n",
        "\n",
        "# Use Baye's Theorem to find the probability that a defective item came from pile 2\n",
        "probability_pile_two_given_defective = (defective_pile_two * item_defective_pile_two) / combined_probability\n",
        "\n",
        "print(\"Probability that the defective product came from pile 2:\", probability_pile_two_given_defective)"
      ],
      "metadata": {
        "colab": {
          "base_uri": "https://localhost:8080/"
        },
        "id": "UiE-hLVAiBch",
        "outputId": "1758b483-3698-4587-f0a1-8e361b82ab18"
      },
      "execution_count": null,
      "outputs": [
        {
          "output_type": "stream",
          "name": "stdout",
          "text": [
            "Probability that the defective product came from pile 2: 0.3333333333333333\n"
          ]
        }
      ]
    },
    {
      "cell_type": "markdown",
      "source": [
        "#### 1a Response\n",
        "\n",
        "Probability that the defective item came from pile two is 0.33 or 33%\n",
        "\n",
        "\n",
        "\n",
        "\n",
        "\n"
      ],
      "metadata": {
        "id": "Qh4OvNCYO2Be"
      }
    },
    {
      "cell_type": "markdown",
      "source": [
        "###1 b)  Describe with words what these two statements mean:\n",
        "\n",
        "P (Defective |  Pile 1)\n",
        "\n",
        "P (Pile 2 | Non- defective)\n"
      ],
      "metadata": {
        "id": "K9WoY2V8-9Au"
      }
    },
    {
      "cell_type": "markdown",
      "source": [
        "####1b  Response\n",
        "\n",
        "P (Defective |  Pile 1) : The probability that a product is defective given that it comes from pile 1\n",
        "\n",
        "P (Pile 2 | Non- defective): The probability that the product came from pile 2 given that it is non-defective\n",
        "\n",
        "\n"
      ],
      "metadata": {
        "id": "jVpjHJq9PsZm"
      }
    },
    {
      "cell_type": "markdown",
      "source": [
        "##Question 2 (15 points)\n",
        "\n",
        "(include the answer to this question in the notebook too)\n",
        "\n",
        "The following figure shows a split done on predictor Xj at a cut off value of a.\n",
        "\n",
        "\n",
        "![Screenshot 2024-10-31 114018.png](data:image/png;base64,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)"
      ],
      "metadata": {
        "id": "jLwVRArX_GHw"
      }
    },
    {
      "cell_type": "markdown",
      "source": [
        "###2 a) Manually compute the error rate of the split (show all your work)."
      ],
      "metadata": {
        "id": "CM0TJY2H_LUO"
      }
    },
    {
      "cell_type": "code",
      "source": [
        "# Error rate for a split =  Average weighted error\n",
        "\n",
        "# Average weighted error = (Weight for left node * error rate for left node) + (weight for right node * error rate for right node)\n",
        "error_left_node = 4/11\n",
        "weight_left_node = 11/20\n",
        "\n",
        "weight_right_node = 9/20\n",
        "error_right_node =0/9\n",
        "\n",
        "average_weighted_error = (weight_left_node * error_left_node) + (weight_right_node * error_right_node)\n",
        "print(average_weighted_error)"
      ],
      "metadata": {
        "colab": {
          "base_uri": "https://localhost:8080/"
        },
        "id": "iqH78F_FrWqJ",
        "outputId": "ed2826a5-99e9-4ef5-cb28-48340d3b4737"
      },
      "execution_count": null,
      "outputs": [
        {
          "output_type": "stream",
          "name": "stdout",
          "text": [
            "0.2\n"
          ]
        }
      ]
    },
    {
      "cell_type": "markdown",
      "source": [
        "#### 2a Response\n",
        "\n",
        "The error rate for the split is 0.20 or 20%.\n",
        "\n"
      ],
      "metadata": {
        "id": "Ic8td4oBmTK7"
      }
    },
    {
      "cell_type": "markdown",
      "source": [
        "###2 a1) Based on the error rate of the split, decide whether the node should be split into two child nodes or left unsplit. Justify.\n"
      ],
      "metadata": {
        "id": "8FZ6tinv_QDh"
      }
    },
    {
      "cell_type": "markdown",
      "source": [
        "#### 2a1 Response\n",
        "\n",
        "If the level of purity of the two child nodes is higher than that of the parent node, then it is beneficial to split the parent node. In this case, the error rate before the split for the parent node, calculated as the proportion of instances of the minority class (\"No\") over the total instances, is 0.20. After the split, the weighted error rate for the two child nodes also calculates to 0.20. Since the error rate before and after the split is the same, this split does not improve the purity of the nodes. Therefore, splitting is unnecessary as it does not reduce the error rate or increase classification accuracy."
      ],
      "metadata": {
        "id": "cMwxvvQoPz88"
      }
    },
    {
      "cell_type": "markdown",
      "source": [
        "###2 b) Manually compute the entropy of the split (show all your work).  \n",
        "\n",
        "Do these features coincide with the features you reported in your answer to question 1b? Explain."
      ],
      "metadata": {
        "id": "MPns3_8t_UpU"
      }
    },
    {
      "cell_type": "markdown",
      "source": [
        "**Parent Node**:\n",
        "\n",
        "No = 4\n",
        "\n",
        "Yes = 16\n",
        "\n",
        "Total = 20\n",
        "\n",
        "\n",
        "**Left Child Node**:\n",
        "\n",
        "No = 4\n",
        "\n",
        "Yes = 7\n",
        "\n",
        "Total = 11\n",
        "\n",
        "**Right Child Node**:\n",
        "\n",
        "No  =0\n",
        "\n",
        "Yes = 9\n",
        "\n",
        "Total = 9\n",
        "\n",
        "\n",
        "Weighted Entropy = ( Total items/ Number of items in left node ) × Entropy of left node + ( Total items / Number of items in right node ) × Entropy of right node"
      ],
      "metadata": {
        "id": "UtRVVSFYeqsc"
      }
    },
    {
      "cell_type": "code",
      "source": [
        "# Entropy calculation for Parent Node\n",
        "parent_p0 = (4 / 20)  # proportion of \"No\"\n",
        "parent_p1 = (16 / 20)  # proportion of \"Yes\"\n",
        "\n",
        "entropy_parent = -((1 - parent_p1) * np.log2(1 - parent_p1)) - (parent_p1 * np.log2(parent_p1))\n",
        "\n",
        "print(\"Entropy of Parent Node:\", entropy_parent)"
      ],
      "metadata": {
        "colab": {
          "base_uri": "https://localhost:8080/"
        },
        "id": "nz5vN4amTW3z",
        "outputId": "90a18b52-56a6-48c2-eccf-cfb2427321d7"
      },
      "execution_count": null,
      "outputs": [
        {
          "output_type": "stream",
          "name": "stdout",
          "text": [
            "Entropy of Parent Node: 0.7219280948873623\n"
          ]
        }
      ]
    },
    {
      "cell_type": "code",
      "source": [
        "# Entropy calculation for Left Child Node\n",
        "left_p0 = (4 / 11)  # proportion of \"No\"\n",
        "left_p1 = (7 / 11)  # proportion of \"Yes\"\n",
        "\n",
        "entropy_left = -((1 - left_p1) * np.log2(1 - left_p1)) - (left_p1 * np.log2(left_p1))\n",
        "\n",
        "print(\"Entropy of Left Child Node:\", entropy_left)"
      ],
      "metadata": {
        "colab": {
          "base_uri": "https://localhost:8080/"
        },
        "id": "9SCzEqJ3T2Pf",
        "outputId": "d5a46c4d-bc03-4660-a21e-b83a80c23e5b"
      },
      "execution_count": null,
      "outputs": [
        {
          "output_type": "stream",
          "name": "stdout",
          "text": [
            "Entropy of Left Child Node: 0.9456603046006401\n"
          ]
        }
      ]
    },
    {
      "cell_type": "code",
      "source": [
        "# Entropy calculation for Right Child Node\n",
        "right_p0 = 0 / 9  # proportion of \"No\"\n",
        "right_p1 = 9 / 9  # proportion of \"Yes\"\n",
        "\n",
        "# Since the right node is completely pure, the right enthropy is 0\n",
        "\n",
        "# entropy_right = -((1 - right_p1) * log(1 - right_p1)) - (right_p1 * log(right_p1))\n",
        "# entropy_right = -((1 - 9/9) * log(1 - 9/9)) - (9/9 * log(9/9))\n",
        "# entropy_right = -((0) * log(0)) - (1 * log(1))\n",
        "# entropy_right = (0) - (0)\n",
        "entropy_right = 0\n",
        "\n",
        "print(\"Entropy of Right Child Node:\", entropy_right)"
      ],
      "metadata": {
        "colab": {
          "base_uri": "https://localhost:8080/"
        },
        "id": "fbBJCnPjUACX",
        "outputId": "e47b56eb-9ae5-4fd0-932b-130c3ab7553d"
      },
      "execution_count": null,
      "outputs": [
        {
          "output_type": "stream",
          "name": "stdout",
          "text": [
            "Entropy of Right Child Node: 0\n"
          ]
        }
      ]
    },
    {
      "cell_type": "code",
      "source": [
        "# Calculate the weighted entropy\n",
        "\n",
        "weighted_entropy = ((11 / 20) * entropy_left) + ((9 / 20) * entropy_right)\n",
        "print(\"Weighted Entropy:\", weighted_entropy)"
      ],
      "metadata": {
        "colab": {
          "base_uri": "https://localhost:8080/"
        },
        "id": "htDEzi-peIE1",
        "outputId": "8a62ed20-6c66-4e32-c944-6f76303401a1"
      },
      "execution_count": null,
      "outputs": [
        {
          "output_type": "stream",
          "name": "stdout",
          "text": [
            "Weighted Entropy: 0.5201131675303521\n"
          ]
        }
      ]
    },
    {
      "cell_type": "markdown",
      "source": [
        "#### 2b Response\n",
        "\n",
        "The weighted Entropy is 0.5201131675303521 or 0.52\n",
        "\n"
      ],
      "metadata": {
        "id": "oWLcmbzBQG5I"
      }
    },
    {
      "cell_type": "markdown",
      "source": [
        "###2 b1) Based on the entropy of the split, decide whether the node should be split into two child nodes or left unsplit. Justify.\n"
      ],
      "metadata": {
        "id": "ox1bMDjQQO0x"
      }
    },
    {
      "cell_type": "markdown",
      "source": [
        "#### 2b1 Response\n",
        "\n",
        "Since the entropy of the **split** (0.52) is lower than the entropy of the **unsplit parent node** (0.72), splitting the node reduces impurity. Based on the entropy, it would be beneficial to split the node into two child nodes, as it leads to a purer classification. The lower the entropy value, the purer the node.\n"
      ],
      "metadata": {
        "id": "qtMiDuPAQaU9"
      }
    },
    {
      "cell_type": "markdown",
      "source": [
        "##Question 3 (50 points)\n",
        "\n",
        "Obtain a classification tree to estimate the outcome variable in the Cancer dataset. Use the post-pruning strategy based on cost-complexity pruning via cross-validation.\n",
        "\n",
        "Consider the following requirements before applying the post-pruning strategy:\n",
        "\n",
        "*   You MUST use the exact same steps and code that we learned in class. If you do something differently, your question will be marked wrong with the following message: “Intentionally failed to adhere to instructions”.\n",
        "*   Split the data into 80% training and 20% testing.\n",
        "*   Use Entropy as the criterion to grow the tree."
      ],
      "metadata": {
        "id": "21P0S_Yi_iNk"
      }
    },
    {
      "cell_type": "code",
      "source": [
        "# Predictors\n",
        "x_cancer = cancer_df.drop ('Y', axis=1)"
      ],
      "metadata": {
        "id": "5FAg6OV8j6ek"
      },
      "execution_count": null,
      "outputs": []
    },
    {
      "cell_type": "code",
      "source": [
        "# Outcome\n",
        "y_cancer = cancer_df['Y']"
      ],
      "metadata": {
        "id": "f2i9pRvOj6W1"
      },
      "execution_count": null,
      "outputs": []
    },
    {
      "cell_type": "code",
      "source": [
        "# Data split 80/20\n",
        "x_train_cancer, x_test_cancer, y_train_cancer, y_test_cancer = train_test_split (x_cancer, y_cancer, test_size= 0.2, random_state= 1)"
      ],
      "metadata": {
        "id": "uISMyMLxj0g5"
      },
      "execution_count": null,
      "outputs": []
    },
    {
      "cell_type": "code",
      "source": [
        "# Unprunned tree with Enthropy\n",
        "tree_cancer_unpruned = DecisionTreeClassifier(criterion='entropy', random_state=1)"
      ],
      "metadata": {
        "id": "-QnBtYVX_xv8"
      },
      "execution_count": null,
      "outputs": []
    },
    {
      "cell_type": "code",
      "source": [
        "tree_cancer_unpruned.fit(x_train_cancer , y_train_cancer)"
      ],
      "metadata": {
        "colab": {
          "base_uri": "https://localhost:8080/",
          "height": 80
        },
        "id": "E8pxqkuxjnBM",
        "outputId": "a7ef4d39-5aea-4a89-dd52-1223317e0205"
      },
      "execution_count": null,
      "outputs": [
        {
          "output_type": "execute_result",
          "data": {
            "text/plain": [
              "DecisionTreeClassifier(criterion='entropy', random_state=1)"
            ],
            "text/html": [
              "<style>#sk-container-id-1 {\n",
              "  /* Definition of color scheme common for light and dark mode */\n",
              "  --sklearn-color-text: black;\n",
              "  --sklearn-color-line: gray;\n",
              "  /* Definition of color scheme for unfitted estimators */\n",
              "  --sklearn-color-unfitted-level-0: #fff5e6;\n",
              "  --sklearn-color-unfitted-level-1: #f6e4d2;\n",
              "  --sklearn-color-unfitted-level-2: #ffe0b3;\n",
              "  --sklearn-color-unfitted-level-3: chocolate;\n",
              "  /* Definition of color scheme for fitted estimators */\n",
              "  --sklearn-color-fitted-level-0: #f0f8ff;\n",
              "  --sklearn-color-fitted-level-1: #d4ebff;\n",
              "  --sklearn-color-fitted-level-2: #b3dbfd;\n",
              "  --sklearn-color-fitted-level-3: cornflowerblue;\n",
              "\n",
              "  /* Specific color for light theme */\n",
              "  --sklearn-color-text-on-default-background: var(--sg-text-color, var(--theme-code-foreground, var(--jp-content-font-color1, black)));\n",
              "  --sklearn-color-background: var(--sg-background-color, var(--theme-background, var(--jp-layout-color0, white)));\n",
              "  --sklearn-color-border-box: var(--sg-text-color, var(--theme-code-foreground, var(--jp-content-font-color1, black)));\n",
              "  --sklearn-color-icon: #696969;\n",
              "\n",
              "  @media (prefers-color-scheme: dark) {\n",
              "    /* Redefinition of color scheme for dark theme */\n",
              "    --sklearn-color-text-on-default-background: var(--sg-text-color, var(--theme-code-foreground, var(--jp-content-font-color1, white)));\n",
              "    --sklearn-color-background: var(--sg-background-color, var(--theme-background, var(--jp-layout-color0, #111)));\n",
              "    --sklearn-color-border-box: var(--sg-text-color, var(--theme-code-foreground, var(--jp-content-font-color1, white)));\n",
              "    --sklearn-color-icon: #878787;\n",
              "  }\n",
              "}\n",
              "\n",
              "#sk-container-id-1 {\n",
              "  color: var(--sklearn-color-text);\n",
              "}\n",
              "\n",
              "#sk-container-id-1 pre {\n",
              "  padding: 0;\n",
              "}\n",
              "\n",
              "#sk-container-id-1 input.sk-hidden--visually {\n",
              "  border: 0;\n",
              "  clip: rect(1px 1px 1px 1px);\n",
              "  clip: rect(1px, 1px, 1px, 1px);\n",
              "  height: 1px;\n",
              "  margin: -1px;\n",
              "  overflow: hidden;\n",
              "  padding: 0;\n",
              "  position: absolute;\n",
              "  width: 1px;\n",
              "}\n",
              "\n",
              "#sk-container-id-1 div.sk-dashed-wrapped {\n",
              "  border: 1px dashed var(--sklearn-color-line);\n",
              "  margin: 0 0.4em 0.5em 0.4em;\n",
              "  box-sizing: border-box;\n",
              "  padding-bottom: 0.4em;\n",
              "  background-color: var(--sklearn-color-background);\n",
              "}\n",
              "\n",
              "#sk-container-id-1 div.sk-container {\n",
              "  /* jupyter's `normalize.less` sets `[hidden] { display: none; }`\n",
              "     but bootstrap.min.css set `[hidden] { display: none !important; }`\n",
              "     so we also need the `!important` here to be able to override the\n",
              "     default hidden behavior on the sphinx rendered scikit-learn.org.\n",
              "     See: https://github.com/scikit-learn/scikit-learn/issues/21755 */\n",
              "  display: inline-block !important;\n",
              "  position: relative;\n",
              "}\n",
              "\n",
              "#sk-container-id-1 div.sk-text-repr-fallback {\n",
              "  display: none;\n",
              "}\n",
              "\n",
              "div.sk-parallel-item,\n",
              "div.sk-serial,\n",
              "div.sk-item {\n",
              "  /* draw centered vertical line to link estimators */\n",
              "  background-image: linear-gradient(var(--sklearn-color-text-on-default-background), var(--sklearn-color-text-on-default-background));\n",
              "  background-size: 2px 100%;\n",
              "  background-repeat: no-repeat;\n",
              "  background-position: center center;\n",
              "}\n",
              "\n",
              "/* Parallel-specific style estimator block */\n",
              "\n",
              "#sk-container-id-1 div.sk-parallel-item::after {\n",
              "  content: \"\";\n",
              "  width: 100%;\n",
              "  border-bottom: 2px solid var(--sklearn-color-text-on-default-background);\n",
              "  flex-grow: 1;\n",
              "}\n",
              "\n",
              "#sk-container-id-1 div.sk-parallel {\n",
              "  display: flex;\n",
              "  align-items: stretch;\n",
              "  justify-content: center;\n",
              "  background-color: var(--sklearn-color-background);\n",
              "  position: relative;\n",
              "}\n",
              "\n",
              "#sk-container-id-1 div.sk-parallel-item {\n",
              "  display: flex;\n",
              "  flex-direction: column;\n",
              "}\n",
              "\n",
              "#sk-container-id-1 div.sk-parallel-item:first-child::after {\n",
              "  align-self: flex-end;\n",
              "  width: 50%;\n",
              "}\n",
              "\n",
              "#sk-container-id-1 div.sk-parallel-item:last-child::after {\n",
              "  align-self: flex-start;\n",
              "  width: 50%;\n",
              "}\n",
              "\n",
              "#sk-container-id-1 div.sk-parallel-item:only-child::after {\n",
              "  width: 0;\n",
              "}\n",
              "\n",
              "/* Serial-specific style estimator block */\n",
              "\n",
              "#sk-container-id-1 div.sk-serial {\n",
              "  display: flex;\n",
              "  flex-direction: column;\n",
              "  align-items: center;\n",
              "  background-color: var(--sklearn-color-background);\n",
              "  padding-right: 1em;\n",
              "  padding-left: 1em;\n",
              "}\n",
              "\n",
              "\n",
              "/* Toggleable style: style used for estimator/Pipeline/ColumnTransformer box that is\n",
              "clickable and can be expanded/collapsed.\n",
              "- Pipeline and ColumnTransformer use this feature and define the default style\n",
              "- Estimators will overwrite some part of the style using the `sk-estimator` class\n",
              "*/\n",
              "\n",
              "/* Pipeline and ColumnTransformer style (default) */\n",
              "\n",
              "#sk-container-id-1 div.sk-toggleable {\n",
              "  /* Default theme specific background. It is overwritten whether we have a\n",
              "  specific estimator or a Pipeline/ColumnTransformer */\n",
              "  background-color: var(--sklearn-color-background);\n",
              "}\n",
              "\n",
              "/* Toggleable label */\n",
              "#sk-container-id-1 label.sk-toggleable__label {\n",
              "  cursor: pointer;\n",
              "  display: block;\n",
              "  width: 100%;\n",
              "  margin-bottom: 0;\n",
              "  padding: 0.5em;\n",
              "  box-sizing: border-box;\n",
              "  text-align: center;\n",
              "}\n",
              "\n",
              "#sk-container-id-1 label.sk-toggleable__label-arrow:before {\n",
              "  /* Arrow on the left of the label */\n",
              "  content: \"▸\";\n",
              "  float: left;\n",
              "  margin-right: 0.25em;\n",
              "  color: var(--sklearn-color-icon);\n",
              "}\n",
              "\n",
              "#sk-container-id-1 label.sk-toggleable__label-arrow:hover:before {\n",
              "  color: var(--sklearn-color-text);\n",
              "}\n",
              "\n",
              "/* Toggleable content - dropdown */\n",
              "\n",
              "#sk-container-id-1 div.sk-toggleable__content {\n",
              "  max-height: 0;\n",
              "  max-width: 0;\n",
              "  overflow: hidden;\n",
              "  text-align: left;\n",
              "  /* unfitted */\n",
              "  background-color: var(--sklearn-color-unfitted-level-0);\n",
              "}\n",
              "\n",
              "#sk-container-id-1 div.sk-toggleable__content.fitted {\n",
              "  /* fitted */\n",
              "  background-color: var(--sklearn-color-fitted-level-0);\n",
              "}\n",
              "\n",
              "#sk-container-id-1 div.sk-toggleable__content pre {\n",
              "  margin: 0.2em;\n",
              "  border-radius: 0.25em;\n",
              "  color: var(--sklearn-color-text);\n",
              "  /* unfitted */\n",
              "  background-color: var(--sklearn-color-unfitted-level-0);\n",
              "}\n",
              "\n",
              "#sk-container-id-1 div.sk-toggleable__content.fitted pre {\n",
              "  /* unfitted */\n",
              "  background-color: var(--sklearn-color-fitted-level-0);\n",
              "}\n",
              "\n",
              "#sk-container-id-1 input.sk-toggleable__control:checked~div.sk-toggleable__content {\n",
              "  /* Expand drop-down */\n",
              "  max-height: 200px;\n",
              "  max-width: 100%;\n",
              "  overflow: auto;\n",
              "}\n",
              "\n",
              "#sk-container-id-1 input.sk-toggleable__control:checked~label.sk-toggleable__label-arrow:before {\n",
              "  content: \"▾\";\n",
              "}\n",
              "\n",
              "/* Pipeline/ColumnTransformer-specific style */\n",
              "\n",
              "#sk-container-id-1 div.sk-label input.sk-toggleable__control:checked~label.sk-toggleable__label {\n",
              "  color: var(--sklearn-color-text);\n",
              "  background-color: var(--sklearn-color-unfitted-level-2);\n",
              "}\n",
              "\n",
              "#sk-container-id-1 div.sk-label.fitted input.sk-toggleable__control:checked~label.sk-toggleable__label {\n",
              "  background-color: var(--sklearn-color-fitted-level-2);\n",
              "}\n",
              "\n",
              "/* Estimator-specific style */\n",
              "\n",
              "/* Colorize estimator box */\n",
              "#sk-container-id-1 div.sk-estimator input.sk-toggleable__control:checked~label.sk-toggleable__label {\n",
              "  /* unfitted */\n",
              "  background-color: var(--sklearn-color-unfitted-level-2);\n",
              "}\n",
              "\n",
              "#sk-container-id-1 div.sk-estimator.fitted input.sk-toggleable__control:checked~label.sk-toggleable__label {\n",
              "  /* fitted */\n",
              "  background-color: var(--sklearn-color-fitted-level-2);\n",
              "}\n",
              "\n",
              "#sk-container-id-1 div.sk-label label.sk-toggleable__label,\n",
              "#sk-container-id-1 div.sk-label label {\n",
              "  /* The background is the default theme color */\n",
              "  color: var(--sklearn-color-text-on-default-background);\n",
              "}\n",
              "\n",
              "/* On hover, darken the color of the background */\n",
              "#sk-container-id-1 div.sk-label:hover label.sk-toggleable__label {\n",
              "  color: var(--sklearn-color-text);\n",
              "  background-color: var(--sklearn-color-unfitted-level-2);\n",
              "}\n",
              "\n",
              "/* Label box, darken color on hover, fitted */\n",
              "#sk-container-id-1 div.sk-label.fitted:hover label.sk-toggleable__label.fitted {\n",
              "  color: var(--sklearn-color-text);\n",
              "  background-color: var(--sklearn-color-fitted-level-2);\n",
              "}\n",
              "\n",
              "/* Estimator label */\n",
              "\n",
              "#sk-container-id-1 div.sk-label label {\n",
              "  font-family: monospace;\n",
              "  font-weight: bold;\n",
              "  display: inline-block;\n",
              "  line-height: 1.2em;\n",
              "}\n",
              "\n",
              "#sk-container-id-1 div.sk-label-container {\n",
              "  text-align: center;\n",
              "}\n",
              "\n",
              "/* Estimator-specific */\n",
              "#sk-container-id-1 div.sk-estimator {\n",
              "  font-family: monospace;\n",
              "  border: 1px dotted var(--sklearn-color-border-box);\n",
              "  border-radius: 0.25em;\n",
              "  box-sizing: border-box;\n",
              "  margin-bottom: 0.5em;\n",
              "  /* unfitted */\n",
              "  background-color: var(--sklearn-color-unfitted-level-0);\n",
              "}\n",
              "\n",
              "#sk-container-id-1 div.sk-estimator.fitted {\n",
              "  /* fitted */\n",
              "  background-color: var(--sklearn-color-fitted-level-0);\n",
              "}\n",
              "\n",
              "/* on hover */\n",
              "#sk-container-id-1 div.sk-estimator:hover {\n",
              "  /* unfitted */\n",
              "  background-color: var(--sklearn-color-unfitted-level-2);\n",
              "}\n",
              "\n",
              "#sk-container-id-1 div.sk-estimator.fitted:hover {\n",
              "  /* fitted */\n",
              "  background-color: var(--sklearn-color-fitted-level-2);\n",
              "}\n",
              "\n",
              "/* Specification for estimator info (e.g. \"i\" and \"?\") */\n",
              "\n",
              "/* Common style for \"i\" and \"?\" */\n",
              "\n",
              ".sk-estimator-doc-link,\n",
              "a:link.sk-estimator-doc-link,\n",
              "a:visited.sk-estimator-doc-link {\n",
              "  float: right;\n",
              "  font-size: smaller;\n",
              "  line-height: 1em;\n",
              "  font-family: monospace;\n",
              "  background-color: var(--sklearn-color-background);\n",
              "  border-radius: 1em;\n",
              "  height: 1em;\n",
              "  width: 1em;\n",
              "  text-decoration: none !important;\n",
              "  margin-left: 1ex;\n",
              "  /* unfitted */\n",
              "  border: var(--sklearn-color-unfitted-level-1) 1pt solid;\n",
              "  color: var(--sklearn-color-unfitted-level-1);\n",
              "}\n",
              "\n",
              ".sk-estimator-doc-link.fitted,\n",
              "a:link.sk-estimator-doc-link.fitted,\n",
              "a:visited.sk-estimator-doc-link.fitted {\n",
              "  /* fitted */\n",
              "  border: var(--sklearn-color-fitted-level-1) 1pt solid;\n",
              "  color: var(--sklearn-color-fitted-level-1);\n",
              "}\n",
              "\n",
              "/* On hover */\n",
              "div.sk-estimator:hover .sk-estimator-doc-link:hover,\n",
              ".sk-estimator-doc-link:hover,\n",
              "div.sk-label-container:hover .sk-estimator-doc-link:hover,\n",
              ".sk-estimator-doc-link:hover {\n",
              "  /* unfitted */\n",
              "  background-color: var(--sklearn-color-unfitted-level-3);\n",
              "  color: var(--sklearn-color-background);\n",
              "  text-decoration: none;\n",
              "}\n",
              "\n",
              "div.sk-estimator.fitted:hover .sk-estimator-doc-link.fitted:hover,\n",
              ".sk-estimator-doc-link.fitted:hover,\n",
              "div.sk-label-container:hover .sk-estimator-doc-link.fitted:hover,\n",
              ".sk-estimator-doc-link.fitted:hover {\n",
              "  /* fitted */\n",
              "  background-color: var(--sklearn-color-fitted-level-3);\n",
              "  color: var(--sklearn-color-background);\n",
              "  text-decoration: none;\n",
              "}\n",
              "\n",
              "/* Span, style for the box shown on hovering the info icon */\n",
              ".sk-estimator-doc-link span {\n",
              "  display: none;\n",
              "  z-index: 9999;\n",
              "  position: relative;\n",
              "  font-weight: normal;\n",
              "  right: .2ex;\n",
              "  padding: .5ex;\n",
              "  margin: .5ex;\n",
              "  width: min-content;\n",
              "  min-width: 20ex;\n",
              "  max-width: 50ex;\n",
              "  color: var(--sklearn-color-text);\n",
              "  box-shadow: 2pt 2pt 4pt #999;\n",
              "  /* unfitted */\n",
              "  background: var(--sklearn-color-unfitted-level-0);\n",
              "  border: .5pt solid var(--sklearn-color-unfitted-level-3);\n",
              "}\n",
              "\n",
              ".sk-estimator-doc-link.fitted span {\n",
              "  /* fitted */\n",
              "  background: var(--sklearn-color-fitted-level-0);\n",
              "  border: var(--sklearn-color-fitted-level-3);\n",
              "}\n",
              "\n",
              ".sk-estimator-doc-link:hover span {\n",
              "  display: block;\n",
              "}\n",
              "\n",
              "/* \"?\"-specific style due to the `<a>` HTML tag */\n",
              "\n",
              "#sk-container-id-1 a.estimator_doc_link {\n",
              "  float: right;\n",
              "  font-size: 1rem;\n",
              "  line-height: 1em;\n",
              "  font-family: monospace;\n",
              "  background-color: var(--sklearn-color-background);\n",
              "  border-radius: 1rem;\n",
              "  height: 1rem;\n",
              "  width: 1rem;\n",
              "  text-decoration: none;\n",
              "  /* unfitted */\n",
              "  color: var(--sklearn-color-unfitted-level-1);\n",
              "  border: var(--sklearn-color-unfitted-level-1) 1pt solid;\n",
              "}\n",
              "\n",
              "#sk-container-id-1 a.estimator_doc_link.fitted {\n",
              "  /* fitted */\n",
              "  border: var(--sklearn-color-fitted-level-1) 1pt solid;\n",
              "  color: var(--sklearn-color-fitted-level-1);\n",
              "}\n",
              "\n",
              "/* On hover */\n",
              "#sk-container-id-1 a.estimator_doc_link:hover {\n",
              "  /* unfitted */\n",
              "  background-color: var(--sklearn-color-unfitted-level-3);\n",
              "  color: var(--sklearn-color-background);\n",
              "  text-decoration: none;\n",
              "}\n",
              "\n",
              "#sk-container-id-1 a.estimator_doc_link.fitted:hover {\n",
              "  /* fitted */\n",
              "  background-color: var(--sklearn-color-fitted-level-3);\n",
              "}\n",
              "</style><div id=\"sk-container-id-1\" class=\"sk-top-container\"><div class=\"sk-text-repr-fallback\"><pre>DecisionTreeClassifier(criterion=&#x27;entropy&#x27;, random_state=1)</pre><b>In a Jupyter environment, please rerun this cell to show the HTML representation or trust the notebook. <br />On GitHub, the HTML representation is unable to render, please try loading this page with nbviewer.org.</b></div><div class=\"sk-container\" hidden><div class=\"sk-item\"><div class=\"sk-estimator fitted sk-toggleable\"><input class=\"sk-toggleable__control sk-hidden--visually\" id=\"sk-estimator-id-1\" type=\"checkbox\" checked><label for=\"sk-estimator-id-1\" class=\"sk-toggleable__label fitted sk-toggleable__label-arrow fitted\">&nbsp;&nbsp;DecisionTreeClassifier<a class=\"sk-estimator-doc-link fitted\" rel=\"noreferrer\" target=\"_blank\" href=\"https://scikit-learn.org/1.5/modules/generated/sklearn.tree.DecisionTreeClassifier.html\">?<span>Documentation for DecisionTreeClassifier</span></a><span class=\"sk-estimator-doc-link fitted\">i<span>Fitted</span></span></label><div class=\"sk-toggleable__content fitted\"><pre>DecisionTreeClassifier(criterion=&#x27;entropy&#x27;, random_state=1)</pre></div> </div></div></div></div>"
            ]
          },
          "metadata": {},
          "execution_count": 47
        }
      ]
    },
    {
      "cell_type": "code",
      "source": [
        "# Cost Complexity Prunning\n",
        "ccp_path_cancer = tree_cancer_unpruned.cost_complexity_pruning_path(x_train_cancer, y_train_cancer)"
      ],
      "metadata": {
        "id": "1uvj1pCt_xl_"
      },
      "execution_count": null,
      "outputs": []
    },
    {
      "cell_type": "code",
      "source": [
        "hyperparam_grid_alpha_cancer = { 'ccp_alpha': ccp_path_cancer.ccp_alphas}"
      ],
      "metadata": {
        "id": "NDM2VXF6i4Zy"
      },
      "execution_count": null,
      "outputs": []
    },
    {
      "cell_type": "code",
      "source": [
        "# Cross Validation Object\n",
        "cv_object_cancer = KFold (n_splits= 10 , shuffle= True, random_state= 1)"
      ],
      "metadata": {
        "id": "2EC4Q0Btkz2D"
      },
      "execution_count": null,
      "outputs": []
    },
    {
      "cell_type": "code",
      "source": [
        "gridSearch_alpha_cancer = GridSearchCV(tree_cancer_unpruned, hyperparam_grid_alpha_cancer,  cv= cv_object_cancer , scoring='accuracy', n_jobs= -1)"
      ],
      "metadata": {
        "id": "PqvDS9R7i5-N"
      },
      "execution_count": null,
      "outputs": []
    },
    {
      "cell_type": "code",
      "source": [
        "gridSearch_alpha_cancer.fit(x_train_cancer, y_train_cancer)"
      ],
      "metadata": {
        "colab": {
          "base_uri": "https://localhost:8080/",
          "height": 135
        },
        "id": "KlRNB3lMi73C",
        "outputId": "022f3b7a-9fa6-4ec2-a176-f1eb6ee01643"
      },
      "execution_count": null,
      "outputs": [
        {
          "output_type": "execute_result",
          "data": {
            "text/plain": [
              "GridSearchCV(cv=KFold(n_splits=10, random_state=1, shuffle=True),\n",
              "             estimator=DecisionTreeClassifier(criterion='entropy',\n",
              "                                              random_state=1),\n",
              "             n_jobs=-1,\n",
              "             param_grid={'ccp_alpha': array([0.        , 0.0060547 , 0.0060547 , 0.00713212, 0.00820953,\n",
              "       0.00879121, 0.0116038 , 0.01327878, 0.01330655, 0.01464224,\n",
              "       0.01605048, 0.01699471, 0.02510488, 0.03873803, 0.05162636,\n",
              "       0.10507124, 0.61075655])},\n",
              "             scoring='accuracy')"
            ],
            "text/html": [
              "<style>#sk-container-id-2 {\n",
              "  /* Definition of color scheme common for light and dark mode */\n",
              "  --sklearn-color-text: black;\n",
              "  --sklearn-color-line: gray;\n",
              "  /* Definition of color scheme for unfitted estimators */\n",
              "  --sklearn-color-unfitted-level-0: #fff5e6;\n",
              "  --sklearn-color-unfitted-level-1: #f6e4d2;\n",
              "  --sklearn-color-unfitted-level-2: #ffe0b3;\n",
              "  --sklearn-color-unfitted-level-3: chocolate;\n",
              "  /* Definition of color scheme for fitted estimators */\n",
              "  --sklearn-color-fitted-level-0: #f0f8ff;\n",
              "  --sklearn-color-fitted-level-1: #d4ebff;\n",
              "  --sklearn-color-fitted-level-2: #b3dbfd;\n",
              "  --sklearn-color-fitted-level-3: cornflowerblue;\n",
              "\n",
              "  /* Specific color for light theme */\n",
              "  --sklearn-color-text-on-default-background: var(--sg-text-color, var(--theme-code-foreground, var(--jp-content-font-color1, black)));\n",
              "  --sklearn-color-background: var(--sg-background-color, var(--theme-background, var(--jp-layout-color0, white)));\n",
              "  --sklearn-color-border-box: var(--sg-text-color, var(--theme-code-foreground, var(--jp-content-font-color1, black)));\n",
              "  --sklearn-color-icon: #696969;\n",
              "\n",
              "  @media (prefers-color-scheme: dark) {\n",
              "    /* Redefinition of color scheme for dark theme */\n",
              "    --sklearn-color-text-on-default-background: var(--sg-text-color, var(--theme-code-foreground, var(--jp-content-font-color1, white)));\n",
              "    --sklearn-color-background: var(--sg-background-color, var(--theme-background, var(--jp-layout-color0, #111)));\n",
              "    --sklearn-color-border-box: var(--sg-text-color, var(--theme-code-foreground, var(--jp-content-font-color1, white)));\n",
              "    --sklearn-color-icon: #878787;\n",
              "  }\n",
              "}\n",
              "\n",
              "#sk-container-id-2 {\n",
              "  color: var(--sklearn-color-text);\n",
              "}\n",
              "\n",
              "#sk-container-id-2 pre {\n",
              "  padding: 0;\n",
              "}\n",
              "\n",
              "#sk-container-id-2 input.sk-hidden--visually {\n",
              "  border: 0;\n",
              "  clip: rect(1px 1px 1px 1px);\n",
              "  clip: rect(1px, 1px, 1px, 1px);\n",
              "  height: 1px;\n",
              "  margin: -1px;\n",
              "  overflow: hidden;\n",
              "  padding: 0;\n",
              "  position: absolute;\n",
              "  width: 1px;\n",
              "}\n",
              "\n",
              "#sk-container-id-2 div.sk-dashed-wrapped {\n",
              "  border: 1px dashed var(--sklearn-color-line);\n",
              "  margin: 0 0.4em 0.5em 0.4em;\n",
              "  box-sizing: border-box;\n",
              "  padding-bottom: 0.4em;\n",
              "  background-color: var(--sklearn-color-background);\n",
              "}\n",
              "\n",
              "#sk-container-id-2 div.sk-container {\n",
              "  /* jupyter's `normalize.less` sets `[hidden] { display: none; }`\n",
              "     but bootstrap.min.css set `[hidden] { display: none !important; }`\n",
              "     so we also need the `!important` here to be able to override the\n",
              "     default hidden behavior on the sphinx rendered scikit-learn.org.\n",
              "     See: https://github.com/scikit-learn/scikit-learn/issues/21755 */\n",
              "  display: inline-block !important;\n",
              "  position: relative;\n",
              "}\n",
              "\n",
              "#sk-container-id-2 div.sk-text-repr-fallback {\n",
              "  display: none;\n",
              "}\n",
              "\n",
              "div.sk-parallel-item,\n",
              "div.sk-serial,\n",
              "div.sk-item {\n",
              "  /* draw centered vertical line to link estimators */\n",
              "  background-image: linear-gradient(var(--sklearn-color-text-on-default-background), var(--sklearn-color-text-on-default-background));\n",
              "  background-size: 2px 100%;\n",
              "  background-repeat: no-repeat;\n",
              "  background-position: center center;\n",
              "}\n",
              "\n",
              "/* Parallel-specific style estimator block */\n",
              "\n",
              "#sk-container-id-2 div.sk-parallel-item::after {\n",
              "  content: \"\";\n",
              "  width: 100%;\n",
              "  border-bottom: 2px solid var(--sklearn-color-text-on-default-background);\n",
              "  flex-grow: 1;\n",
              "}\n",
              "\n",
              "#sk-container-id-2 div.sk-parallel {\n",
              "  display: flex;\n",
              "  align-items: stretch;\n",
              "  justify-content: center;\n",
              "  background-color: var(--sklearn-color-background);\n",
              "  position: relative;\n",
              "}\n",
              "\n",
              "#sk-container-id-2 div.sk-parallel-item {\n",
              "  display: flex;\n",
              "  flex-direction: column;\n",
              "}\n",
              "\n",
              "#sk-container-id-2 div.sk-parallel-item:first-child::after {\n",
              "  align-self: flex-end;\n",
              "  width: 50%;\n",
              "}\n",
              "\n",
              "#sk-container-id-2 div.sk-parallel-item:last-child::after {\n",
              "  align-self: flex-start;\n",
              "  width: 50%;\n",
              "}\n",
              "\n",
              "#sk-container-id-2 div.sk-parallel-item:only-child::after {\n",
              "  width: 0;\n",
              "}\n",
              "\n",
              "/* Serial-specific style estimator block */\n",
              "\n",
              "#sk-container-id-2 div.sk-serial {\n",
              "  display: flex;\n",
              "  flex-direction: column;\n",
              "  align-items: center;\n",
              "  background-color: var(--sklearn-color-background);\n",
              "  padding-right: 1em;\n",
              "  padding-left: 1em;\n",
              "}\n",
              "\n",
              "\n",
              "/* Toggleable style: style used for estimator/Pipeline/ColumnTransformer box that is\n",
              "clickable and can be expanded/collapsed.\n",
              "- Pipeline and ColumnTransformer use this feature and define the default style\n",
              "- Estimators will overwrite some part of the style using the `sk-estimator` class\n",
              "*/\n",
              "\n",
              "/* Pipeline and ColumnTransformer style (default) */\n",
              "\n",
              "#sk-container-id-2 div.sk-toggleable {\n",
              "  /* Default theme specific background. It is overwritten whether we have a\n",
              "  specific estimator or a Pipeline/ColumnTransformer */\n",
              "  background-color: var(--sklearn-color-background);\n",
              "}\n",
              "\n",
              "/* Toggleable label */\n",
              "#sk-container-id-2 label.sk-toggleable__label {\n",
              "  cursor: pointer;\n",
              "  display: block;\n",
              "  width: 100%;\n",
              "  margin-bottom: 0;\n",
              "  padding: 0.5em;\n",
              "  box-sizing: border-box;\n",
              "  text-align: center;\n",
              "}\n",
              "\n",
              "#sk-container-id-2 label.sk-toggleable__label-arrow:before {\n",
              "  /* Arrow on the left of the label */\n",
              "  content: \"▸\";\n",
              "  float: left;\n",
              "  margin-right: 0.25em;\n",
              "  color: var(--sklearn-color-icon);\n",
              "}\n",
              "\n",
              "#sk-container-id-2 label.sk-toggleable__label-arrow:hover:before {\n",
              "  color: var(--sklearn-color-text);\n",
              "}\n",
              "\n",
              "/* Toggleable content - dropdown */\n",
              "\n",
              "#sk-container-id-2 div.sk-toggleable__content {\n",
              "  max-height: 0;\n",
              "  max-width: 0;\n",
              "  overflow: hidden;\n",
              "  text-align: left;\n",
              "  /* unfitted */\n",
              "  background-color: var(--sklearn-color-unfitted-level-0);\n",
              "}\n",
              "\n",
              "#sk-container-id-2 div.sk-toggleable__content.fitted {\n",
              "  /* fitted */\n",
              "  background-color: var(--sklearn-color-fitted-level-0);\n",
              "}\n",
              "\n",
              "#sk-container-id-2 div.sk-toggleable__content pre {\n",
              "  margin: 0.2em;\n",
              "  border-radius: 0.25em;\n",
              "  color: var(--sklearn-color-text);\n",
              "  /* unfitted */\n",
              "  background-color: var(--sklearn-color-unfitted-level-0);\n",
              "}\n",
              "\n",
              "#sk-container-id-2 div.sk-toggleable__content.fitted pre {\n",
              "  /* unfitted */\n",
              "  background-color: var(--sklearn-color-fitted-level-0);\n",
              "}\n",
              "\n",
              "#sk-container-id-2 input.sk-toggleable__control:checked~div.sk-toggleable__content {\n",
              "  /* Expand drop-down */\n",
              "  max-height: 200px;\n",
              "  max-width: 100%;\n",
              "  overflow: auto;\n",
              "}\n",
              "\n",
              "#sk-container-id-2 input.sk-toggleable__control:checked~label.sk-toggleable__label-arrow:before {\n",
              "  content: \"▾\";\n",
              "}\n",
              "\n",
              "/* Pipeline/ColumnTransformer-specific style */\n",
              "\n",
              "#sk-container-id-2 div.sk-label input.sk-toggleable__control:checked~label.sk-toggleable__label {\n",
              "  color: var(--sklearn-color-text);\n",
              "  background-color: var(--sklearn-color-unfitted-level-2);\n",
              "}\n",
              "\n",
              "#sk-container-id-2 div.sk-label.fitted input.sk-toggleable__control:checked~label.sk-toggleable__label {\n",
              "  background-color: var(--sklearn-color-fitted-level-2);\n",
              "}\n",
              "\n",
              "/* Estimator-specific style */\n",
              "\n",
              "/* Colorize estimator box */\n",
              "#sk-container-id-2 div.sk-estimator input.sk-toggleable__control:checked~label.sk-toggleable__label {\n",
              "  /* unfitted */\n",
              "  background-color: var(--sklearn-color-unfitted-level-2);\n",
              "}\n",
              "\n",
              "#sk-container-id-2 div.sk-estimator.fitted input.sk-toggleable__control:checked~label.sk-toggleable__label {\n",
              "  /* fitted */\n",
              "  background-color: var(--sklearn-color-fitted-level-2);\n",
              "}\n",
              "\n",
              "#sk-container-id-2 div.sk-label label.sk-toggleable__label,\n",
              "#sk-container-id-2 div.sk-label label {\n",
              "  /* The background is the default theme color */\n",
              "  color: var(--sklearn-color-text-on-default-background);\n",
              "}\n",
              "\n",
              "/* On hover, darken the color of the background */\n",
              "#sk-container-id-2 div.sk-label:hover label.sk-toggleable__label {\n",
              "  color: var(--sklearn-color-text);\n",
              "  background-color: var(--sklearn-color-unfitted-level-2);\n",
              "}\n",
              "\n",
              "/* Label box, darken color on hover, fitted */\n",
              "#sk-container-id-2 div.sk-label.fitted:hover label.sk-toggleable__label.fitted {\n",
              "  color: var(--sklearn-color-text);\n",
              "  background-color: var(--sklearn-color-fitted-level-2);\n",
              "}\n",
              "\n",
              "/* Estimator label */\n",
              "\n",
              "#sk-container-id-2 div.sk-label label {\n",
              "  font-family: monospace;\n",
              "  font-weight: bold;\n",
              "  display: inline-block;\n",
              "  line-height: 1.2em;\n",
              "}\n",
              "\n",
              "#sk-container-id-2 div.sk-label-container {\n",
              "  text-align: center;\n",
              "}\n",
              "\n",
              "/* Estimator-specific */\n",
              "#sk-container-id-2 div.sk-estimator {\n",
              "  font-family: monospace;\n",
              "  border: 1px dotted var(--sklearn-color-border-box);\n",
              "  border-radius: 0.25em;\n",
              "  box-sizing: border-box;\n",
              "  margin-bottom: 0.5em;\n",
              "  /* unfitted */\n",
              "  background-color: var(--sklearn-color-unfitted-level-0);\n",
              "}\n",
              "\n",
              "#sk-container-id-2 div.sk-estimator.fitted {\n",
              "  /* fitted */\n",
              "  background-color: var(--sklearn-color-fitted-level-0);\n",
              "}\n",
              "\n",
              "/* on hover */\n",
              "#sk-container-id-2 div.sk-estimator:hover {\n",
              "  /* unfitted */\n",
              "  background-color: var(--sklearn-color-unfitted-level-2);\n",
              "}\n",
              "\n",
              "#sk-container-id-2 div.sk-estimator.fitted:hover {\n",
              "  /* fitted */\n",
              "  background-color: var(--sklearn-color-fitted-level-2);\n",
              "}\n",
              "\n",
              "/* Specification for estimator info (e.g. \"i\" and \"?\") */\n",
              "\n",
              "/* Common style for \"i\" and \"?\" */\n",
              "\n",
              ".sk-estimator-doc-link,\n",
              "a:link.sk-estimator-doc-link,\n",
              "a:visited.sk-estimator-doc-link {\n",
              "  float: right;\n",
              "  font-size: smaller;\n",
              "  line-height: 1em;\n",
              "  font-family: monospace;\n",
              "  background-color: var(--sklearn-color-background);\n",
              "  border-radius: 1em;\n",
              "  height: 1em;\n",
              "  width: 1em;\n",
              "  text-decoration: none !important;\n",
              "  margin-left: 1ex;\n",
              "  /* unfitted */\n",
              "  border: var(--sklearn-color-unfitted-level-1) 1pt solid;\n",
              "  color: var(--sklearn-color-unfitted-level-1);\n",
              "}\n",
              "\n",
              ".sk-estimator-doc-link.fitted,\n",
              "a:link.sk-estimator-doc-link.fitted,\n",
              "a:visited.sk-estimator-doc-link.fitted {\n",
              "  /* fitted */\n",
              "  border: var(--sklearn-color-fitted-level-1) 1pt solid;\n",
              "  color: var(--sklearn-color-fitted-level-1);\n",
              "}\n",
              "\n",
              "/* On hover */\n",
              "div.sk-estimator:hover .sk-estimator-doc-link:hover,\n",
              ".sk-estimator-doc-link:hover,\n",
              "div.sk-label-container:hover .sk-estimator-doc-link:hover,\n",
              ".sk-estimator-doc-link:hover {\n",
              "  /* unfitted */\n",
              "  background-color: var(--sklearn-color-unfitted-level-3);\n",
              "  color: var(--sklearn-color-background);\n",
              "  text-decoration: none;\n",
              "}\n",
              "\n",
              "div.sk-estimator.fitted:hover .sk-estimator-doc-link.fitted:hover,\n",
              ".sk-estimator-doc-link.fitted:hover,\n",
              "div.sk-label-container:hover .sk-estimator-doc-link.fitted:hover,\n",
              ".sk-estimator-doc-link.fitted:hover {\n",
              "  /* fitted */\n",
              "  background-color: var(--sklearn-color-fitted-level-3);\n",
              "  color: var(--sklearn-color-background);\n",
              "  text-decoration: none;\n",
              "}\n",
              "\n",
              "/* Span, style for the box shown on hovering the info icon */\n",
              ".sk-estimator-doc-link span {\n",
              "  display: none;\n",
              "  z-index: 9999;\n",
              "  position: relative;\n",
              "  font-weight: normal;\n",
              "  right: .2ex;\n",
              "  padding: .5ex;\n",
              "  margin: .5ex;\n",
              "  width: min-content;\n",
              "  min-width: 20ex;\n",
              "  max-width: 50ex;\n",
              "  color: var(--sklearn-color-text);\n",
              "  box-shadow: 2pt 2pt 4pt #999;\n",
              "  /* unfitted */\n",
              "  background: var(--sklearn-color-unfitted-level-0);\n",
              "  border: .5pt solid var(--sklearn-color-unfitted-level-3);\n",
              "}\n",
              "\n",
              ".sk-estimator-doc-link.fitted span {\n",
              "  /* fitted */\n",
              "  background: var(--sklearn-color-fitted-level-0);\n",
              "  border: var(--sklearn-color-fitted-level-3);\n",
              "}\n",
              "\n",
              ".sk-estimator-doc-link:hover span {\n",
              "  display: block;\n",
              "}\n",
              "\n",
              "/* \"?\"-specific style due to the `<a>` HTML tag */\n",
              "\n",
              "#sk-container-id-2 a.estimator_doc_link {\n",
              "  float: right;\n",
              "  font-size: 1rem;\n",
              "  line-height: 1em;\n",
              "  font-family: monospace;\n",
              "  background-color: var(--sklearn-color-background);\n",
              "  border-radius: 1rem;\n",
              "  height: 1rem;\n",
              "  width: 1rem;\n",
              "  text-decoration: none;\n",
              "  /* unfitted */\n",
              "  color: var(--sklearn-color-unfitted-level-1);\n",
              "  border: var(--sklearn-color-unfitted-level-1) 1pt solid;\n",
              "}\n",
              "\n",
              "#sk-container-id-2 a.estimator_doc_link.fitted {\n",
              "  /* fitted */\n",
              "  border: var(--sklearn-color-fitted-level-1) 1pt solid;\n",
              "  color: var(--sklearn-color-fitted-level-1);\n",
              "}\n",
              "\n",
              "/* On hover */\n",
              "#sk-container-id-2 a.estimator_doc_link:hover {\n",
              "  /* unfitted */\n",
              "  background-color: var(--sklearn-color-unfitted-level-3);\n",
              "  color: var(--sklearn-color-background);\n",
              "  text-decoration: none;\n",
              "}\n",
              "\n",
              "#sk-container-id-2 a.estimator_doc_link.fitted:hover {\n",
              "  /* fitted */\n",
              "  background-color: var(--sklearn-color-fitted-level-3);\n",
              "}\n",
              "</style><div id=\"sk-container-id-2\" class=\"sk-top-container\"><div class=\"sk-text-repr-fallback\"><pre>GridSearchCV(cv=KFold(n_splits=10, random_state=1, shuffle=True),\n",
              "             estimator=DecisionTreeClassifier(criterion=&#x27;entropy&#x27;,\n",
              "                                              random_state=1),\n",
              "             n_jobs=-1,\n",
              "             param_grid={&#x27;ccp_alpha&#x27;: array([0.        , 0.0060547 , 0.0060547 , 0.00713212, 0.00820953,\n",
              "       0.00879121, 0.0116038 , 0.01327878, 0.01330655, 0.01464224,\n",
              "       0.01605048, 0.01699471, 0.02510488, 0.03873803, 0.05162636,\n",
              "       0.10507124, 0.61075655])},\n",
              "             scoring=&#x27;accuracy&#x27;)</pre><b>In a Jupyter environment, please rerun this cell to show the HTML representation or trust the notebook. <br />On GitHub, the HTML representation is unable to render, please try loading this page with nbviewer.org.</b></div><div class=\"sk-container\" hidden><div class=\"sk-item sk-dashed-wrapped\"><div class=\"sk-label-container\"><div class=\"sk-label fitted sk-toggleable\"><input class=\"sk-toggleable__control sk-hidden--visually\" id=\"sk-estimator-id-2\" type=\"checkbox\" ><label for=\"sk-estimator-id-2\" class=\"sk-toggleable__label fitted sk-toggleable__label-arrow fitted\">&nbsp;&nbsp;GridSearchCV<a class=\"sk-estimator-doc-link fitted\" rel=\"noreferrer\" target=\"_blank\" href=\"https://scikit-learn.org/1.5/modules/generated/sklearn.model_selection.GridSearchCV.html\">?<span>Documentation for GridSearchCV</span></a><span class=\"sk-estimator-doc-link fitted\">i<span>Fitted</span></span></label><div class=\"sk-toggleable__content fitted\"><pre>GridSearchCV(cv=KFold(n_splits=10, random_state=1, shuffle=True),\n",
              "             estimator=DecisionTreeClassifier(criterion=&#x27;entropy&#x27;,\n",
              "                                              random_state=1),\n",
              "             n_jobs=-1,\n",
              "             param_grid={&#x27;ccp_alpha&#x27;: array([0.        , 0.0060547 , 0.0060547 , 0.00713212, 0.00820953,\n",
              "       0.00879121, 0.0116038 , 0.01327878, 0.01330655, 0.01464224,\n",
              "       0.01605048, 0.01699471, 0.02510488, 0.03873803, 0.05162636,\n",
              "       0.10507124, 0.61075655])},\n",
              "             scoring=&#x27;accuracy&#x27;)</pre></div> </div></div><div class=\"sk-parallel\"><div class=\"sk-parallel-item\"><div class=\"sk-item\"><div class=\"sk-label-container\"><div class=\"sk-label fitted sk-toggleable\"><input class=\"sk-toggleable__control sk-hidden--visually\" id=\"sk-estimator-id-3\" type=\"checkbox\" ><label for=\"sk-estimator-id-3\" class=\"sk-toggleable__label fitted sk-toggleable__label-arrow fitted\">best_estimator_: DecisionTreeClassifier</label><div class=\"sk-toggleable__content fitted\"><pre>DecisionTreeClassifier(ccp_alpha=0.008209532952768338, criterion=&#x27;entropy&#x27;,\n",
              "                       random_state=1)</pre></div> </div></div><div class=\"sk-serial\"><div class=\"sk-item\"><div class=\"sk-estimator fitted sk-toggleable\"><input class=\"sk-toggleable__control sk-hidden--visually\" id=\"sk-estimator-id-4\" type=\"checkbox\" ><label for=\"sk-estimator-id-4\" class=\"sk-toggleable__label fitted sk-toggleable__label-arrow fitted\">&nbsp;DecisionTreeClassifier<a class=\"sk-estimator-doc-link fitted\" rel=\"noreferrer\" target=\"_blank\" href=\"https://scikit-learn.org/1.5/modules/generated/sklearn.tree.DecisionTreeClassifier.html\">?<span>Documentation for DecisionTreeClassifier</span></a></label><div class=\"sk-toggleable__content fitted\"><pre>DecisionTreeClassifier(ccp_alpha=0.008209532952768338, criterion=&#x27;entropy&#x27;,\n",
              "                       random_state=1)</pre></div> </div></div></div></div></div></div></div></div></div>"
            ]
          },
          "metadata": {},
          "execution_count": 52
        }
      ]
    },
    {
      "cell_type": "code",
      "source": [
        "print('The best parameters are: ', gridSearch_alpha_cancer.best_params_)"
      ],
      "metadata": {
        "colab": {
          "base_uri": "https://localhost:8080/"
        },
        "id": "PgNjbSioi9ra",
        "outputId": "6798616e-1c3a-4076-99ee-efcb70c9296b"
      },
      "execution_count": null,
      "outputs": [
        {
          "output_type": "stream",
          "name": "stdout",
          "text": [
            "The best parameters are:  {'ccp_alpha': 0.008209532952768338}\n"
          ]
        }
      ]
    },
    {
      "cell_type": "code",
      "source": [
        "tree_cancer_postpruned =  DecisionTreeClassifier(criterion='entropy', random_state=1, ccp_alpha= gridSearch_alpha_cancer.best_params_['ccp_alpha'])"
      ],
      "metadata": {
        "id": "c8wjZn12i_gI"
      },
      "execution_count": null,
      "outputs": []
    },
    {
      "cell_type": "code",
      "source": [
        "tree_cancer_postpruned.fit(x_train_cancer, y_train_cancer)"
      ],
      "metadata": {
        "colab": {
          "base_uri": "https://localhost:8080/",
          "height": 97
        },
        "id": "BDejii5qjA_Z",
        "outputId": "35778929-ce2d-4b8a-b285-7fdde3bf8877"
      },
      "execution_count": null,
      "outputs": [
        {
          "output_type": "execute_result",
          "data": {
            "text/plain": [
              "DecisionTreeClassifier(ccp_alpha=0.008209532952768338, criterion='entropy',\n",
              "                       random_state=1)"
            ],
            "text/html": [
              "<style>#sk-container-id-3 {\n",
              "  /* Definition of color scheme common for light and dark mode */\n",
              "  --sklearn-color-text: black;\n",
              "  --sklearn-color-line: gray;\n",
              "  /* Definition of color scheme for unfitted estimators */\n",
              "  --sklearn-color-unfitted-level-0: #fff5e6;\n",
              "  --sklearn-color-unfitted-level-1: #f6e4d2;\n",
              "  --sklearn-color-unfitted-level-2: #ffe0b3;\n",
              "  --sklearn-color-unfitted-level-3: chocolate;\n",
              "  /* Definition of color scheme for fitted estimators */\n",
              "  --sklearn-color-fitted-level-0: #f0f8ff;\n",
              "  --sklearn-color-fitted-level-1: #d4ebff;\n",
              "  --sklearn-color-fitted-level-2: #b3dbfd;\n",
              "  --sklearn-color-fitted-level-3: cornflowerblue;\n",
              "\n",
              "  /* Specific color for light theme */\n",
              "  --sklearn-color-text-on-default-background: var(--sg-text-color, var(--theme-code-foreground, var(--jp-content-font-color1, black)));\n",
              "  --sklearn-color-background: var(--sg-background-color, var(--theme-background, var(--jp-layout-color0, white)));\n",
              "  --sklearn-color-border-box: var(--sg-text-color, var(--theme-code-foreground, var(--jp-content-font-color1, black)));\n",
              "  --sklearn-color-icon: #696969;\n",
              "\n",
              "  @media (prefers-color-scheme: dark) {\n",
              "    /* Redefinition of color scheme for dark theme */\n",
              "    --sklearn-color-text-on-default-background: var(--sg-text-color, var(--theme-code-foreground, var(--jp-content-font-color1, white)));\n",
              "    --sklearn-color-background: var(--sg-background-color, var(--theme-background, var(--jp-layout-color0, #111)));\n",
              "    --sklearn-color-border-box: var(--sg-text-color, var(--theme-code-foreground, var(--jp-content-font-color1, white)));\n",
              "    --sklearn-color-icon: #878787;\n",
              "  }\n",
              "}\n",
              "\n",
              "#sk-container-id-3 {\n",
              "  color: var(--sklearn-color-text);\n",
              "}\n",
              "\n",
              "#sk-container-id-3 pre {\n",
              "  padding: 0;\n",
              "}\n",
              "\n",
              "#sk-container-id-3 input.sk-hidden--visually {\n",
              "  border: 0;\n",
              "  clip: rect(1px 1px 1px 1px);\n",
              "  clip: rect(1px, 1px, 1px, 1px);\n",
              "  height: 1px;\n",
              "  margin: -1px;\n",
              "  overflow: hidden;\n",
              "  padding: 0;\n",
              "  position: absolute;\n",
              "  width: 1px;\n",
              "}\n",
              "\n",
              "#sk-container-id-3 div.sk-dashed-wrapped {\n",
              "  border: 1px dashed var(--sklearn-color-line);\n",
              "  margin: 0 0.4em 0.5em 0.4em;\n",
              "  box-sizing: border-box;\n",
              "  padding-bottom: 0.4em;\n",
              "  background-color: var(--sklearn-color-background);\n",
              "}\n",
              "\n",
              "#sk-container-id-3 div.sk-container {\n",
              "  /* jupyter's `normalize.less` sets `[hidden] { display: none; }`\n",
              "     but bootstrap.min.css set `[hidden] { display: none !important; }`\n",
              "     so we also need the `!important` here to be able to override the\n",
              "     default hidden behavior on the sphinx rendered scikit-learn.org.\n",
              "     See: https://github.com/scikit-learn/scikit-learn/issues/21755 */\n",
              "  display: inline-block !important;\n",
              "  position: relative;\n",
              "}\n",
              "\n",
              "#sk-container-id-3 div.sk-text-repr-fallback {\n",
              "  display: none;\n",
              "}\n",
              "\n",
              "div.sk-parallel-item,\n",
              "div.sk-serial,\n",
              "div.sk-item {\n",
              "  /* draw centered vertical line to link estimators */\n",
              "  background-image: linear-gradient(var(--sklearn-color-text-on-default-background), var(--sklearn-color-text-on-default-background));\n",
              "  background-size: 2px 100%;\n",
              "  background-repeat: no-repeat;\n",
              "  background-position: center center;\n",
              "}\n",
              "\n",
              "/* Parallel-specific style estimator block */\n",
              "\n",
              "#sk-container-id-3 div.sk-parallel-item::after {\n",
              "  content: \"\";\n",
              "  width: 100%;\n",
              "  border-bottom: 2px solid var(--sklearn-color-text-on-default-background);\n",
              "  flex-grow: 1;\n",
              "}\n",
              "\n",
              "#sk-container-id-3 div.sk-parallel {\n",
              "  display: flex;\n",
              "  align-items: stretch;\n",
              "  justify-content: center;\n",
              "  background-color: var(--sklearn-color-background);\n",
              "  position: relative;\n",
              "}\n",
              "\n",
              "#sk-container-id-3 div.sk-parallel-item {\n",
              "  display: flex;\n",
              "  flex-direction: column;\n",
              "}\n",
              "\n",
              "#sk-container-id-3 div.sk-parallel-item:first-child::after {\n",
              "  align-self: flex-end;\n",
              "  width: 50%;\n",
              "}\n",
              "\n",
              "#sk-container-id-3 div.sk-parallel-item:last-child::after {\n",
              "  align-self: flex-start;\n",
              "  width: 50%;\n",
              "}\n",
              "\n",
              "#sk-container-id-3 div.sk-parallel-item:only-child::after {\n",
              "  width: 0;\n",
              "}\n",
              "\n",
              "/* Serial-specific style estimator block */\n",
              "\n",
              "#sk-container-id-3 div.sk-serial {\n",
              "  display: flex;\n",
              "  flex-direction: column;\n",
              "  align-items: center;\n",
              "  background-color: var(--sklearn-color-background);\n",
              "  padding-right: 1em;\n",
              "  padding-left: 1em;\n",
              "}\n",
              "\n",
              "\n",
              "/* Toggleable style: style used for estimator/Pipeline/ColumnTransformer box that is\n",
              "clickable and can be expanded/collapsed.\n",
              "- Pipeline and ColumnTransformer use this feature and define the default style\n",
              "- Estimators will overwrite some part of the style using the `sk-estimator` class\n",
              "*/\n",
              "\n",
              "/* Pipeline and ColumnTransformer style (default) */\n",
              "\n",
              "#sk-container-id-3 div.sk-toggleable {\n",
              "  /* Default theme specific background. It is overwritten whether we have a\n",
              "  specific estimator or a Pipeline/ColumnTransformer */\n",
              "  background-color: var(--sklearn-color-background);\n",
              "}\n",
              "\n",
              "/* Toggleable label */\n",
              "#sk-container-id-3 label.sk-toggleable__label {\n",
              "  cursor: pointer;\n",
              "  display: block;\n",
              "  width: 100%;\n",
              "  margin-bottom: 0;\n",
              "  padding: 0.5em;\n",
              "  box-sizing: border-box;\n",
              "  text-align: center;\n",
              "}\n",
              "\n",
              "#sk-container-id-3 label.sk-toggleable__label-arrow:before {\n",
              "  /* Arrow on the left of the label */\n",
              "  content: \"▸\";\n",
              "  float: left;\n",
              "  margin-right: 0.25em;\n",
              "  color: var(--sklearn-color-icon);\n",
              "}\n",
              "\n",
              "#sk-container-id-3 label.sk-toggleable__label-arrow:hover:before {\n",
              "  color: var(--sklearn-color-text);\n",
              "}\n",
              "\n",
              "/* Toggleable content - dropdown */\n",
              "\n",
              "#sk-container-id-3 div.sk-toggleable__content {\n",
              "  max-height: 0;\n",
              "  max-width: 0;\n",
              "  overflow: hidden;\n",
              "  text-align: left;\n",
              "  /* unfitted */\n",
              "  background-color: var(--sklearn-color-unfitted-level-0);\n",
              "}\n",
              "\n",
              "#sk-container-id-3 div.sk-toggleable__content.fitted {\n",
              "  /* fitted */\n",
              "  background-color: var(--sklearn-color-fitted-level-0);\n",
              "}\n",
              "\n",
              "#sk-container-id-3 div.sk-toggleable__content pre {\n",
              "  margin: 0.2em;\n",
              "  border-radius: 0.25em;\n",
              "  color: var(--sklearn-color-text);\n",
              "  /* unfitted */\n",
              "  background-color: var(--sklearn-color-unfitted-level-0);\n",
              "}\n",
              "\n",
              "#sk-container-id-3 div.sk-toggleable__content.fitted pre {\n",
              "  /* unfitted */\n",
              "  background-color: var(--sklearn-color-fitted-level-0);\n",
              "}\n",
              "\n",
              "#sk-container-id-3 input.sk-toggleable__control:checked~div.sk-toggleable__content {\n",
              "  /* Expand drop-down */\n",
              "  max-height: 200px;\n",
              "  max-width: 100%;\n",
              "  overflow: auto;\n",
              "}\n",
              "\n",
              "#sk-container-id-3 input.sk-toggleable__control:checked~label.sk-toggleable__label-arrow:before {\n",
              "  content: \"▾\";\n",
              "}\n",
              "\n",
              "/* Pipeline/ColumnTransformer-specific style */\n",
              "\n",
              "#sk-container-id-3 div.sk-label input.sk-toggleable__control:checked~label.sk-toggleable__label {\n",
              "  color: var(--sklearn-color-text);\n",
              "  background-color: var(--sklearn-color-unfitted-level-2);\n",
              "}\n",
              "\n",
              "#sk-container-id-3 div.sk-label.fitted input.sk-toggleable__control:checked~label.sk-toggleable__label {\n",
              "  background-color: var(--sklearn-color-fitted-level-2);\n",
              "}\n",
              "\n",
              "/* Estimator-specific style */\n",
              "\n",
              "/* Colorize estimator box */\n",
              "#sk-container-id-3 div.sk-estimator input.sk-toggleable__control:checked~label.sk-toggleable__label {\n",
              "  /* unfitted */\n",
              "  background-color: var(--sklearn-color-unfitted-level-2);\n",
              "}\n",
              "\n",
              "#sk-container-id-3 div.sk-estimator.fitted input.sk-toggleable__control:checked~label.sk-toggleable__label {\n",
              "  /* fitted */\n",
              "  background-color: var(--sklearn-color-fitted-level-2);\n",
              "}\n",
              "\n",
              "#sk-container-id-3 div.sk-label label.sk-toggleable__label,\n",
              "#sk-container-id-3 div.sk-label label {\n",
              "  /* The background is the default theme color */\n",
              "  color: var(--sklearn-color-text-on-default-background);\n",
              "}\n",
              "\n",
              "/* On hover, darken the color of the background */\n",
              "#sk-container-id-3 div.sk-label:hover label.sk-toggleable__label {\n",
              "  color: var(--sklearn-color-text);\n",
              "  background-color: var(--sklearn-color-unfitted-level-2);\n",
              "}\n",
              "\n",
              "/* Label box, darken color on hover, fitted */\n",
              "#sk-container-id-3 div.sk-label.fitted:hover label.sk-toggleable__label.fitted {\n",
              "  color: var(--sklearn-color-text);\n",
              "  background-color: var(--sklearn-color-fitted-level-2);\n",
              "}\n",
              "\n",
              "/* Estimator label */\n",
              "\n",
              "#sk-container-id-3 div.sk-label label {\n",
              "  font-family: monospace;\n",
              "  font-weight: bold;\n",
              "  display: inline-block;\n",
              "  line-height: 1.2em;\n",
              "}\n",
              "\n",
              "#sk-container-id-3 div.sk-label-container {\n",
              "  text-align: center;\n",
              "}\n",
              "\n",
              "/* Estimator-specific */\n",
              "#sk-container-id-3 div.sk-estimator {\n",
              "  font-family: monospace;\n",
              "  border: 1px dotted var(--sklearn-color-border-box);\n",
              "  border-radius: 0.25em;\n",
              "  box-sizing: border-box;\n",
              "  margin-bottom: 0.5em;\n",
              "  /* unfitted */\n",
              "  background-color: var(--sklearn-color-unfitted-level-0);\n",
              "}\n",
              "\n",
              "#sk-container-id-3 div.sk-estimator.fitted {\n",
              "  /* fitted */\n",
              "  background-color: var(--sklearn-color-fitted-level-0);\n",
              "}\n",
              "\n",
              "/* on hover */\n",
              "#sk-container-id-3 div.sk-estimator:hover {\n",
              "  /* unfitted */\n",
              "  background-color: var(--sklearn-color-unfitted-level-2);\n",
              "}\n",
              "\n",
              "#sk-container-id-3 div.sk-estimator.fitted:hover {\n",
              "  /* fitted */\n",
              "  background-color: var(--sklearn-color-fitted-level-2);\n",
              "}\n",
              "\n",
              "/* Specification for estimator info (e.g. \"i\" and \"?\") */\n",
              "\n",
              "/* Common style for \"i\" and \"?\" */\n",
              "\n",
              ".sk-estimator-doc-link,\n",
              "a:link.sk-estimator-doc-link,\n",
              "a:visited.sk-estimator-doc-link {\n",
              "  float: right;\n",
              "  font-size: smaller;\n",
              "  line-height: 1em;\n",
              "  font-family: monospace;\n",
              "  background-color: var(--sklearn-color-background);\n",
              "  border-radius: 1em;\n",
              "  height: 1em;\n",
              "  width: 1em;\n",
              "  text-decoration: none !important;\n",
              "  margin-left: 1ex;\n",
              "  /* unfitted */\n",
              "  border: var(--sklearn-color-unfitted-level-1) 1pt solid;\n",
              "  color: var(--sklearn-color-unfitted-level-1);\n",
              "}\n",
              "\n",
              ".sk-estimator-doc-link.fitted,\n",
              "a:link.sk-estimator-doc-link.fitted,\n",
              "a:visited.sk-estimator-doc-link.fitted {\n",
              "  /* fitted */\n",
              "  border: var(--sklearn-color-fitted-level-1) 1pt solid;\n",
              "  color: var(--sklearn-color-fitted-level-1);\n",
              "}\n",
              "\n",
              "/* On hover */\n",
              "div.sk-estimator:hover .sk-estimator-doc-link:hover,\n",
              ".sk-estimator-doc-link:hover,\n",
              "div.sk-label-container:hover .sk-estimator-doc-link:hover,\n",
              ".sk-estimator-doc-link:hover {\n",
              "  /* unfitted */\n",
              "  background-color: var(--sklearn-color-unfitted-level-3);\n",
              "  color: var(--sklearn-color-background);\n",
              "  text-decoration: none;\n",
              "}\n",
              "\n",
              "div.sk-estimator.fitted:hover .sk-estimator-doc-link.fitted:hover,\n",
              ".sk-estimator-doc-link.fitted:hover,\n",
              "div.sk-label-container:hover .sk-estimator-doc-link.fitted:hover,\n",
              ".sk-estimator-doc-link.fitted:hover {\n",
              "  /* fitted */\n",
              "  background-color: var(--sklearn-color-fitted-level-3);\n",
              "  color: var(--sklearn-color-background);\n",
              "  text-decoration: none;\n",
              "}\n",
              "\n",
              "/* Span, style for the box shown on hovering the info icon */\n",
              ".sk-estimator-doc-link span {\n",
              "  display: none;\n",
              "  z-index: 9999;\n",
              "  position: relative;\n",
              "  font-weight: normal;\n",
              "  right: .2ex;\n",
              "  padding: .5ex;\n",
              "  margin: .5ex;\n",
              "  width: min-content;\n",
              "  min-width: 20ex;\n",
              "  max-width: 50ex;\n",
              "  color: var(--sklearn-color-text);\n",
              "  box-shadow: 2pt 2pt 4pt #999;\n",
              "  /* unfitted */\n",
              "  background: var(--sklearn-color-unfitted-level-0);\n",
              "  border: .5pt solid var(--sklearn-color-unfitted-level-3);\n",
              "}\n",
              "\n",
              ".sk-estimator-doc-link.fitted span {\n",
              "  /* fitted */\n",
              "  background: var(--sklearn-color-fitted-level-0);\n",
              "  border: var(--sklearn-color-fitted-level-3);\n",
              "}\n",
              "\n",
              ".sk-estimator-doc-link:hover span {\n",
              "  display: block;\n",
              "}\n",
              "\n",
              "/* \"?\"-specific style due to the `<a>` HTML tag */\n",
              "\n",
              "#sk-container-id-3 a.estimator_doc_link {\n",
              "  float: right;\n",
              "  font-size: 1rem;\n",
              "  line-height: 1em;\n",
              "  font-family: monospace;\n",
              "  background-color: var(--sklearn-color-background);\n",
              "  border-radius: 1rem;\n",
              "  height: 1rem;\n",
              "  width: 1rem;\n",
              "  text-decoration: none;\n",
              "  /* unfitted */\n",
              "  color: var(--sklearn-color-unfitted-level-1);\n",
              "  border: var(--sklearn-color-unfitted-level-1) 1pt solid;\n",
              "}\n",
              "\n",
              "#sk-container-id-3 a.estimator_doc_link.fitted {\n",
              "  /* fitted */\n",
              "  border: var(--sklearn-color-fitted-level-1) 1pt solid;\n",
              "  color: var(--sklearn-color-fitted-level-1);\n",
              "}\n",
              "\n",
              "/* On hover */\n",
              "#sk-container-id-3 a.estimator_doc_link:hover {\n",
              "  /* unfitted */\n",
              "  background-color: var(--sklearn-color-unfitted-level-3);\n",
              "  color: var(--sklearn-color-background);\n",
              "  text-decoration: none;\n",
              "}\n",
              "\n",
              "#sk-container-id-3 a.estimator_doc_link.fitted:hover {\n",
              "  /* fitted */\n",
              "  background-color: var(--sklearn-color-fitted-level-3);\n",
              "}\n",
              "</style><div id=\"sk-container-id-3\" class=\"sk-top-container\"><div class=\"sk-text-repr-fallback\"><pre>DecisionTreeClassifier(ccp_alpha=0.008209532952768338, criterion=&#x27;entropy&#x27;,\n",
              "                       random_state=1)</pre><b>In a Jupyter environment, please rerun this cell to show the HTML representation or trust the notebook. <br />On GitHub, the HTML representation is unable to render, please try loading this page with nbviewer.org.</b></div><div class=\"sk-container\" hidden><div class=\"sk-item\"><div class=\"sk-estimator fitted sk-toggleable\"><input class=\"sk-toggleable__control sk-hidden--visually\" id=\"sk-estimator-id-5\" type=\"checkbox\" checked><label for=\"sk-estimator-id-5\" class=\"sk-toggleable__label fitted sk-toggleable__label-arrow fitted\">&nbsp;&nbsp;DecisionTreeClassifier<a class=\"sk-estimator-doc-link fitted\" rel=\"noreferrer\" target=\"_blank\" href=\"https://scikit-learn.org/1.5/modules/generated/sklearn.tree.DecisionTreeClassifier.html\">?<span>Documentation for DecisionTreeClassifier</span></a><span class=\"sk-estimator-doc-link fitted\">i<span>Fitted</span></span></label><div class=\"sk-toggleable__content fitted\"><pre>DecisionTreeClassifier(ccp_alpha=0.008209532952768338, criterion=&#x27;entropy&#x27;,\n",
              "                       random_state=1)</pre></div> </div></div></div></div>"
            ]
          },
          "metadata": {},
          "execution_count": 55
        }
      ]
    },
    {
      "cell_type": "code",
      "source": [
        "y_predicted_postprunned_cancer = tree_cancer_postpruned.predict(x_test_cancer)"
      ],
      "metadata": {
        "id": "gnD5s1lvjHKN"
      },
      "execution_count": null,
      "outputs": []
    },
    {
      "cell_type": "code",
      "source": [
        "confusion_matrix (y_test_cancer, y_predicted_postprunned_cancer)"
      ],
      "metadata": {
        "colab": {
          "base_uri": "https://localhost:8080/"
        },
        "id": "JGwgDn-3jIqF",
        "outputId": "3bf1c3fc-5615-43f8-b3db-8a54fdd4480f"
      },
      "execution_count": null,
      "outputs": [
        {
          "output_type": "execute_result",
          "data": {
            "text/plain": [
              "array([[72,  0],\n",
              "       [ 6, 36]])"
            ]
          },
          "metadata": {},
          "execution_count": 57
        }
      ]
    },
    {
      "cell_type": "code",
      "source": [
        "print (classification_report (y_test_cancer, y_predicted_postprunned_cancer))"
      ],
      "metadata": {
        "colab": {
          "base_uri": "https://localhost:8080/"
        },
        "id": "dj2L_K0SjKvU",
        "outputId": "e6fba5c7-0c06-4c07-f98b-409dd2e9e7aa"
      },
      "execution_count": null,
      "outputs": [
        {
          "output_type": "stream",
          "name": "stdout",
          "text": [
            "              precision    recall  f1-score   support\n",
            "\n",
            "           0       0.92      1.00      0.96        72\n",
            "           1       1.00      0.86      0.92        42\n",
            "\n",
            "    accuracy                           0.95       114\n",
            "   macro avg       0.96      0.93      0.94       114\n",
            "weighted avg       0.95      0.95      0.95       114\n",
            "\n"
          ]
        }
      ]
    },
    {
      "cell_type": "markdown",
      "source": [
        "###3 a) Obtain the tree on the training data and show its figure. Use the figure of the tree to answer these two questions:\n",
        "\n",
        "From the rightmost leaf in the tree:\n",
        "\n",
        "\n",
        "*   Report the number of observations that reached it.\n",
        "*   What’s the prediction of Y for the samples that reached it? JUSTIFY how you came up with your prediction."
      ],
      "metadata": {
        "id": "sbRPnPL1_uc4"
      }
    },
    {
      "cell_type": "code",
      "source": [
        "plt.figure(figsize=(16,16))\n",
        "tree.plot_tree(tree_cancer_postpruned,filled=True, rounded = True, feature_names = x_train_cancer.columns, fontsize=12)\n",
        "plt.show()"
      ],
      "metadata": {
        "id": "oKz9XMRh_yKW",
        "colab": {
          "base_uri": "https://localhost:8080/",
          "height": 1000
        },
        "outputId": "1c229fbf-d9a7-42d3-a8bd-25bd324c2134"
      },
      "execution_count": null,
      "outputs": [
        {
          "output_type": "display_data",
          "data": {
            "text/plain": [
              "<Figure size 1600x1600 with 1 Axes>"
            ],
            "image/png": "[encoded data removed]"
          },
          "metadata": {}
        }
      ]
    },
    {
      "cell_type": "markdown",
      "source": [
        "#### 3a Response\n",
        "According to the tree, there are 132 observations/instances in the right-most leaf.\n",
        "\n",
        "The prediction is class \"1\" because every sample that reached this node is of class \"1\" (indicated by \"Value = [0, 132]\"). Additionally, the entropy at this node is 0.0, indicating perfect purity. This means there is no uncertainty, and all samples belong to a single class (class \"1\").\n"
      ],
      "metadata": {
        "id": "gWMHVB3sRA0W"
      }
    },
    {
      "cell_type": "markdown",
      "source": [
        "###3 b) Report the test prediction error rate of the tree that you obtained."
      ],
      "metadata": {
        "id": "nwrs-Z4NRSKa"
      }
    },
    {
      "cell_type": "code",
      "source": [
        "print (classification_report (y_test_cancer, y_predicted_postprunned_cancer))"
      ],
      "metadata": {
        "colab": {
          "base_uri": "https://localhost:8080/"
        },
        "id": "E7Q02H-5Aeeo",
        "outputId": "1b1aedb4-a869-4d1f-88ea-ceb2836cb758"
      },
      "execution_count": null,
      "outputs": [
        {
          "output_type": "stream",
          "name": "stdout",
          "text": [
            "              precision    recall  f1-score   support\n",
            "\n",
            "           0       0.92      1.00      0.96        72\n",
            "           1       1.00      0.86      0.92        42\n",
            "\n",
            "    accuracy                           0.95       114\n",
            "   macro avg       0.96      0.93      0.94       114\n",
            "weighted avg       0.95      0.95      0.95       114\n",
            "\n"
          ]
        }
      ]
    },
    {
      "cell_type": "markdown",
      "source": [
        "#### 3b Response\n",
        "According to the classification report, the accuracy of the model is 0.95 or 95%, which means that the model correctly classified 95% of the test samples. Therefore, the test prediction error rate is 1 − 0.95 = 0.05 or 5%. This error rate represents the proportion of test samples that were misclassified by the model.\n"
      ],
      "metadata": {
        "id": "XQ-UlZK2RYxg"
      }
    },
    {
      "cell_type": "markdown",
      "source": [
        "###3 c) If you applied the tree to predict the cancer status of 350 new people that we know to have a malignant tumor, how many of them do you expect the tree to correctly classify? Justify by showing how you got your answer."
      ],
      "metadata": {
        "id": "JgFfnDfcRcZS"
      }
    },
    {
      "cell_type": "code",
      "source": [
        "recall_cancer_postpruned = 0.86 #Recall score of malignant cases\n",
        "new_cases = 350 # Number of new cases\n",
        "new_predicted_cases = new_cases * recall_cancer_postpruned\n",
        "print('The tree correctly classified: ', new_predicted_cases, \"new cases\")"
      ],
      "metadata": {
        "colab": {
          "base_uri": "https://localhost:8080/"
        },
        "id": "AKRf8g93D7S9",
        "outputId": "de149709-ddaa-4240-8d90-d31cf0459895"
      },
      "execution_count": null,
      "outputs": [
        {
          "output_type": "stream",
          "name": "stdout",
          "text": [
            "The tree correctly classified:  301.0 new cases\n"
          ]
        }
      ]
    },
    {
      "cell_type": "markdown",
      "source": [
        "#### 3c Response\n",
        "If you apply the decision tree model to predict the cancer status of 350 new people known to have malignant tumors, you would expect it to correctly classify 301 of them as malignant. This is calculated by multiplying the total number of malignant cases (350) by the model's recall for the malignant class (0.86 or 86%)."
      ],
      "metadata": {
        "id": "KG88XC1WRke5"
      }
    },
    {
      "cell_type": "markdown",
      "source": [
        "###3 d) What’s the precision of the tree (in %) for the Malignant class? Explain how you got your answer."
      ],
      "metadata": {
        "id": "jV4MBYenRm3u"
      }
    },
    {
      "cell_type": "code",
      "source": [
        "print (classification_report (y_test_cancer, y_predicted_postprunned_cancer))"
      ],
      "metadata": {
        "colab": {
          "base_uri": "https://localhost:8080/"
        },
        "id": "g7Nq_K2zGU4r",
        "outputId": "84bc77cb-9c65-46d4-f53c-9184622584c7"
      },
      "execution_count": null,
      "outputs": [
        {
          "output_type": "stream",
          "name": "stdout",
          "text": [
            "              precision    recall  f1-score   support\n",
            "\n",
            "           0       0.92      1.00      0.96        72\n",
            "           1       1.00      0.86      0.92        42\n",
            "\n",
            "    accuracy                           0.95       114\n",
            "   macro avg       0.96      0.93      0.94       114\n",
            "weighted avg       0.95      0.95      0.95       114\n",
            "\n"
          ]
        }
      ]
    },
    {
      "cell_type": "markdown",
      "source": [
        "#### 3d Response\n",
        "\n",
        "According to the classification report, the precision of the tree for the Malignant class is 1.00 or 100%."
      ],
      "metadata": {
        "id": "5acQiXQeRt2c"
      }
    },
    {
      "cell_type": "markdown",
      "source": [
        "###3 e) Report the area under the ROC curve. Show your work."
      ],
      "metadata": {
        "id": "6XcL3_XXRxoU"
      }
    },
    {
      "cell_type": "code",
      "source": [
        "roc_cancer_postpruned= roc_auc_score(y_test_cancer, tree_cancer_postpruned.predict_proba(x_test_cancer)[:, 1])"
      ],
      "metadata": {
        "id": "hGIXAZ5y9TpM"
      },
      "execution_count": null,
      "outputs": []
    },
    {
      "cell_type": "code",
      "source": [
        "np.round (roc_cancer_postpruned, 3)"
      ],
      "metadata": {
        "colab": {
          "base_uri": "https://localhost:8080/"
        },
        "id": "-2xrV5I69TCa",
        "outputId": "bc248539-33d0-4915-a699-9af3c966b770"
      },
      "execution_count": null,
      "outputs": [
        {
          "output_type": "execute_result",
          "data": {
            "text/plain": [
              "0.94"
            ]
          },
          "metadata": {},
          "execution_count": 64
        }
      ]
    },
    {
      "cell_type": "markdown",
      "source": [
        "#### 3e Response\n",
        "\n",
        "The area under the ROC curve is 0.94"
      ],
      "metadata": {
        "id": "GM0kG4EPR561"
      }
    },
    {
      "cell_type": "markdown",
      "source": [
        "##Question 4 (30 points)\n",
        "\n",
        "Use the same training-test split you used in question 3 to answer this question. Apply Naive Bayes classification."
      ],
      "metadata": {
        "id": "qJzIKMBNR7wh"
      }
    },
    {
      "cell_type": "code",
      "source": [
        "nb_classifier_cancer = GaussianNB()"
      ],
      "metadata": {
        "id": "-QfMPXKTGlbO"
      },
      "execution_count": null,
      "outputs": []
    },
    {
      "cell_type": "code",
      "source": [
        "nb_classifier_cancer.fit(x_train_cancer, y_train_cancer)"
      ],
      "metadata": {
        "colab": {
          "base_uri": "https://localhost:8080/",
          "height": 80
        },
        "id": "ELVy1i15GlZQ",
        "outputId": "97a41f89-a326-4792-8a1b-41b18c8b0aef"
      },
      "execution_count": null,
      "outputs": [
        {
          "output_type": "execute_result",
          "data": {
            "text/plain": [
              "GaussianNB()"
            ],
            "text/html": [
              "<style>#sk-container-id-4 {\n",
              "  /* Definition of color scheme common for light and dark mode */\n",
              "  --sklearn-color-text: black;\n",
              "  --sklearn-color-line: gray;\n",
              "  /* Definition of color scheme for unfitted estimators */\n",
              "  --sklearn-color-unfitted-level-0: #fff5e6;\n",
              "  --sklearn-color-unfitted-level-1: #f6e4d2;\n",
              "  --sklearn-color-unfitted-level-2: #ffe0b3;\n",
              "  --sklearn-color-unfitted-level-3: chocolate;\n",
              "  /* Definition of color scheme for fitted estimators */\n",
              "  --sklearn-color-fitted-level-0: #f0f8ff;\n",
              "  --sklearn-color-fitted-level-1: #d4ebff;\n",
              "  --sklearn-color-fitted-level-2: #b3dbfd;\n",
              "  --sklearn-color-fitted-level-3: cornflowerblue;\n",
              "\n",
              "  /* Specific color for light theme */\n",
              "  --sklearn-color-text-on-default-background: var(--sg-text-color, var(--theme-code-foreground, var(--jp-content-font-color1, black)));\n",
              "  --sklearn-color-background: var(--sg-background-color, var(--theme-background, var(--jp-layout-color0, white)));\n",
              "  --sklearn-color-border-box: var(--sg-text-color, var(--theme-code-foreground, var(--jp-content-font-color1, black)));\n",
              "  --sklearn-color-icon: #696969;\n",
              "\n",
              "  @media (prefers-color-scheme: dark) {\n",
              "    /* Redefinition of color scheme for dark theme */\n",
              "    --sklearn-color-text-on-default-background: var(--sg-text-color, var(--theme-code-foreground, var(--jp-content-font-color1, white)));\n",
              "    --sklearn-color-background: var(--sg-background-color, var(--theme-background, var(--jp-layout-color0, #111)));\n",
              "    --sklearn-color-border-box: var(--sg-text-color, var(--theme-code-foreground, var(--jp-content-font-color1, white)));\n",
              "    --sklearn-color-icon: #878787;\n",
              "  }\n",
              "}\n",
              "\n",
              "#sk-container-id-4 {\n",
              "  color: var(--sklearn-color-text);\n",
              "}\n",
              "\n",
              "#sk-container-id-4 pre {\n",
              "  padding: 0;\n",
              "}\n",
              "\n",
              "#sk-container-id-4 input.sk-hidden--visually {\n",
              "  border: 0;\n",
              "  clip: rect(1px 1px 1px 1px);\n",
              "  clip: rect(1px, 1px, 1px, 1px);\n",
              "  height: 1px;\n",
              "  margin: -1px;\n",
              "  overflow: hidden;\n",
              "  padding: 0;\n",
              "  position: absolute;\n",
              "  width: 1px;\n",
              "}\n",
              "\n",
              "#sk-container-id-4 div.sk-dashed-wrapped {\n",
              "  border: 1px dashed var(--sklearn-color-line);\n",
              "  margin: 0 0.4em 0.5em 0.4em;\n",
              "  box-sizing: border-box;\n",
              "  padding-bottom: 0.4em;\n",
              "  background-color: var(--sklearn-color-background);\n",
              "}\n",
              "\n",
              "#sk-container-id-4 div.sk-container {\n",
              "  /* jupyter's `normalize.less` sets `[hidden] { display: none; }`\n",
              "     but bootstrap.min.css set `[hidden] { display: none !important; }`\n",
              "     so we also need the `!important` here to be able to override the\n",
              "     default hidden behavior on the sphinx rendered scikit-learn.org.\n",
              "     See: https://github.com/scikit-learn/scikit-learn/issues/21755 */\n",
              "  display: inline-block !important;\n",
              "  position: relative;\n",
              "}\n",
              "\n",
              "#sk-container-id-4 div.sk-text-repr-fallback {\n",
              "  display: none;\n",
              "}\n",
              "\n",
              "div.sk-parallel-item,\n",
              "div.sk-serial,\n",
              "div.sk-item {\n",
              "  /* draw centered vertical line to link estimators */\n",
              "  background-image: linear-gradient(var(--sklearn-color-text-on-default-background), var(--sklearn-color-text-on-default-background));\n",
              "  background-size: 2px 100%;\n",
              "  background-repeat: no-repeat;\n",
              "  background-position: center center;\n",
              "}\n",
              "\n",
              "/* Parallel-specific style estimator block */\n",
              "\n",
              "#sk-container-id-4 div.sk-parallel-item::after {\n",
              "  content: \"\";\n",
              "  width: 100%;\n",
              "  border-bottom: 2px solid var(--sklearn-color-text-on-default-background);\n",
              "  flex-grow: 1;\n",
              "}\n",
              "\n",
              "#sk-container-id-4 div.sk-parallel {\n",
              "  display: flex;\n",
              "  align-items: stretch;\n",
              "  justify-content: center;\n",
              "  background-color: var(--sklearn-color-background);\n",
              "  position: relative;\n",
              "}\n",
              "\n",
              "#sk-container-id-4 div.sk-parallel-item {\n",
              "  display: flex;\n",
              "  flex-direction: column;\n",
              "}\n",
              "\n",
              "#sk-container-id-4 div.sk-parallel-item:first-child::after {\n",
              "  align-self: flex-end;\n",
              "  width: 50%;\n",
              "}\n",
              "\n",
              "#sk-container-id-4 div.sk-parallel-item:last-child::after {\n",
              "  align-self: flex-start;\n",
              "  width: 50%;\n",
              "}\n",
              "\n",
              "#sk-container-id-4 div.sk-parallel-item:only-child::after {\n",
              "  width: 0;\n",
              "}\n",
              "\n",
              "/* Serial-specific style estimator block */\n",
              "\n",
              "#sk-container-id-4 div.sk-serial {\n",
              "  display: flex;\n",
              "  flex-direction: column;\n",
              "  align-items: center;\n",
              "  background-color: var(--sklearn-color-background);\n",
              "  padding-right: 1em;\n",
              "  padding-left: 1em;\n",
              "}\n",
              "\n",
              "\n",
              "/* Toggleable style: style used for estimator/Pipeline/ColumnTransformer box that is\n",
              "clickable and can be expanded/collapsed.\n",
              "- Pipeline and ColumnTransformer use this feature and define the default style\n",
              "- Estimators will overwrite some part of the style using the `sk-estimator` class\n",
              "*/\n",
              "\n",
              "/* Pipeline and ColumnTransformer style (default) */\n",
              "\n",
              "#sk-container-id-4 div.sk-toggleable {\n",
              "  /* Default theme specific background. It is overwritten whether we have a\n",
              "  specific estimator or a Pipeline/ColumnTransformer */\n",
              "  background-color: var(--sklearn-color-background);\n",
              "}\n",
              "\n",
              "/* Toggleable label */\n",
              "#sk-container-id-4 label.sk-toggleable__label {\n",
              "  cursor: pointer;\n",
              "  display: block;\n",
              "  width: 100%;\n",
              "  margin-bottom: 0;\n",
              "  padding: 0.5em;\n",
              "  box-sizing: border-box;\n",
              "  text-align: center;\n",
              "}\n",
              "\n",
              "#sk-container-id-4 label.sk-toggleable__label-arrow:before {\n",
              "  /* Arrow on the left of the label */\n",
              "  content: \"▸\";\n",
              "  float: left;\n",
              "  margin-right: 0.25em;\n",
              "  color: var(--sklearn-color-icon);\n",
              "}\n",
              "\n",
              "#sk-container-id-4 label.sk-toggleable__label-arrow:hover:before {\n",
              "  color: var(--sklearn-color-text);\n",
              "}\n",
              "\n",
              "/* Toggleable content - dropdown */\n",
              "\n",
              "#sk-container-id-4 div.sk-toggleable__content {\n",
              "  max-height: 0;\n",
              "  max-width: 0;\n",
              "  overflow: hidden;\n",
              "  text-align: left;\n",
              "  /* unfitted */\n",
              "  background-color: var(--sklearn-color-unfitted-level-0);\n",
              "}\n",
              "\n",
              "#sk-container-id-4 div.sk-toggleable__content.fitted {\n",
              "  /* fitted */\n",
              "  background-color: var(--sklearn-color-fitted-level-0);\n",
              "}\n",
              "\n",
              "#sk-container-id-4 div.sk-toggleable__content pre {\n",
              "  margin: 0.2em;\n",
              "  border-radius: 0.25em;\n",
              "  color: var(--sklearn-color-text);\n",
              "  /* unfitted */\n",
              "  background-color: var(--sklearn-color-unfitted-level-0);\n",
              "}\n",
              "\n",
              "#sk-container-id-4 div.sk-toggleable__content.fitted pre {\n",
              "  /* unfitted */\n",
              "  background-color: var(--sklearn-color-fitted-level-0);\n",
              "}\n",
              "\n",
              "#sk-container-id-4 input.sk-toggleable__control:checked~div.sk-toggleable__content {\n",
              "  /* Expand drop-down */\n",
              "  max-height: 200px;\n",
              "  max-width: 100%;\n",
              "  overflow: auto;\n",
              "}\n",
              "\n",
              "#sk-container-id-4 input.sk-toggleable__control:checked~label.sk-toggleable__label-arrow:before {\n",
              "  content: \"▾\";\n",
              "}\n",
              "\n",
              "/* Pipeline/ColumnTransformer-specific style */\n",
              "\n",
              "#sk-container-id-4 div.sk-label input.sk-toggleable__control:checked~label.sk-toggleable__label {\n",
              "  color: var(--sklearn-color-text);\n",
              "  background-color: var(--sklearn-color-unfitted-level-2);\n",
              "}\n",
              "\n",
              "#sk-container-id-4 div.sk-label.fitted input.sk-toggleable__control:checked~label.sk-toggleable__label {\n",
              "  background-color: var(--sklearn-color-fitted-level-2);\n",
              "}\n",
              "\n",
              "/* Estimator-specific style */\n",
              "\n",
              "/* Colorize estimator box */\n",
              "#sk-container-id-4 div.sk-estimator input.sk-toggleable__control:checked~label.sk-toggleable__label {\n",
              "  /* unfitted */\n",
              "  background-color: var(--sklearn-color-unfitted-level-2);\n",
              "}\n",
              "\n",
              "#sk-container-id-4 div.sk-estimator.fitted input.sk-toggleable__control:checked~label.sk-toggleable__label {\n",
              "  /* fitted */\n",
              "  background-color: var(--sklearn-color-fitted-level-2);\n",
              "}\n",
              "\n",
              "#sk-container-id-4 div.sk-label label.sk-toggleable__label,\n",
              "#sk-container-id-4 div.sk-label label {\n",
              "  /* The background is the default theme color */\n",
              "  color: var(--sklearn-color-text-on-default-background);\n",
              "}\n",
              "\n",
              "/* On hover, darken the color of the background */\n",
              "#sk-container-id-4 div.sk-label:hover label.sk-toggleable__label {\n",
              "  color: var(--sklearn-color-text);\n",
              "  background-color: var(--sklearn-color-unfitted-level-2);\n",
              "}\n",
              "\n",
              "/* Label box, darken color on hover, fitted */\n",
              "#sk-container-id-4 div.sk-label.fitted:hover label.sk-toggleable__label.fitted {\n",
              "  color: var(--sklearn-color-text);\n",
              "  background-color: var(--sklearn-color-fitted-level-2);\n",
              "}\n",
              "\n",
              "/* Estimator label */\n",
              "\n",
              "#sk-container-id-4 div.sk-label label {\n",
              "  font-family: monospace;\n",
              "  font-weight: bold;\n",
              "  display: inline-block;\n",
              "  line-height: 1.2em;\n",
              "}\n",
              "\n",
              "#sk-container-id-4 div.sk-label-container {\n",
              "  text-align: center;\n",
              "}\n",
              "\n",
              "/* Estimator-specific */\n",
              "#sk-container-id-4 div.sk-estimator {\n",
              "  font-family: monospace;\n",
              "  border: 1px dotted var(--sklearn-color-border-box);\n",
              "  border-radius: 0.25em;\n",
              "  box-sizing: border-box;\n",
              "  margin-bottom: 0.5em;\n",
              "  /* unfitted */\n",
              "  background-color: var(--sklearn-color-unfitted-level-0);\n",
              "}\n",
              "\n",
              "#sk-container-id-4 div.sk-estimator.fitted {\n",
              "  /* fitted */\n",
              "  background-color: var(--sklearn-color-fitted-level-0);\n",
              "}\n",
              "\n",
              "/* on hover */\n",
              "#sk-container-id-4 div.sk-estimator:hover {\n",
              "  /* unfitted */\n",
              "  background-color: var(--sklearn-color-unfitted-level-2);\n",
              "}\n",
              "\n",
              "#sk-container-id-4 div.sk-estimator.fitted:hover {\n",
              "  /* fitted */\n",
              "  background-color: var(--sklearn-color-fitted-level-2);\n",
              "}\n",
              "\n",
              "/* Specification for estimator info (e.g. \"i\" and \"?\") */\n",
              "\n",
              "/* Common style for \"i\" and \"?\" */\n",
              "\n",
              ".sk-estimator-doc-link,\n",
              "a:link.sk-estimator-doc-link,\n",
              "a:visited.sk-estimator-doc-link {\n",
              "  float: right;\n",
              "  font-size: smaller;\n",
              "  line-height: 1em;\n",
              "  font-family: monospace;\n",
              "  background-color: var(--sklearn-color-background);\n",
              "  border-radius: 1em;\n",
              "  height: 1em;\n",
              "  width: 1em;\n",
              "  text-decoration: none !important;\n",
              "  margin-left: 1ex;\n",
              "  /* unfitted */\n",
              "  border: var(--sklearn-color-unfitted-level-1) 1pt solid;\n",
              "  color: var(--sklearn-color-unfitted-level-1);\n",
              "}\n",
              "\n",
              ".sk-estimator-doc-link.fitted,\n",
              "a:link.sk-estimator-doc-link.fitted,\n",
              "a:visited.sk-estimator-doc-link.fitted {\n",
              "  /* fitted */\n",
              "  border: var(--sklearn-color-fitted-level-1) 1pt solid;\n",
              "  color: var(--sklearn-color-fitted-level-1);\n",
              "}\n",
              "\n",
              "/* On hover */\n",
              "div.sk-estimator:hover .sk-estimator-doc-link:hover,\n",
              ".sk-estimator-doc-link:hover,\n",
              "div.sk-label-container:hover .sk-estimator-doc-link:hover,\n",
              ".sk-estimator-doc-link:hover {\n",
              "  /* unfitted */\n",
              "  background-color: var(--sklearn-color-unfitted-level-3);\n",
              "  color: var(--sklearn-color-background);\n",
              "  text-decoration: none;\n",
              "}\n",
              "\n",
              "div.sk-estimator.fitted:hover .sk-estimator-doc-link.fitted:hover,\n",
              ".sk-estimator-doc-link.fitted:hover,\n",
              "div.sk-label-container:hover .sk-estimator-doc-link.fitted:hover,\n",
              ".sk-estimator-doc-link.fitted:hover {\n",
              "  /* fitted */\n",
              "  background-color: var(--sklearn-color-fitted-level-3);\n",
              "  color: var(--sklearn-color-background);\n",
              "  text-decoration: none;\n",
              "}\n",
              "\n",
              "/* Span, style for the box shown on hovering the info icon */\n",
              ".sk-estimator-doc-link span {\n",
              "  display: none;\n",
              "  z-index: 9999;\n",
              "  position: relative;\n",
              "  font-weight: normal;\n",
              "  right: .2ex;\n",
              "  padding: .5ex;\n",
              "  margin: .5ex;\n",
              "  width: min-content;\n",
              "  min-width: 20ex;\n",
              "  max-width: 50ex;\n",
              "  color: var(--sklearn-color-text);\n",
              "  box-shadow: 2pt 2pt 4pt #999;\n",
              "  /* unfitted */\n",
              "  background: var(--sklearn-color-unfitted-level-0);\n",
              "  border: .5pt solid var(--sklearn-color-unfitted-level-3);\n",
              "}\n",
              "\n",
              ".sk-estimator-doc-link.fitted span {\n",
              "  /* fitted */\n",
              "  background: var(--sklearn-color-fitted-level-0);\n",
              "  border: var(--sklearn-color-fitted-level-3);\n",
              "}\n",
              "\n",
              ".sk-estimator-doc-link:hover span {\n",
              "  display: block;\n",
              "}\n",
              "\n",
              "/* \"?\"-specific style due to the `<a>` HTML tag */\n",
              "\n",
              "#sk-container-id-4 a.estimator_doc_link {\n",
              "  float: right;\n",
              "  font-size: 1rem;\n",
              "  line-height: 1em;\n",
              "  font-family: monospace;\n",
              "  background-color: var(--sklearn-color-background);\n",
              "  border-radius: 1rem;\n",
              "  height: 1rem;\n",
              "  width: 1rem;\n",
              "  text-decoration: none;\n",
              "  /* unfitted */\n",
              "  color: var(--sklearn-color-unfitted-level-1);\n",
              "  border: var(--sklearn-color-unfitted-level-1) 1pt solid;\n",
              "}\n",
              "\n",
              "#sk-container-id-4 a.estimator_doc_link.fitted {\n",
              "  /* fitted */\n",
              "  border: var(--sklearn-color-fitted-level-1) 1pt solid;\n",
              "  color: var(--sklearn-color-fitted-level-1);\n",
              "}\n",
              "\n",
              "/* On hover */\n",
              "#sk-container-id-4 a.estimator_doc_link:hover {\n",
              "  /* unfitted */\n",
              "  background-color: var(--sklearn-color-unfitted-level-3);\n",
              "  color: var(--sklearn-color-background);\n",
              "  text-decoration: none;\n",
              "}\n",
              "\n",
              "#sk-container-id-4 a.estimator_doc_link.fitted:hover {\n",
              "  /* fitted */\n",
              "  background-color: var(--sklearn-color-fitted-level-3);\n",
              "}\n",
              "</style><div id=\"sk-container-id-4\" class=\"sk-top-container\"><div class=\"sk-text-repr-fallback\"><pre>GaussianNB()</pre><b>In a Jupyter environment, please rerun this cell to show the HTML representation or trust the notebook. <br />On GitHub, the HTML representation is unable to render, please try loading this page with nbviewer.org.</b></div><div class=\"sk-container\" hidden><div class=\"sk-item\"><div class=\"sk-estimator fitted sk-toggleable\"><input class=\"sk-toggleable__control sk-hidden--visually\" id=\"sk-estimator-id-6\" type=\"checkbox\" checked><label for=\"sk-estimator-id-6\" class=\"sk-toggleable__label fitted sk-toggleable__label-arrow fitted\">&nbsp;&nbsp;GaussianNB<a class=\"sk-estimator-doc-link fitted\" rel=\"noreferrer\" target=\"_blank\" href=\"https://scikit-learn.org/1.5/modules/generated/sklearn.naive_bayes.GaussianNB.html\">?<span>Documentation for GaussianNB</span></a><span class=\"sk-estimator-doc-link fitted\">i<span>Fitted</span></span></label><div class=\"sk-toggleable__content fitted\"><pre>GaussianNB()</pre></div> </div></div></div></div>"
            ]
          },
          "metadata": {},
          "execution_count": 66
        }
      ]
    },
    {
      "cell_type": "code",
      "source": [
        "y_predicted_test_cancer = nb_classifier_cancer.predict(x_test_cancer)"
      ],
      "metadata": {
        "id": "3exs2Sh-GlWb"
      },
      "execution_count": null,
      "outputs": []
    },
    {
      "cell_type": "code",
      "source": [
        "confusion_matrix(y_test_cancer, y_predicted_test_cancer)"
      ],
      "metadata": {
        "colab": {
          "base_uri": "https://localhost:8080/"
        },
        "id": "13Mj9faDGlTf",
        "outputId": "5b74c3b4-e3a1-4b87-9a78-7d3a33e22541"
      },
      "execution_count": null,
      "outputs": [
        {
          "output_type": "execute_result",
          "data": {
            "text/plain": [
              "array([[70,  2],\n",
              "       [ 4, 38]])"
            ]
          },
          "metadata": {},
          "execution_count": 68
        }
      ]
    },
    {
      "cell_type": "code",
      "source": [
        "print (classification_report (y_test_cancer, y_predicted_test_cancer))"
      ],
      "metadata": {
        "colab": {
          "base_uri": "https://localhost:8080/"
        },
        "id": "nDNK_3z2Grqp",
        "outputId": "0455aa57-db1b-423c-92cc-ed7a58784bb8"
      },
      "execution_count": null,
      "outputs": [
        {
          "output_type": "stream",
          "name": "stdout",
          "text": [
            "              precision    recall  f1-score   support\n",
            "\n",
            "           0       0.95      0.97      0.96        72\n",
            "           1       0.95      0.90      0.93        42\n",
            "\n",
            "    accuracy                           0.95       114\n",
            "   macro avg       0.95      0.94      0.94       114\n",
            "weighted avg       0.95      0.95      0.95       114\n",
            "\n"
          ]
        }
      ]
    },
    {
      "cell_type": "markdown",
      "source": [
        "###4 a) Report the area under the ROC curve. Show your work. Use this metric to compare the Naive Bayes classifier with the Tree from question 3. Justify your answer (i.e., justify your comparison)."
      ],
      "metadata": {
        "id": "2f_QKG2FSG_B"
      }
    },
    {
      "cell_type": "code",
      "source": [
        "roc_auc_nb_cancer = roc_auc_score(y_test_cancer, nb_classifier_cancer.predict_proba(x_test_cancer)[:, 1])"
      ],
      "metadata": {
        "id": "L2m3u950G_nb"
      },
      "execution_count": null,
      "outputs": []
    },
    {
      "cell_type": "code",
      "source": [
        "# Area under the ROC curve\n",
        "\n",
        "np.round (roc_auc_nb_cancer, 3)"
      ],
      "metadata": {
        "colab": {
          "base_uri": "https://localhost:8080/"
        },
        "id": "BKbqrru6G_j0",
        "outputId": "2dc04ed7-9074-4f81-b1a0-ef06f20f6fa5"
      },
      "execution_count": null,
      "outputs": [
        {
          "output_type": "execute_result",
          "data": {
            "text/plain": [
              "0.977"
            ]
          },
          "metadata": {},
          "execution_count": 71
        }
      ]
    },
    {
      "cell_type": "markdown",
      "source": [
        "#### 4a Response\n",
        "\n",
        "The AUC for the Naive Bayes classifier is 0.97, whereas the AUC for the decision tree model (entropy-based) is 0.94. Since AUC values range from 0 to 1, with 1 indicating perfect classification, the Naive Bayes classifier is closer to this ideal value. An AUC of 0.97 suggests that the Naive Bayes model has a higher ability to correctly classify malignant and benign cases across different thresholds compared to the decision tree."
      ],
      "metadata": {
        "id": "QIgIuKmLSPmu"
      }
    },
    {
      "cell_type": "markdown",
      "source": [
        "###4 b) Report the value of a metric (i.e, ONE metric only) that combines information about the Precision and Sensitivity of the classifier relative to the Malignant class. Of course, do NOT only report the value of the metric but also the name of the metric."
      ],
      "metadata": {
        "id": "YmoC_tECSVtM"
      }
    },
    {
      "cell_type": "code",
      "source": [
        "print (classification_report (y_test_cancer, y_predicted_test_cancer))"
      ],
      "metadata": {
        "colab": {
          "base_uri": "https://localhost:8080/"
        },
        "id": "bwFqbos-P6m4",
        "outputId": "b0a58780-920c-41c8-af84-930443393467"
      },
      "execution_count": null,
      "outputs": [
        {
          "output_type": "stream",
          "name": "stdout",
          "text": [
            "              precision    recall  f1-score   support\n",
            "\n",
            "           0       0.95      0.97      0.96        72\n",
            "           1       0.95      0.90      0.93        42\n",
            "\n",
            "    accuracy                           0.95       114\n",
            "   macro avg       0.95      0.94      0.94       114\n",
            "weighted avg       0.95      0.95      0.95       114\n",
            "\n"
          ]
        }
      ]
    },
    {
      "cell_type": "markdown",
      "source": [
        "#### 4b Response\n",
        "\n",
        "F1-Score for malignant (class 1) = 0.93\n",
        "\n",
        "This combines information about both Precision and Recall for the Malignant class."
      ],
      "metadata": {
        "id": "Y1_VSgMoSgMl"
      }
    },
    {
      "cell_type": "markdown",
      "source": [
        "###4 c) If you applied this classifier to predict the cancer status of 400 new people, how many of them do you expect the classifier to classify incorrectly? Justify by showing your work."
      ],
      "metadata": {
        "id": "H9QQbXbiShkf"
      }
    },
    {
      "cell_type": "code",
      "source": [
        "accuracy = 0.95\n",
        "error_rate = 1 - accuracy\n",
        "new_cases = 400 # Number of new cases\n",
        "new_predicted_cases_nb = new_cases * error_rate\n",
        "print('The tree misclassified : ', round(new_predicted_cases_nb, 2), \"new cases\")"
      ],
      "metadata": {
        "colab": {
          "base_uri": "https://localhost:8080/"
        },
        "id": "OUf65i1GP0Eq",
        "outputId": "4d2c8cc5-ae8d-4da1-ec09-1765f494091d"
      },
      "execution_count": null,
      "outputs": [
        {
          "output_type": "stream",
          "name": "stdout",
          "text": [
            "The tree misclassified :  20.0 new cases\n"
          ]
        }
      ]
    },
    {
      "cell_type": "markdown",
      "source": [
        "#### 4c Response\n",
        "\n",
        "If you apply the Naive Bayes model to predict the cancer status of 400 new people, you would expect it to incorrectly classify 20 of them. This is calculated by multiplying the total number of cases by the model's error rate (1 minus Accuracy)."
      ],
      "metadata": {
        "id": "Db8tPfzlSqAI"
      }
    }
  ]
}