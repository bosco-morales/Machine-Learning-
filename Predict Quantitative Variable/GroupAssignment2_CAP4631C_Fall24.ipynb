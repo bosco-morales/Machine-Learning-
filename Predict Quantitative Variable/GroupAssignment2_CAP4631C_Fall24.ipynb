{
  "cells": [
    {
      "cell_type": "markdown",
      "source": [
        "**Group 5 members:**\n",
        "\n",
        "Alberto Diaz\n",
        "\n",
        "Barbara Lorenzo\n",
        "\n",
        "Bosco Morales\n",
        "\n",
        "Robert Rivera"
      ],
      "metadata": {
        "id": "idsjtrfy_nNI"
      },
      "id": "idsjtrfy_nNI"
    },
    {
      "cell_type": "markdown",
      "id": "c4590795",
      "metadata": {
        "id": "c4590795"
      },
      "source": [
        "## Introduction\n",
        "\n",
        "This assignment is about simple and multiple linear regression.\n",
        "\n",
        "You are going to use the Diamonds data set (a csv file), which you can dowload from Canvas (_located inside the Assignment 2 section_).\n",
        "\n",
        "Visit the following website to learn more about this data set:\n",
        "\n",
        "https://bookdown.org/yih_huynh/Guide-to-R-Book/diamonds.html\n"
      ]
    },
    {
      "cell_type": "markdown",
      "source": [
        "Read the Diamonds data set as a Pandas data frame following the same steps we have followed multiple times in class.\n",
        "\n",
        "Call this data frame __diamonds_df__"
      ],
      "metadata": {
        "id": "OWVqY943Iozx"
      },
      "id": "OWVqY943Iozx"
    },
    {
      "cell_type": "code",
      "source": [
        "from google.colab import drive\n",
        "drive.mount('/content/drive')"
      ],
      "metadata": {
        "colab": {
          "base_uri": "https://localhost:8080/"
        },
        "id": "Il4u3UuYqfdI",
        "outputId": "033542b3-043d-4a90-c5ef-a3405a7198ed"
      },
      "id": "Il4u3UuYqfdI",
      "execution_count": 1,
      "outputs": [
        {
          "output_type": "stream",
          "name": "stdout",
          "text": [
            "Mounted at /content/drive\n"
          ]
        }
      ]
    },
    {
      "cell_type": "code",
      "source": [
        "path_diamond_dataset=\"/content/drive/MyDrive/CAP4631C/Datasets_CAP4631C/diamonds_data.csv\""
      ],
      "metadata": {
        "id": "-MrL6lZFqpd_"
      },
      "id": "-MrL6lZFqpd_",
      "execution_count": 6,
      "outputs": []
    },
    {
      "cell_type": "code",
      "source": [
        "import pandas as pd"
      ],
      "metadata": {
        "id": "Y-XdYapbq1w1"
      },
      "id": "Y-XdYapbq1w1",
      "execution_count": 7,
      "outputs": []
    },
    {
      "cell_type": "code",
      "source": [
        "diamonds_df= pd.read_csv(path_diamond_dataset)"
      ],
      "metadata": {
        "id": "OGkXmudWq5UF"
      },
      "id": "OGkXmudWq5UF",
      "execution_count": 8,
      "outputs": []
    },
    {
      "cell_type": "markdown",
      "source": [
        "We are going to remove all the qualitative variables (I want you to use only quantitative predictors for this assignment).\n",
        "\n",
        "__AFTER you have created the diamonds_df data frame__, run the following code cell to remove all the qualitative variables from it:"
      ],
      "metadata": {
        "id": "1D2ISpJhJtSr"
      },
      "id": "1D2ISpJhJtSr"
    },
    {
      "cell_type": "code",
      "source": [
        "diamonds_df.drop (['cut', 'color', 'clarity'], axis= 1, inplace= True)"
      ],
      "metadata": {
        "id": "WDmJ1J_eKCmH"
      },
      "id": "WDmJ1J_eKCmH",
      "execution_count": 9,
      "outputs": []
    },
    {
      "cell_type": "markdown",
      "source": [
        "You __MUST run the previous code cell__ because you CANNOT use any of the qualitative columns as predictors."
      ],
      "metadata": {
        "id": "HABYvEPLNYuC"
      },
      "id": "HABYvEPLNYuC"
    },
    {
      "cell_type": "markdown",
      "source": [
        "The __target (outcome) variable__ in this problem will be __price__.\n",
        "\n",
        "__The predictors__ will be all remaning columns.\n",
        "\n",
        "<br>"
      ],
      "metadata": {
        "id": "1Hal-vw4ycZH"
      },
      "id": "1Hal-vw4ycZH"
    },
    {
      "cell_type": "markdown",
      "id": "61a58944",
      "metadata": {
        "id": "61a58944"
      },
      "source": [
        "#### Question 1: Simple LR\n",
        "\n",
        "1a) Select the best predictor that you consider should be used to run a simple regression with price as the outcome. __JUSTIFY__ your selection.\n",
        "\n",
        "__Note:__ The justification for selecting the best predictor MUST be statistical. You should select what the best predictor is from a statistical point of view."
      ]
    },
    {
      "cell_type": "code",
      "source": [
        "correlation_matrix = diamonds_df.corr()\n",
        "\n",
        "print(correlation_matrix['price'])"
      ],
      "metadata": {
        "colab": {
          "base_uri": "https://localhost:8080/"
        },
        "id": "6EOxNlKwIo07",
        "outputId": "93f0303f-f4c9-4cf1-e4bc-b99ccfbb6fdf"
      },
      "id": "6EOxNlKwIo07",
      "execution_count": 10,
      "outputs": [
        {
          "output_type": "stream",
          "name": "stdout",
          "text": [
            "carat    0.921591\n",
            "depth   -0.010647\n",
            "table    0.127134\n",
            "price    1.000000\n",
            "x        0.884435\n",
            "y        0.865421\n",
            "z        0.861249\n",
            "Name: price, dtype: float64\n"
          ]
        }
      ]
    },
    {
      "cell_type": "markdown",
      "source": [
        "# Justification for question 1a:\n",
        "## The best predictor for this simple regression with price as the outcome is carat because it has a strong positive correlation of approximately 92%, indicating a robust linear relationship. This high correlation means that as the carat size increases, the price of the diamond also tends to increase significantly. Thus, carat effectively captures the variation in price, making it the most suitable single predictor for the model."
      ],
      "metadata": {
        "id": "dthDGeTEJnBQ"
      },
      "id": "dthDGeTEJnBQ"
    },
    {
      "cell_type": "markdown",
      "source": [
        "1b) Run a simple linear regression between price and the variable you chose in 1a). __Write the resulting equation__.\n"
      ],
      "metadata": {
        "id": "SsNPnnSBzas8"
      },
      "id": "SsNPnnSBzas8"
    },
    {
      "cell_type": "code",
      "source": [
        "import pandas as pd\n",
        "import numpy as np\n",
        "from sklearn.linear_model import LinearRegression"
      ],
      "metadata": {
        "id": "Ap-helpnRwDt"
      },
      "id": "Ap-helpnRwDt",
      "execution_count": 11,
      "outputs": []
    },
    {
      "cell_type": "code",
      "source": [
        "regression_model_carat = LinearRegression()"
      ],
      "metadata": {
        "id": "nkf4MAp_SFU6"
      },
      "id": "nkf4MAp_SFU6",
      "execution_count": 12,
      "outputs": []
    },
    {
      "cell_type": "code",
      "source": [
        "X_carat= np.array(diamonds_df['carat']).reshape(-1,1)"
      ],
      "metadata": {
        "id": "GGrJFcv2S1km"
      },
      "id": "GGrJFcv2S1km",
      "execution_count": 13,
      "outputs": []
    },
    {
      "cell_type": "code",
      "source": [
        "y_diamonds= diamonds_df['price']"
      ],
      "metadata": {
        "id": "VCKJQdqZTGZe"
      },
      "id": "VCKJQdqZTGZe",
      "execution_count": 14,
      "outputs": []
    },
    {
      "cell_type": "code",
      "source": [
        "regression_model_carat.fit( X_carat , y_diamonds)"
      ],
      "metadata": {
        "colab": {
          "base_uri": "https://localhost:8080/",
          "height": 75
        },
        "id": "_nKGFlqcTdIN",
        "outputId": "772a2668-d212-4d37-95b4-d85fc333a7af"
      },
      "id": "_nKGFlqcTdIN",
      "execution_count": 15,
      "outputs": [
        {
          "output_type": "execute_result",
          "data": {
            "text/plain": [
              "LinearRegression()"
            ],
            "text/html": [
              "<style>#sk-container-id-1 {color: black;}#sk-container-id-1 pre{padding: 0;}#sk-container-id-1 div.sk-toggleable {background-color: white;}#sk-container-id-1 label.sk-toggleable__label {cursor: pointer;display: block;width: 100%;margin-bottom: 0;padding: 0.3em;box-sizing: border-box;text-align: center;}#sk-container-id-1 label.sk-toggleable__label-arrow:before {content: \"▸\";float: left;margin-right: 0.25em;color: #696969;}#sk-container-id-1 label.sk-toggleable__label-arrow:hover:before {color: black;}#sk-container-id-1 div.sk-estimator:hover label.sk-toggleable__label-arrow:before {color: black;}#sk-container-id-1 div.sk-toggleable__content {max-height: 0;max-width: 0;overflow: hidden;text-align: left;background-color: #f0f8ff;}#sk-container-id-1 div.sk-toggleable__content pre {margin: 0.2em;color: black;border-radius: 0.25em;background-color: #f0f8ff;}#sk-container-id-1 input.sk-toggleable__control:checked~div.sk-toggleable__content {max-height: 200px;max-width: 100%;overflow: auto;}#sk-container-id-1 input.sk-toggleable__control:checked~label.sk-toggleable__label-arrow:before {content: \"▾\";}#sk-container-id-1 div.sk-estimator input.sk-toggleable__control:checked~label.sk-toggleable__label {background-color: #d4ebff;}#sk-container-id-1 div.sk-label input.sk-toggleable__control:checked~label.sk-toggleable__label {background-color: #d4ebff;}#sk-container-id-1 input.sk-hidden--visually {border: 0;clip: rect(1px 1px 1px 1px);clip: rect(1px, 1px, 1px, 1px);height: 1px;margin: -1px;overflow: hidden;padding: 0;position: absolute;width: 1px;}#sk-container-id-1 div.sk-estimator {font-family: monospace;background-color: #f0f8ff;border: 1px dotted black;border-radius: 0.25em;box-sizing: border-box;margin-bottom: 0.5em;}#sk-container-id-1 div.sk-estimator:hover {background-color: #d4ebff;}#sk-container-id-1 div.sk-parallel-item::after {content: \"\";width: 100%;border-bottom: 1px solid gray;flex-grow: 1;}#sk-container-id-1 div.sk-label:hover label.sk-toggleable__label {background-color: #d4ebff;}#sk-container-id-1 div.sk-serial::before {content: \"\";position: absolute;border-left: 1px solid gray;box-sizing: border-box;top: 0;bottom: 0;left: 50%;z-index: 0;}#sk-container-id-1 div.sk-serial {display: flex;flex-direction: column;align-items: center;background-color: white;padding-right: 0.2em;padding-left: 0.2em;position: relative;}#sk-container-id-1 div.sk-item {position: relative;z-index: 1;}#sk-container-id-1 div.sk-parallel {display: flex;align-items: stretch;justify-content: center;background-color: white;position: relative;}#sk-container-id-1 div.sk-item::before, #sk-container-id-1 div.sk-parallel-item::before {content: \"\";position: absolute;border-left: 1px solid gray;box-sizing: border-box;top: 0;bottom: 0;left: 50%;z-index: -1;}#sk-container-id-1 div.sk-parallel-item {display: flex;flex-direction: column;z-index: 1;position: relative;background-color: white;}#sk-container-id-1 div.sk-parallel-item:first-child::after {align-self: flex-end;width: 50%;}#sk-container-id-1 div.sk-parallel-item:last-child::after {align-self: flex-start;width: 50%;}#sk-container-id-1 div.sk-parallel-item:only-child::after {width: 0;}#sk-container-id-1 div.sk-dashed-wrapped {border: 1px dashed gray;margin: 0 0.4em 0.5em 0.4em;box-sizing: border-box;padding-bottom: 0.4em;background-color: white;}#sk-container-id-1 div.sk-label label {font-family: monospace;font-weight: bold;display: inline-block;line-height: 1.2em;}#sk-container-id-1 div.sk-label-container {text-align: center;}#sk-container-id-1 div.sk-container {/* jupyter's `normalize.less` sets `[hidden] { display: none; }` but bootstrap.min.css set `[hidden] { display: none !important; }` so we also need the `!important` here to be able to override the default hidden behavior on the sphinx rendered scikit-learn.org. See: https://github.com/scikit-learn/scikit-learn/issues/21755 */display: inline-block !important;position: relative;}#sk-container-id-1 div.sk-text-repr-fallback {display: none;}</style><div id=\"sk-container-id-1\" class=\"sk-top-container\"><div class=\"sk-text-repr-fallback\"><pre>LinearRegression()</pre><b>In a Jupyter environment, please rerun this cell to show the HTML representation or trust the notebook. <br />On GitHub, the HTML representation is unable to render, please try loading this page with nbviewer.org.</b></div><div class=\"sk-container\" hidden><div class=\"sk-item\"><div class=\"sk-estimator sk-toggleable\"><input class=\"sk-toggleable__control sk-hidden--visually\" id=\"sk-estimator-id-1\" type=\"checkbox\" checked><label for=\"sk-estimator-id-1\" class=\"sk-toggleable__label sk-toggleable__label-arrow\">LinearRegression</label><div class=\"sk-toggleable__content\"><pre>LinearRegression()</pre></div></div></div></div></div>"
            ]
          },
          "metadata": {},
          "execution_count": 15
        }
      ]
    },
    {
      "cell_type": "code",
      "source": [
        "# Intercept of the regression equation\n",
        "regression_model_carat.intercept_"
      ],
      "metadata": {
        "colab": {
          "base_uri": "https://localhost:8080/"
        },
        "id": "pICTss9XUdYH",
        "outputId": "7768bb47-80fa-477a-e5e5-96189174e1c0"
      },
      "id": "pICTss9XUdYH",
      "execution_count": 16,
      "outputs": [
        {
          "output_type": "execute_result",
          "data": {
            "text/plain": [
              "-2256.360580045403"
            ]
          },
          "metadata": {},
          "execution_count": 16
        }
      ]
    },
    {
      "cell_type": "code",
      "source": [
        "# Slope of the regression equation\n",
        "regression_model_carat.coef_"
      ],
      "metadata": {
        "colab": {
          "base_uri": "https://localhost:8080/"
        },
        "id": "fNvgYoy1Ujhe",
        "outputId": "da2a1374-e29a-41ea-cddf-01c7948b8afd"
      },
      "id": "fNvgYoy1Ujhe",
      "execution_count": 17,
      "outputs": [
        {
          "output_type": "execute_result",
          "data": {
            "text/plain": [
              "array([7756.42561797])"
            ]
          },
          "metadata": {},
          "execution_count": 17
        }
      ]
    },
    {
      "cell_type": "code",
      "source": [
        "# Predicted price = -2256.36 + 7756.43 * carat\n",
        "\n",
        "predicted_price = -2256.360580045403 + 7756.42561797 * diamonds_df['carat']"
      ],
      "metadata": {
        "id": "cYyZzjKIUtJs"
      },
      "id": "cYyZzjKIUtJs",
      "execution_count": 18,
      "outputs": []
    },
    {
      "cell_type": "code",
      "source": [
        "predicted_price"
      ],
      "metadata": {
        "colab": {
          "base_uri": "https://localhost:8080/",
          "height": 458
        },
        "id": "J9SfzOeYVELt",
        "outputId": "7b32f6e4-ba78-4fc0-f013-94cb7a07b36f"
      },
      "id": "J9SfzOeYVELt",
      "execution_count": 19,
      "outputs": [
        {
          "output_type": "execute_result",
          "data": {
            "text/plain": [
              "0        -472.382688\n",
              "1        -627.511200\n",
              "2        -472.382688\n",
              "3          -6.997151\n",
              "4         148.131362\n",
              "            ...     \n",
              "53935    3328.265865\n",
              "53936    3328.265865\n",
              "53937    3173.137353\n",
              "53938    4414.165451\n",
              "53939    3560.958633\n",
              "Name: carat, Length: 53940, dtype: float64"
            ],
            "text/html": [
              "<div>\n",
              "<style scoped>\n",
              "    .dataframe tbody tr th:only-of-type {\n",
              "        vertical-align: middle;\n",
              "    }\n",
              "\n",
              "    .dataframe tbody tr th {\n",
              "        vertical-align: top;\n",
              "    }\n",
              "\n",
              "    .dataframe thead th {\n",
              "        text-align: right;\n",
              "    }\n",
              "</style>\n",
              "<table border=\"1\" class=\"dataframe\">\n",
              "  <thead>\n",
              "    <tr style=\"text-align: right;\">\n",
              "      <th></th>\n",
              "      <th>carat</th>\n",
              "    </tr>\n",
              "  </thead>\n",
              "  <tbody>\n",
              "    <tr>\n",
              "      <th>0</th>\n",
              "      <td>-472.382688</td>\n",
              "    </tr>\n",
              "    <tr>\n",
              "      <th>1</th>\n",
              "      <td>-627.511200</td>\n",
              "    </tr>\n",
              "    <tr>\n",
              "      <th>2</th>\n",
              "      <td>-472.382688</td>\n",
              "    </tr>\n",
              "    <tr>\n",
              "      <th>3</th>\n",
              "      <td>-6.997151</td>\n",
              "    </tr>\n",
              "    <tr>\n",
              "      <th>4</th>\n",
              "      <td>148.131362</td>\n",
              "    </tr>\n",
              "    <tr>\n",
              "      <th>...</th>\n",
              "      <td>...</td>\n",
              "    </tr>\n",
              "    <tr>\n",
              "      <th>53935</th>\n",
              "      <td>3328.265865</td>\n",
              "    </tr>\n",
              "    <tr>\n",
              "      <th>53936</th>\n",
              "      <td>3328.265865</td>\n",
              "    </tr>\n",
              "    <tr>\n",
              "      <th>53937</th>\n",
              "      <td>3173.137353</td>\n",
              "    </tr>\n",
              "    <tr>\n",
              "      <th>53938</th>\n",
              "      <td>4414.165451</td>\n",
              "    </tr>\n",
              "    <tr>\n",
              "      <th>53939</th>\n",
              "      <td>3560.958633</td>\n",
              "    </tr>\n",
              "  </tbody>\n",
              "</table>\n",
              "<p>53940 rows × 1 columns</p>\n",
              "</div><br><label><b>dtype:</b> float64</label>"
            ]
          },
          "metadata": {},
          "execution_count": 19
        }
      ]
    },
    {
      "cell_type": "code",
      "source": [
        "from sklearn.metrics import r2_score"
      ],
      "metadata": {
        "id": "-LKxOYxpWtBU"
      },
      "id": "-LKxOYxpWtBU",
      "execution_count": 20,
      "outputs": []
    },
    {
      "cell_type": "code",
      "source": [
        "y_predicted_simple_reg= regression_model_carat.predict(X_carat)"
      ],
      "metadata": {
        "id": "CxnFn04tWzHf"
      },
      "id": "CxnFn04tWzHf",
      "execution_count": 21,
      "outputs": []
    },
    {
      "cell_type": "code",
      "source": [
        "r2_score(y_diamonds, y_predicted_simple_reg)"
      ],
      "metadata": {
        "colab": {
          "base_uri": "https://localhost:8080/"
        },
        "id": "cu8TCa1nXDLP",
        "outputId": "5d29a292-a2b8-4529-bd15-e12a15f5cabc"
      },
      "id": "cu8TCa1nXDLP",
      "execution_count": 22,
      "outputs": [
        {
          "output_type": "execute_result",
          "data": {
            "text/plain": [
              "0.8493305264354858"
            ]
          },
          "metadata": {},
          "execution_count": 22
        }
      ]
    },
    {
      "cell_type": "markdown",
      "source": [
        "1c) Let's say you want to use the Residual Standard Error (RSE) as the metric to assess the quality of the equation obtained in 1b. __Compute__ the value of RSE and, based on this value, __comment__ on the quality of the equation.\n",
        "\n",
        "__Note__: Your commentary MUST meet the standard of a student who already took an intermediate-level Stat class and is currently taking a ML class. Making comments like this: \"The value of RSE is low, so the equation is good\" (__or similar superficial comments__) will NOT be considered valid and will be marked as incorrect."
      ],
      "metadata": {
        "id": "AJFABKRtzjUg"
      },
      "id": "AJFABKRtzjUg"
    },
    {
      "cell_type": "code",
      "source": [
        "rse_value_carat = np.sqrt ( np.sum((y_diamonds - y_predicted_simple_reg)**2) / (y_diamonds.size-1-1) )\n",
        "\n",
        "rse_value_carat"
      ],
      "metadata": {
        "colab": {
          "base_uri": "https://localhost:8080/"
        },
        "id": "uOK2HlpXZBbw",
        "outputId": "ead33352-4025-45b2-88b7-995c946c8710"
      },
      "id": "uOK2HlpXZBbw",
      "execution_count": 23,
      "outputs": [
        {
          "output_type": "execute_result",
          "data": {
            "text/plain": [
              "1548.5619022985634"
            ]
          },
          "metadata": {},
          "execution_count": 23
        }
      ]
    },
    {
      "cell_type": "code",
      "source": [
        "rse_value_carat / np.mean (y_diamonds)"
      ],
      "metadata": {
        "colab": {
          "base_uri": "https://localhost:8080/"
        },
        "id": "scx4mOPGZgV3",
        "outputId": "2949c9ff-046a-4b12-b8d4-1ebc72743a9b"
      },
      "id": "scx4mOPGZgV3",
      "execution_count": 24,
      "outputs": [
        {
          "output_type": "execute_result",
          "data": {
            "text/plain": [
              "0.3937555969784334"
            ]
          },
          "metadata": {},
          "execution_count": 24
        }
      ]
    },
    {
      "cell_type": "markdown",
      "source": [
        "# Commentary for question 1c:\n",
        "## The RSE value, when compared relative to the mean (39.4%), indicates that the model does not provide a highly accurate fit to the data. Although the R² score (0.849) shows that the model explains a good portion of the variance, there is still considerable unexplained variance, or \"noise\" in the model. In summary, while the model captures a large portion of the variance, the RSE suggests there is still significant error in the predictions. The model could be improved by including additional predictors or by adjusting for potential non-linearities in the data."
      ],
      "metadata": {
        "id": "OB6dTAKGa3qF"
      },
      "id": "OB6dTAKGa3qF"
    },
    {
      "cell_type": "markdown",
      "source": [
        "1 d) (8 points) This is a challenge question; thus, you cannot ask me for guidance on how to answer it.\n",
        "\n",
        "Do the plot of the residuals versus the predicted values based on the model you obtained in 1 b.\n",
        "\n",
        "What do you think about the following statement?\n",
        "\n",
        "_The plot shows the residuals randomly varying around zero. The residuals do not show any observable pattern._\n",
        "\n",
        "\n",
        "__Question__: Is the statement correct? Why or why not? __JUSTIFY__."
      ],
      "metadata": {
        "id": "6fLXlYoxmCqU"
      },
      "id": "6fLXlYoxmCqU"
    },
    {
      "cell_type": "code",
      "source": [
        "residuals_simple_reg = diamonds_df['price'] - y_predicted_simple_reg"
      ],
      "metadata": {
        "id": "pzJ3tOKzc00S"
      },
      "id": "pzJ3tOKzc00S",
      "execution_count": 25,
      "outputs": []
    },
    {
      "cell_type": "code",
      "source": [
        "import matplotlib.pyplot as plt"
      ],
      "metadata": {
        "id": "cj1U7cgheCp-"
      },
      "id": "cj1U7cgheCp-",
      "execution_count": 26,
      "outputs": []
    },
    {
      "cell_type": "code",
      "source": [
        "plt.scatter(y_predicted_simple_reg, residuals_simple_reg,c='blue')\n",
        "\n",
        "plt.xlabel(\"Predicted y\") # Predicted values of price obtained from the equation\n",
        "plt.ylabel(\"Residuals\")\n",
        "plt.axhline(0, c='red',ls='--')\n",
        "plt.show()"
      ],
      "metadata": {
        "colab": {
          "base_uri": "https://localhost:8080/",
          "height": 449
        },
        "id": "d_v7tEV1dyRk",
        "outputId": "3c49170b-e4d6-4728-f294-f6d96ede5d26"
      },
      "id": "d_v7tEV1dyRk",
      "execution_count": 27,
      "outputs": [
        {
          "output_type": "display_data",
          "data": {
            "text/plain": [
              "<Figure size 640x480 with 1 Axes>"
            ],
            "image/png": "[encoded data removed]"
          },
          "metadata": {}
        }
      ]
    },
    {
      "cell_type": "markdown",
      "source": [
        "# Answer for question 1d:\n",
        "## The residuals plot does not show a random scatter around zero. Instead, there appears to be a distinct funnel-like pattern, where the spread of residuals increases as the predicted values increase. This indicates heteroscedasticity, meaning that the variance of the residuals is not constant across all predicted values.\n",
        "##Thus, the statement is incorrect because the residuals do show a non-random pattern, which violates key assumptions of linear regression, such as the independence and homoscedasticity of residuals."
      ],
      "metadata": {
        "id": "8845vk1CgLNM"
      },
      "id": "8845vk1CgLNM"
    },
    {
      "cell_type": "markdown",
      "id": "7ce80a84",
      "metadata": {
        "id": "7ce80a84"
      },
      "source": [
        "#### Question 2: Multiple LR\n",
        "\n",
        "2a) Use the ML approach to decide whether adding the predictor 'x' in the model that only includes 'carat' is beneficial. Notice that 'x' is one of the columns from the diamonds_df dataframe.\n",
        "\n",
        "\n",
        "__Note__: You will get all the points if you apply the ML exactly as we did it in class. You will likely be deducted points if you follow a different procedure.\n"
      ]
    },
    {
      "cell_type": "code",
      "source": [
        "from sklearn.model_selection import train_test_split, cross_val_score, KFold"
      ],
      "metadata": {
        "id": "HtNn200omAHL"
      },
      "id": "HtNn200omAHL",
      "execution_count": 28,
      "outputs": []
    },
    {
      "cell_type": "code",
      "source": [
        "X_mult_all = diamonds_df.drop('price', axis=1)"
      ],
      "metadata": {
        "id": "MPeXMKH2s_mj"
      },
      "id": "MPeXMKH2s_mj",
      "execution_count": 29,
      "outputs": []
    },
    {
      "cell_type": "code",
      "source": [
        "X_train, X_test, y_train, y_test= train_test_split (X_mult_all, y_diamonds, test_size= 0.2, random_state= 1)"
      ],
      "metadata": {
        "id": "QLeGllTdmF4D"
      },
      "id": "QLeGllTdmF4D",
      "execution_count": 30,
      "outputs": []
    },
    {
      "cell_type": "code",
      "source": [
        "# Create a KFold object with shuffling\n",
        "\n",
        "cv_object = KFold (n_splits= 10, shuffle= True, random_state= 1)"
      ],
      "metadata": {
        "id": "-Zxrh8zwmVDz"
      },
      "id": "-Zxrh8zwmVDz",
      "execution_count": 31,
      "outputs": []
    },
    {
      "cell_type": "code",
      "source": [
        "# IMPORTANT: Select the predictor (s) under consideration. Since we are doing the regression with 'lstat' only, we select X_train ['carat']\n",
        "\n",
        "mse_scores_cv_carat = - cross_val_score(LinearRegression(), np.array (X_train ['carat']).reshape(-1, 1), y_train, scoring='neg_mean_squared_error', cv= cv_object )"
      ],
      "metadata": {
        "id": "rUhuPbpFmwKz"
      },
      "id": "rUhuPbpFmwKz",
      "execution_count": 32,
      "outputs": []
    },
    {
      "cell_type": "code",
      "source": [
        "cv_mse_carat = np.mean(mse_scores_cv_carat)\n",
        "\n",
        "cv_mse_carat"
      ],
      "metadata": {
        "colab": {
          "base_uri": "https://localhost:8080/"
        },
        "id": "njn-zBDanCVD",
        "outputId": "4c2e636f-6530-479b-b6eb-45336f41d925"
      },
      "id": "njn-zBDanCVD",
      "execution_count": 33,
      "outputs": [
        {
          "output_type": "execute_result",
          "data": {
            "text/plain": [
              "2408701.3238024134"
            ]
          },
          "metadata": {},
          "execution_count": 33
        }
      ]
    },
    {
      "cell_type": "code",
      "source": [
        "# IMPORTANT: Select the predictor (s) under consideration. In this case, lstat and rm\n",
        "\n",
        "mse_scores_cv_carat_and_x = - cross_val_score(LinearRegression(), X_train [['carat', 'x']], y_train, scoring='neg_mean_squared_error', cv= cv_object )"
      ],
      "metadata": {
        "id": "7C-19vMHt4NK"
      },
      "id": "7C-19vMHt4NK",
      "execution_count": 34,
      "outputs": []
    },
    {
      "cell_type": "code",
      "source": [
        "cv_mse_carat_and_x = np.mean(mse_scores_cv_carat_and_x)\n",
        "\n",
        "cv_mse_carat_and_x"
      ],
      "metadata": {
        "colab": {
          "base_uri": "https://localhost:8080/"
        },
        "id": "AtZDDmQzuP8m",
        "outputId": "39fd4636-08a9-4c16-99ec-fdaa922fe381"
      },
      "id": "AtZDDmQzuP8m",
      "execution_count": 35,
      "outputs": [
        {
          "output_type": "execute_result",
          "data": {
            "text/plain": [
              "2348187.3939216193"
            ]
          },
          "metadata": {},
          "execution_count": 35
        }
      ]
    },
    {
      "cell_type": "code",
      "source": [
        "(2408701.3238024134 - 2348187.3939216193) / 2408701.3238024134"
      ],
      "metadata": {
        "colab": {
          "base_uri": "https://localhost:8080/"
        },
        "id": "I9jXRcyhvH0d",
        "outputId": "9fc29845-927a-4360-93a9-f353082a0938"
      },
      "id": "I9jXRcyhvH0d",
      "execution_count": 36,
      "outputs": [
        {
          "output_type": "execute_result",
          "data": {
            "text/plain": [
              "0.02512305252743661"
            ]
          },
          "metadata": {},
          "execution_count": 36
        }
      ]
    },
    {
      "cell_type": "code",
      "source": [
        "((2408701.3238024134 - 2348187.3939216193) / 2408701.3238024134)*100"
      ],
      "metadata": {
        "colab": {
          "base_uri": "https://localhost:8080/"
        },
        "id": "KzaRwYFIvYXh",
        "outputId": "2403063c-4144-4883-c8ce-ed342ccc5fa2"
      },
      "id": "KzaRwYFIvYXh",
      "execution_count": 37,
      "outputs": [
        {
          "output_type": "execute_result",
          "data": {
            "text/plain": [
              "2.512305252743661"
            ]
          },
          "metadata": {},
          "execution_count": 37
        }
      ]
    },
    {
      "cell_type": "markdown",
      "source": [
        "# Reflection on question 2a:\n",
        "## Although a 2.51% improvement in performance indicates some enhancement, it is not considered significant. Generally, improvements of less than 5% are regarded as minor."
      ],
      "metadata": {
        "id": "sLyl5cCxyYBQ"
      },
      "id": "sLyl5cCxyYBQ"
    },
    {
      "cell_type": "markdown",
      "source": [
        "2b) (10 points) This is a challenge question; thus, you cannot ask me for guidance on how to answer it.\n",
        "\n",
        "Regardless of your decision in 2a (that is, regardless of whether you concluded that adding 'x' to the equation was beneficial) __I want you to use both 'x' and 'carat' as predictors in part b__.\n",
        "\n",
        "__Use the equation with both 'x' and 'carat' to predict the price for 5 new diamonds.__ To do so, you need to do the following:\n",
        "\n",
        "\n",
        "\n",
        "* Obtain the equation with these two predictors _using the training data_.\n",
        "\n",
        "\n",
        "* Create 5 values for each of the two predictors. You must create values for these predictors that make sense (i.e., within the range of the values taken by each variable) and explain why you selected these values.\n",
        "\n",
        "\n",
        "\n",
        "* Use the values you created and the equation to predict the price for these 5 new diamonds.\n"
      ],
      "metadata": {
        "id": "RAr0vgPJyCCb"
      },
      "id": "RAr0vgPJyCCb"
    },
    {
      "cell_type": "code",
      "source": [
        "regression_final_training= LinearRegression()"
      ],
      "metadata": {
        "id": "73sUqmaX2Ax3"
      },
      "id": "73sUqmaX2Ax3",
      "execution_count": 38,
      "outputs": []
    },
    {
      "cell_type": "code",
      "source": [
        "regression_final_training.fit (X_train[['carat', 'x']], y_train)"
      ],
      "metadata": {
        "colab": {
          "base_uri": "https://localhost:8080/",
          "height": 75
        },
        "id": "UVAHvUQ32O7R",
        "outputId": "334660b5-a851-4c26-f405-0adf0c78322b"
      },
      "id": "UVAHvUQ32O7R",
      "execution_count": 39,
      "outputs": [
        {
          "output_type": "execute_result",
          "data": {
            "text/plain": [
              "LinearRegression()"
            ],
            "text/html": [
              "<style>#sk-container-id-2 {color: black;}#sk-container-id-2 pre{padding: 0;}#sk-container-id-2 div.sk-toggleable {background-color: white;}#sk-container-id-2 label.sk-toggleable__label {cursor: pointer;display: block;width: 100%;margin-bottom: 0;padding: 0.3em;box-sizing: border-box;text-align: center;}#sk-container-id-2 label.sk-toggleable__label-arrow:before {content: \"▸\";float: left;margin-right: 0.25em;color: #696969;}#sk-container-id-2 label.sk-toggleable__label-arrow:hover:before {color: black;}#sk-container-id-2 div.sk-estimator:hover label.sk-toggleable__label-arrow:before {color: black;}#sk-container-id-2 div.sk-toggleable__content {max-height: 0;max-width: 0;overflow: hidden;text-align: left;background-color: #f0f8ff;}#sk-container-id-2 div.sk-toggleable__content pre {margin: 0.2em;color: black;border-radius: 0.25em;background-color: #f0f8ff;}#sk-container-id-2 input.sk-toggleable__control:checked~div.sk-toggleable__content {max-height: 200px;max-width: 100%;overflow: auto;}#sk-container-id-2 input.sk-toggleable__control:checked~label.sk-toggleable__label-arrow:before {content: \"▾\";}#sk-container-id-2 div.sk-estimator input.sk-toggleable__control:checked~label.sk-toggleable__label {background-color: #d4ebff;}#sk-container-id-2 div.sk-label input.sk-toggleable__control:checked~label.sk-toggleable__label {background-color: #d4ebff;}#sk-container-id-2 input.sk-hidden--visually {border: 0;clip: rect(1px 1px 1px 1px);clip: rect(1px, 1px, 1px, 1px);height: 1px;margin: -1px;overflow: hidden;padding: 0;position: absolute;width: 1px;}#sk-container-id-2 div.sk-estimator {font-family: monospace;background-color: #f0f8ff;border: 1px dotted black;border-radius: 0.25em;box-sizing: border-box;margin-bottom: 0.5em;}#sk-container-id-2 div.sk-estimator:hover {background-color: #d4ebff;}#sk-container-id-2 div.sk-parallel-item::after {content: \"\";width: 100%;border-bottom: 1px solid gray;flex-grow: 1;}#sk-container-id-2 div.sk-label:hover label.sk-toggleable__label {background-color: #d4ebff;}#sk-container-id-2 div.sk-serial::before {content: \"\";position: absolute;border-left: 1px solid gray;box-sizing: border-box;top: 0;bottom: 0;left: 50%;z-index: 0;}#sk-container-id-2 div.sk-serial {display: flex;flex-direction: column;align-items: center;background-color: white;padding-right: 0.2em;padding-left: 0.2em;position: relative;}#sk-container-id-2 div.sk-item {position: relative;z-index: 1;}#sk-container-id-2 div.sk-parallel {display: flex;align-items: stretch;justify-content: center;background-color: white;position: relative;}#sk-container-id-2 div.sk-item::before, #sk-container-id-2 div.sk-parallel-item::before {content: \"\";position: absolute;border-left: 1px solid gray;box-sizing: border-box;top: 0;bottom: 0;left: 50%;z-index: -1;}#sk-container-id-2 div.sk-parallel-item {display: flex;flex-direction: column;z-index: 1;position: relative;background-color: white;}#sk-container-id-2 div.sk-parallel-item:first-child::after {align-self: flex-end;width: 50%;}#sk-container-id-2 div.sk-parallel-item:last-child::after {align-self: flex-start;width: 50%;}#sk-container-id-2 div.sk-parallel-item:only-child::after {width: 0;}#sk-container-id-2 div.sk-dashed-wrapped {border: 1px dashed gray;margin: 0 0.4em 0.5em 0.4em;box-sizing: border-box;padding-bottom: 0.4em;background-color: white;}#sk-container-id-2 div.sk-label label {font-family: monospace;font-weight: bold;display: inline-block;line-height: 1.2em;}#sk-container-id-2 div.sk-label-container {text-align: center;}#sk-container-id-2 div.sk-container {/* jupyter's `normalize.less` sets `[hidden] { display: none; }` but bootstrap.min.css set `[hidden] { display: none !important; }` so we also need the `!important` here to be able to override the default hidden behavior on the sphinx rendered scikit-learn.org. See: https://github.com/scikit-learn/scikit-learn/issues/21755 */display: inline-block !important;position: relative;}#sk-container-id-2 div.sk-text-repr-fallback {display: none;}</style><div id=\"sk-container-id-2\" class=\"sk-top-container\"><div class=\"sk-text-repr-fallback\"><pre>LinearRegression()</pre><b>In a Jupyter environment, please rerun this cell to show the HTML representation or trust the notebook. <br />On GitHub, the HTML representation is unable to render, please try loading this page with nbviewer.org.</b></div><div class=\"sk-container\" hidden><div class=\"sk-item\"><div class=\"sk-estimator sk-toggleable\"><input class=\"sk-toggleable__control sk-hidden--visually\" id=\"sk-estimator-id-2\" type=\"checkbox\" checked><label for=\"sk-estimator-id-2\" class=\"sk-toggleable__label sk-toggleable__label-arrow\">LinearRegression</label><div class=\"sk-toggleable__content\"><pre>LinearRegression()</pre></div></div></div></div></div>"
            ]
          },
          "metadata": {},
          "execution_count": 39
        }
      ]
    },
    {
      "cell_type": "code",
      "source": [
        "y_predicted_final_test =regression_final_training.predict(X_test[['carat', 'x']])"
      ],
      "metadata": {
        "id": "TPVd_i-u4Pa8"
      },
      "id": "TPVd_i-u4Pa8",
      "execution_count": 40,
      "outputs": []
    },
    {
      "cell_type": "code",
      "source": [
        "# Checking the range of the predictors\n",
        "diamonds_df[['carat', 'x']].describe()"
      ],
      "metadata": {
        "colab": {
          "base_uri": "https://localhost:8080/",
          "height": 300
        },
        "id": "6A4cn8FT2904",
        "outputId": "676bbf66-2acc-44c6-d243-f40bed775587"
      },
      "id": "6A4cn8FT2904",
      "execution_count": 41,
      "outputs": [
        {
          "output_type": "execute_result",
          "data": {
            "text/plain": [
              "              carat             x\n",
              "count  53940.000000  53940.000000\n",
              "mean       0.797940      5.731157\n",
              "std        0.474011      1.121761\n",
              "min        0.200000      0.000000\n",
              "25%        0.400000      4.710000\n",
              "50%        0.700000      5.700000\n",
              "75%        1.040000      6.540000\n",
              "max        5.010000     10.740000"
            ],
            "text/html": [
              "\n",
              "  <div id=\"df-5e0e22d5-ed4c-4342-a16b-6063755657c7\" class=\"colab-df-container\">\n",
              "    <div>\n",
              "<style scoped>\n",
              "    .dataframe tbody tr th:only-of-type {\n",
              "        vertical-align: middle;\n",
              "    }\n",
              "\n",
              "    .dataframe tbody tr th {\n",
              "        vertical-align: top;\n",
              "    }\n",
              "\n",
              "    .dataframe thead th {\n",
              "        text-align: right;\n",
              "    }\n",
              "</style>\n",
              "<table border=\"1\" class=\"dataframe\">\n",
              "  <thead>\n",
              "    <tr style=\"text-align: right;\">\n",
              "      <th></th>\n",
              "      <th>carat</th>\n",
              "      <th>x</th>\n",
              "    </tr>\n",
              "  </thead>\n",
              "  <tbody>\n",
              "    <tr>\n",
              "      <th>count</th>\n",
              "      <td>53940.000000</td>\n",
              "      <td>53940.000000</td>\n",
              "    </tr>\n",
              "    <tr>\n",
              "      <th>mean</th>\n",
              "      <td>0.797940</td>\n",
              "      <td>5.731157</td>\n",
              "    </tr>\n",
              "    <tr>\n",
              "      <th>std</th>\n",
              "      <td>0.474011</td>\n",
              "      <td>1.121761</td>\n",
              "    </tr>\n",
              "    <tr>\n",
              "      <th>min</th>\n",
              "      <td>0.200000</td>\n",
              "      <td>0.000000</td>\n",
              "    </tr>\n",
              "    <tr>\n",
              "      <th>25%</th>\n",
              "      <td>0.400000</td>\n",
              "      <td>4.710000</td>\n",
              "    </tr>\n",
              "    <tr>\n",
              "      <th>50%</th>\n",
              "      <td>0.700000</td>\n",
              "      <td>5.700000</td>\n",
              "    </tr>\n",
              "    <tr>\n",
              "      <th>75%</th>\n",
              "      <td>1.040000</td>\n",
              "      <td>6.540000</td>\n",
              "    </tr>\n",
              "    <tr>\n",
              "      <th>max</th>\n",
              "      <td>5.010000</td>\n",
              "      <td>10.740000</td>\n",
              "    </tr>\n",
              "  </tbody>\n",
              "</table>\n",
              "</div>\n",
              "    <div class=\"colab-df-buttons\">\n",
              "\n",
              "  <div class=\"colab-df-container\">\n",
              "    <button class=\"colab-df-convert\" onclick=\"convertToInteractive('df-5e0e22d5-ed4c-4342-a16b-6063755657c7')\"\n",
              "            title=\"Convert this dataframe to an interactive table.\"\n",
              "            style=\"display:none;\">\n",
              "\n",
              "  <svg xmlns=\"http://www.w3.org/2000/svg\" height=\"24px\" viewBox=\"0 -960 960 960\">\n",
              "    <path d=\"M120-120v-720h720v720H120Zm60-500h600v-160H180v160Zm220 220h160v-160H400v160Zm0 220h160v-160H400v160ZM180-400h160v-160H180v160Zm440 0h160v-160H620v160ZM180-180h160v-160H180v160Zm440 0h160v-160H620v160Z\"/>\n",
              "  </svg>\n",
              "    </button>\n",
              "\n",
              "  <style>\n",
              "    .colab-df-container {\n",
              "      display:flex;\n",
              "      gap: 12px;\n",
              "    }\n",
              "\n",
              "    .colab-df-convert {\n",
              "      background-color: #E8F0FE;\n",
              "      border: none;\n",
              "      border-radius: 50%;\n",
              "      cursor: pointer;\n",
              "      display: none;\n",
              "      fill: #1967D2;\n",
              "      height: 32px;\n",
              "      padding: 0 0 0 0;\n",
              "      width: 32px;\n",
              "    }\n",
              "\n",
              "    .colab-df-convert:hover {\n",
              "      background-color: #E2EBFA;\n",
              "      box-shadow: 0px 1px 2px rgba(60, 64, 67, 0.3), 0px 1px 3px 1px rgba(60, 64, 67, 0.15);\n",
              "      fill: #174EA6;\n",
              "    }\n",
              "\n",
              "    .colab-df-buttons div {\n",
              "      margin-bottom: 4px;\n",
              "    }\n",
              "\n",
              "    [theme=dark] .colab-df-convert {\n",
              "      background-color: #3B4455;\n",
              "      fill: #D2E3FC;\n",
              "    }\n",
              "\n",
              "    [theme=dark] .colab-df-convert:hover {\n",
              "      background-color: #434B5C;\n",
              "      box-shadow: 0px 1px 3px 1px rgba(0, 0, 0, 0.15);\n",
              "      filter: drop-shadow(0px 1px 2px rgba(0, 0, 0, 0.3));\n",
              "      fill: #FFFFFF;\n",
              "    }\n",
              "  </style>\n",
              "\n",
              "    <script>\n",
              "      const buttonEl =\n",
              "        document.querySelector('#df-5e0e22d5-ed4c-4342-a16b-6063755657c7 button.colab-df-convert');\n",
              "      buttonEl.style.display =\n",
              "        google.colab.kernel.accessAllowed ? 'block' : 'none';\n",
              "\n",
              "      async function convertToInteractive(key) {\n",
              "        const element = document.querySelector('#df-5e0e22d5-ed4c-4342-a16b-6063755657c7');\n",
              "        const dataTable =\n",
              "          await google.colab.kernel.invokeFunction('convertToInteractive',\n",
              "                                                    [key], {});\n",
              "        if (!dataTable) return;\n",
              "\n",
              "        const docLinkHtml = 'Like what you see? Visit the ' +\n",
              "          '<a target=\"_blank\" href=https://colab.research.google.com/notebooks/data_table.ipynb>data table notebook</a>'\n",
              "          + ' to learn more about interactive tables.';\n",
              "        element.innerHTML = '';\n",
              "        dataTable['output_type'] = 'display_data';\n",
              "        await google.colab.output.renderOutput(dataTable, element);\n",
              "        const docLink = document.createElement('div');\n",
              "        docLink.innerHTML = docLinkHtml;\n",
              "        element.appendChild(docLink);\n",
              "      }\n",
              "    </script>\n",
              "  </div>\n",
              "\n",
              "\n",
              "<div id=\"df-f480c3e1-e704-46e0-b4ec-29be20f987a9\">\n",
              "  <button class=\"colab-df-quickchart\" onclick=\"quickchart('df-f480c3e1-e704-46e0-b4ec-29be20f987a9')\"\n",
              "            title=\"Suggest charts\"\n",
              "            style=\"display:none;\">\n",
              "\n",
              "<svg xmlns=\"http://www.w3.org/2000/svg\" height=\"24px\"viewBox=\"0 0 24 24\"\n",
              "     width=\"24px\">\n",
              "    <g>\n",
              "        <path d=\"M19 3H5c-1.1 0-2 .9-2 2v14c0 1.1.9 2 2 2h14c1.1 0 2-.9 2-2V5c0-1.1-.9-2-2-2zM9 17H7v-7h2v7zm4 0h-2V7h2v10zm4 0h-2v-4h2v4z\"/>\n",
              "    </g>\n",
              "</svg>\n",
              "  </button>\n",
              "\n",
              "<style>\n",
              "  .colab-df-quickchart {\n",
              "      --bg-color: #E8F0FE;\n",
              "      --fill-color: #1967D2;\n",
              "      --hover-bg-color: #E2EBFA;\n",
              "      --hover-fill-color: #174EA6;\n",
              "      --disabled-fill-color: #AAA;\n",
              "      --disabled-bg-color: #DDD;\n",
              "  }\n",
              "\n",
              "  [theme=dark] .colab-df-quickchart {\n",
              "      --bg-color: #3B4455;\n",
              "      --fill-color: #D2E3FC;\n",
              "      --hover-bg-color: #434B5C;\n",
              "      --hover-fill-color: #FFFFFF;\n",
              "      --disabled-bg-color: #3B4455;\n",
              "      --disabled-fill-color: #666;\n",
              "  }\n",
              "\n",
              "  .colab-df-quickchart {\n",
              "    background-color: var(--bg-color);\n",
              "    border: none;\n",
              "    border-radius: 50%;\n",
              "    cursor: pointer;\n",
              "    display: none;\n",
              "    fill: var(--fill-color);\n",
              "    height: 32px;\n",
              "    padding: 0;\n",
              "    width: 32px;\n",
              "  }\n",
              "\n",
              "  .colab-df-quickchart:hover {\n",
              "    background-color: var(--hover-bg-color);\n",
              "    box-shadow: 0 1px 2px rgba(60, 64, 67, 0.3), 0 1px 3px 1px rgba(60, 64, 67, 0.15);\n",
              "    fill: var(--button-hover-fill-color);\n",
              "  }\n",
              "\n",
              "  .colab-df-quickchart-complete:disabled,\n",
              "  .colab-df-quickchart-complete:disabled:hover {\n",
              "    background-color: var(--disabled-bg-color);\n",
              "    fill: var(--disabled-fill-color);\n",
              "    box-shadow: none;\n",
              "  }\n",
              "\n",
              "  .colab-df-spinner {\n",
              "    border: 2px solid var(--fill-color);\n",
              "    border-color: transparent;\n",
              "    border-bottom-color: var(--fill-color);\n",
              "    animation:\n",
              "      spin 1s steps(1) infinite;\n",
              "  }\n",
              "\n",
              "  @keyframes spin {\n",
              "    0% {\n",
              "      border-color: transparent;\n",
              "      border-bottom-color: var(--fill-color);\n",
              "      border-left-color: var(--fill-color);\n",
              "    }\n",
              "    20% {\n",
              "      border-color: transparent;\n",
              "      border-left-color: var(--fill-color);\n",
              "      border-top-color: var(--fill-color);\n",
              "    }\n",
              "    30% {\n",
              "      border-color: transparent;\n",
              "      border-left-color: var(--fill-color);\n",
              "      border-top-color: var(--fill-color);\n",
              "      border-right-color: var(--fill-color);\n",
              "    }\n",
              "    40% {\n",
              "      border-color: transparent;\n",
              "      border-right-color: var(--fill-color);\n",
              "      border-top-color: var(--fill-color);\n",
              "    }\n",
              "    60% {\n",
              "      border-color: transparent;\n",
              "      border-right-color: var(--fill-color);\n",
              "    }\n",
              "    80% {\n",
              "      border-color: transparent;\n",
              "      border-right-color: var(--fill-color);\n",
              "      border-bottom-color: var(--fill-color);\n",
              "    }\n",
              "    90% {\n",
              "      border-color: transparent;\n",
              "      border-bottom-color: var(--fill-color);\n",
              "    }\n",
              "  }\n",
              "</style>\n",
              "\n",
              "  <script>\n",
              "    async function quickchart(key) {\n",
              "      const quickchartButtonEl =\n",
              "        document.querySelector('#' + key + ' button');\n",
              "      quickchartButtonEl.disabled = true;  // To prevent multiple clicks.\n",
              "      quickchartButtonEl.classList.add('colab-df-spinner');\n",
              "      try {\n",
              "        const charts = await google.colab.kernel.invokeFunction(\n",
              "            'suggestCharts', [key], {});\n",
              "      } catch (error) {\n",
              "        console.error('Error during call to suggestCharts:', error);\n",
              "      }\n",
              "      quickchartButtonEl.classList.remove('colab-df-spinner');\n",
              "      quickchartButtonEl.classList.add('colab-df-quickchart-complete');\n",
              "    }\n",
              "    (() => {\n",
              "      let quickchartButtonEl =\n",
              "        document.querySelector('#df-f480c3e1-e704-46e0-b4ec-29be20f987a9 button');\n",
              "      quickchartButtonEl.style.display =\n",
              "        google.colab.kernel.accessAllowed ? 'block' : 'none';\n",
              "    })();\n",
              "  </script>\n",
              "</div>\n",
              "\n",
              "    </div>\n",
              "  </div>\n"
            ],
            "application/vnd.google.colaboratory.intrinsic+json": {
              "type": "dataframe",
              "summary": "{\n  \"name\": \"diamonds_df[['carat', 'x']]\",\n  \"rows\": 8,\n  \"fields\": [\n    {\n      \"column\": \"carat\",\n      \"properties\": {\n        \"dtype\": \"number\",\n        \"std\": 19070.234478413542,\n        \"min\": 0.2,\n        \"max\": 53940.0,\n        \"num_unique_values\": 8,\n        \"samples\": [\n          0.7979397478680014,\n          0.7,\n          53940.0\n        ],\n        \"semantic_type\": \"\",\n        \"description\": \"\"\n      }\n    },\n    {\n      \"column\": \"x\",\n      \"properties\": {\n        \"dtype\": \"number\",\n        \"std\": 19068.925494102747,\n        \"min\": 0.0,\n        \"max\": 53940.0,\n        \"num_unique_values\": 8,\n        \"samples\": [\n          5.731157211716722,\n          5.7,\n          53940.0\n        ],\n        \"semantic_type\": \"\",\n        \"description\": \"\"\n      }\n    }\n  ]\n}"
            }
          },
          "metadata": {},
          "execution_count": 41
        }
      ]
    },
    {
      "cell_type": "code",
      "source": [
        "y_predicted_final_test =regression_final_training.predict(X_test[['carat', 'x']])"
      ],
      "metadata": {
        "id": "gRqXL8Yd8JlQ"
      },
      "id": "gRqXL8Yd8JlQ",
      "execution_count": 42,
      "outputs": []
    },
    {
      "cell_type": "code",
      "source": [
        "from sklearn.metrics import mean_squared_error"
      ],
      "metadata": {
        "id": "JojXkhWC888Z"
      },
      "id": "JojXkhWC888Z",
      "execution_count": 43,
      "outputs": []
    },
    {
      "cell_type": "code",
      "source": [
        "mean_squared_error(y_test, y_predicted_final_test)"
      ],
      "metadata": {
        "colab": {
          "base_uri": "https://localhost:8080/"
        },
        "id": "cZXkv4Vc8_Tt",
        "outputId": "bf8fdcb9-2c51-43c6-dc9b-3dc351ef5507"
      },
      "id": "cZXkv4Vc8_Tt",
      "execution_count": 44,
      "outputs": [
        {
          "output_type": "execute_result",
          "data": {
            "text/plain": [
              "2276716.303596961"
            ]
          },
          "metadata": {},
          "execution_count": 44
        }
      ]
    },
    {
      "cell_type": "code",
      "source": [
        "mean_squared_error(y_test, y_predicted_final_test, squared= False)"
      ],
      "metadata": {
        "colab": {
          "base_uri": "https://localhost:8080/"
        },
        "id": "QBolyAlS9EZ6",
        "outputId": "bde7b1d9-378c-4595-d57f-f80616a6e4fa"
      },
      "id": "QBolyAlS9EZ6",
      "execution_count": 45,
      "outputs": [
        {
          "output_type": "execute_result",
          "data": {
            "text/plain": [
              "1508.8791547360447"
            ]
          },
          "metadata": {},
          "execution_count": 45
        }
      ]
    },
    {
      "cell_type": "code",
      "source": [
        "import numpy as np\n",
        "\n",
        "# Set random seed for reproducibility (optional)\n",
        "np.random.seed(42)\n",
        "\n",
        "# Generate 5 random values for 'carat' between the min and max\n",
        "carat_values_random = np.random.uniform(diamonds_df['carat'].min(), diamonds_df['carat'].max(), 5)\n",
        "\n",
        "# Generate 5 random values for 'x' between the min and max\n",
        "x_values_random = np.random.uniform(diamonds_df['x'].min(), diamonds_df['x'].max(), 5)\n",
        "\n",
        "print(f\"Random Carat values: {carat_values_random}\")\n",
        "print(f\"Random X values: {x_values_random}\")"
      ],
      "metadata": {
        "colab": {
          "base_uri": "https://localhost:8080/"
        },
        "id": "he3Om9UE3m6n",
        "outputId": "4149411e-ceb3-4287-f53d-1e6dd3bf0ff2"
      },
      "id": "he3Om9UE3m6n",
      "execution_count": 46,
      "outputs": [
        {
          "output_type": "stream",
          "name": "stdout",
          "text": [
            "Random Carat values: [2.00153797 4.77293581 3.72089086 3.07954731 0.95044966]\n",
            "Random X values: [1.67538115 0.62381799 9.30273181 6.45597523 7.60469949]\n"
          ]
        }
      ]
    },
    {
      "cell_type": "markdown",
      "source": [
        "# Justification for selected values:\n",
        "## I chose the values for 'carat' and 'x' randomly from within the range of the dataset to ensure they represent realistic diamond sizes and dimensions."
      ],
      "metadata": {
        "id": "YDqrFjR76mlA"
      },
      "id": "YDqrFjR76mlA"
    },
    {
      "cell_type": "code",
      "source": [
        "new_diamonds_random = pd.DataFrame({\n",
        "    'carat': carat_values_random,\n",
        "    'x': x_values_random\n",
        "})"
      ],
      "metadata": {
        "id": "lRoE-ks54D9R"
      },
      "id": "lRoE-ks54D9R",
      "execution_count": 47,
      "outputs": []
    },
    {
      "cell_type": "code",
      "source": [
        "new_diamonds_random.head()"
      ],
      "metadata": {
        "colab": {
          "base_uri": "https://localhost:8080/",
          "height": 206
        },
        "id": "P_uIdY9J9T6V",
        "outputId": "2e2f0c01-c89e-4897-968a-bdd624d99e61"
      },
      "id": "P_uIdY9J9T6V",
      "execution_count": 48,
      "outputs": [
        {
          "output_type": "execute_result",
          "data": {
            "text/plain": [
              "      carat         x\n",
              "0  2.001538  1.675381\n",
              "1  4.772936  0.623818\n",
              "2  3.720891  9.302732\n",
              "3  3.079547  6.455975\n",
              "4  0.950450  7.604699"
            ],
            "text/html": [
              "\n",
              "  <div id=\"df-aeb3e80a-3135-42f0-ae86-1305cfa957ed\" class=\"colab-df-container\">\n",
              "    <div>\n",
              "<style scoped>\n",
              "    .dataframe tbody tr th:only-of-type {\n",
              "        vertical-align: middle;\n",
              "    }\n",
              "\n",
              "    .dataframe tbody tr th {\n",
              "        vertical-align: top;\n",
              "    }\n",
              "\n",
              "    .dataframe thead th {\n",
              "        text-align: right;\n",
              "    }\n",
              "</style>\n",
              "<table border=\"1\" class=\"dataframe\">\n",
              "  <thead>\n",
              "    <tr style=\"text-align: right;\">\n",
              "      <th></th>\n",
              "      <th>carat</th>\n",
              "      <th>x</th>\n",
              "    </tr>\n",
              "  </thead>\n",
              "  <tbody>\n",
              "    <tr>\n",
              "      <th>0</th>\n",
              "      <td>2.001538</td>\n",
              "      <td>1.675381</td>\n",
              "    </tr>\n",
              "    <tr>\n",
              "      <th>1</th>\n",
              "      <td>4.772936</td>\n",
              "      <td>0.623818</td>\n",
              "    </tr>\n",
              "    <tr>\n",
              "      <th>2</th>\n",
              "      <td>3.720891</td>\n",
              "      <td>9.302732</td>\n",
              "    </tr>\n",
              "    <tr>\n",
              "      <th>3</th>\n",
              "      <td>3.079547</td>\n",
              "      <td>6.455975</td>\n",
              "    </tr>\n",
              "    <tr>\n",
              "      <th>4</th>\n",
              "      <td>0.950450</td>\n",
              "      <td>7.604699</td>\n",
              "    </tr>\n",
              "  </tbody>\n",
              "</table>\n",
              "</div>\n",
              "    <div class=\"colab-df-buttons\">\n",
              "\n",
              "  <div class=\"colab-df-container\">\n",
              "    <button class=\"colab-df-convert\" onclick=\"convertToInteractive('df-aeb3e80a-3135-42f0-ae86-1305cfa957ed')\"\n",
              "            title=\"Convert this dataframe to an interactive table.\"\n",
              "            style=\"display:none;\">\n",
              "\n",
              "  <svg xmlns=\"http://www.w3.org/2000/svg\" height=\"24px\" viewBox=\"0 -960 960 960\">\n",
              "    <path d=\"M120-120v-720h720v720H120Zm60-500h600v-160H180v160Zm220 220h160v-160H400v160Zm0 220h160v-160H400v160ZM180-400h160v-160H180v160Zm440 0h160v-160H620v160ZM180-180h160v-160H180v160Zm440 0h160v-160H620v160Z\"/>\n",
              "  </svg>\n",
              "    </button>\n",
              "\n",
              "  <style>\n",
              "    .colab-df-container {\n",
              "      display:flex;\n",
              "      gap: 12px;\n",
              "    }\n",
              "\n",
              "    .colab-df-convert {\n",
              "      background-color: #E8F0FE;\n",
              "      border: none;\n",
              "      border-radius: 50%;\n",
              "      cursor: pointer;\n",
              "      display: none;\n",
              "      fill: #1967D2;\n",
              "      height: 32px;\n",
              "      padding: 0 0 0 0;\n",
              "      width: 32px;\n",
              "    }\n",
              "\n",
              "    .colab-df-convert:hover {\n",
              "      background-color: #E2EBFA;\n",
              "      box-shadow: 0px 1px 2px rgba(60, 64, 67, 0.3), 0px 1px 3px 1px rgba(60, 64, 67, 0.15);\n",
              "      fill: #174EA6;\n",
              "    }\n",
              "\n",
              "    .colab-df-buttons div {\n",
              "      margin-bottom: 4px;\n",
              "    }\n",
              "\n",
              "    [theme=dark] .colab-df-convert {\n",
              "      background-color: #3B4455;\n",
              "      fill: #D2E3FC;\n",
              "    }\n",
              "\n",
              "    [theme=dark] .colab-df-convert:hover {\n",
              "      background-color: #434B5C;\n",
              "      box-shadow: 0px 1px 3px 1px rgba(0, 0, 0, 0.15);\n",
              "      filter: drop-shadow(0px 1px 2px rgba(0, 0, 0, 0.3));\n",
              "      fill: #FFFFFF;\n",
              "    }\n",
              "  </style>\n",
              "\n",
              "    <script>\n",
              "      const buttonEl =\n",
              "        document.querySelector('#df-aeb3e80a-3135-42f0-ae86-1305cfa957ed button.colab-df-convert');\n",
              "      buttonEl.style.display =\n",
              "        google.colab.kernel.accessAllowed ? 'block' : 'none';\n",
              "\n",
              "      async function convertToInteractive(key) {\n",
              "        const element = document.querySelector('#df-aeb3e80a-3135-42f0-ae86-1305cfa957ed');\n",
              "        const dataTable =\n",
              "          await google.colab.kernel.invokeFunction('convertToInteractive',\n",
              "                                                    [key], {});\n",
              "        if (!dataTable) return;\n",
              "\n",
              "        const docLinkHtml = 'Like what you see? Visit the ' +\n",
              "          '<a target=\"_blank\" href=https://colab.research.google.com/notebooks/data_table.ipynb>data table notebook</a>'\n",
              "          + ' to learn more about interactive tables.';\n",
              "        element.innerHTML = '';\n",
              "        dataTable['output_type'] = 'display_data';\n",
              "        await google.colab.output.renderOutput(dataTable, element);\n",
              "        const docLink = document.createElement('div');\n",
              "        docLink.innerHTML = docLinkHtml;\n",
              "        element.appendChild(docLink);\n",
              "      }\n",
              "    </script>\n",
              "  </div>\n",
              "\n",
              "\n",
              "<div id=\"df-7d63f5ec-79dd-47fc-a9e3-4b6d12a5730d\">\n",
              "  <button class=\"colab-df-quickchart\" onclick=\"quickchart('df-7d63f5ec-79dd-47fc-a9e3-4b6d12a5730d')\"\n",
              "            title=\"Suggest charts\"\n",
              "            style=\"display:none;\">\n",
              "\n",
              "<svg xmlns=\"http://www.w3.org/2000/svg\" height=\"24px\"viewBox=\"0 0 24 24\"\n",
              "     width=\"24px\">\n",
              "    <g>\n",
              "        <path d=\"M19 3H5c-1.1 0-2 .9-2 2v14c0 1.1.9 2 2 2h14c1.1 0 2-.9 2-2V5c0-1.1-.9-2-2-2zM9 17H7v-7h2v7zm4 0h-2V7h2v10zm4 0h-2v-4h2v4z\"/>\n",
              "    </g>\n",
              "</svg>\n",
              "  </button>\n",
              "\n",
              "<style>\n",
              "  .colab-df-quickchart {\n",
              "      --bg-color: #E8F0FE;\n",
              "      --fill-color: #1967D2;\n",
              "      --hover-bg-color: #E2EBFA;\n",
              "      --hover-fill-color: #174EA6;\n",
              "      --disabled-fill-color: #AAA;\n",
              "      --disabled-bg-color: #DDD;\n",
              "  }\n",
              "\n",
              "  [theme=dark] .colab-df-quickchart {\n",
              "      --bg-color: #3B4455;\n",
              "      --fill-color: #D2E3FC;\n",
              "      --hover-bg-color: #434B5C;\n",
              "      --hover-fill-color: #FFFFFF;\n",
              "      --disabled-bg-color: #3B4455;\n",
              "      --disabled-fill-color: #666;\n",
              "  }\n",
              "\n",
              "  .colab-df-quickchart {\n",
              "    background-color: var(--bg-color);\n",
              "    border: none;\n",
              "    border-radius: 50%;\n",
              "    cursor: pointer;\n",
              "    display: none;\n",
              "    fill: var(--fill-color);\n",
              "    height: 32px;\n",
              "    padding: 0;\n",
              "    width: 32px;\n",
              "  }\n",
              "\n",
              "  .colab-df-quickchart:hover {\n",
              "    background-color: var(--hover-bg-color);\n",
              "    box-shadow: 0 1px 2px rgba(60, 64, 67, 0.3), 0 1px 3px 1px rgba(60, 64, 67, 0.15);\n",
              "    fill: var(--button-hover-fill-color);\n",
              "  }\n",
              "\n",
              "  .colab-df-quickchart-complete:disabled,\n",
              "  .colab-df-quickchart-complete:disabled:hover {\n",
              "    background-color: var(--disabled-bg-color);\n",
              "    fill: var(--disabled-fill-color);\n",
              "    box-shadow: none;\n",
              "  }\n",
              "\n",
              "  .colab-df-spinner {\n",
              "    border: 2px solid var(--fill-color);\n",
              "    border-color: transparent;\n",
              "    border-bottom-color: var(--fill-color);\n",
              "    animation:\n",
              "      spin 1s steps(1) infinite;\n",
              "  }\n",
              "\n",
              "  @keyframes spin {\n",
              "    0% {\n",
              "      border-color: transparent;\n",
              "      border-bottom-color: var(--fill-color);\n",
              "      border-left-color: var(--fill-color);\n",
              "    }\n",
              "    20% {\n",
              "      border-color: transparent;\n",
              "      border-left-color: var(--fill-color);\n",
              "      border-top-color: var(--fill-color);\n",
              "    }\n",
              "    30% {\n",
              "      border-color: transparent;\n",
              "      border-left-color: var(--fill-color);\n",
              "      border-top-color: var(--fill-color);\n",
              "      border-right-color: var(--fill-color);\n",
              "    }\n",
              "    40% {\n",
              "      border-color: transparent;\n",
              "      border-right-color: var(--fill-color);\n",
              "      border-top-color: var(--fill-color);\n",
              "    }\n",
              "    60% {\n",
              "      border-color: transparent;\n",
              "      border-right-color: var(--fill-color);\n",
              "    }\n",
              "    80% {\n",
              "      border-color: transparent;\n",
              "      border-right-color: var(--fill-color);\n",
              "      border-bottom-color: var(--fill-color);\n",
              "    }\n",
              "    90% {\n",
              "      border-color: transparent;\n",
              "      border-bottom-color: var(--fill-color);\n",
              "    }\n",
              "  }\n",
              "</style>\n",
              "\n",
              "  <script>\n",
              "    async function quickchart(key) {\n",
              "      const quickchartButtonEl =\n",
              "        document.querySelector('#' + key + ' button');\n",
              "      quickchartButtonEl.disabled = true;  // To prevent multiple clicks.\n",
              "      quickchartButtonEl.classList.add('colab-df-spinner');\n",
              "      try {\n",
              "        const charts = await google.colab.kernel.invokeFunction(\n",
              "            'suggestCharts', [key], {});\n",
              "      } catch (error) {\n",
              "        console.error('Error during call to suggestCharts:', error);\n",
              "      }\n",
              "      quickchartButtonEl.classList.remove('colab-df-spinner');\n",
              "      quickchartButtonEl.classList.add('colab-df-quickchart-complete');\n",
              "    }\n",
              "    (() => {\n",
              "      let quickchartButtonEl =\n",
              "        document.querySelector('#df-7d63f5ec-79dd-47fc-a9e3-4b6d12a5730d button');\n",
              "      quickchartButtonEl.style.display =\n",
              "        google.colab.kernel.accessAllowed ? 'block' : 'none';\n",
              "    })();\n",
              "  </script>\n",
              "</div>\n",
              "\n",
              "    </div>\n",
              "  </div>\n"
            ],
            "application/vnd.google.colaboratory.intrinsic+json": {
              "type": "dataframe",
              "variable_name": "new_diamonds_random",
              "summary": "{\n  \"name\": \"new_diamonds_random\",\n  \"rows\": 5,\n  \"fields\": [\n    {\n      \"column\": \"carat\",\n      \"properties\": {\n        \"dtype\": \"number\",\n        \"std\": 1.4850790806655705,\n        \"min\": 0.9504496605281196,\n        \"max\": 4.772935813831697,\n        \"num_unique_values\": 5,\n        \"samples\": [\n          4.772935813831697,\n          0.9504496605281196,\n          3.7208908601128585\n        ],\n        \"semantic_type\": \"\",\n        \"description\": \"\"\n      }\n    },\n    {\n      \"column\": \"x\",\n      \"properties\": {\n        \"dtype\": \"number\",\n        \"std\": 3.792560957316901,\n        \"min\": 0.6238179946864623,\n        \"max\": 9.302731805622804,\n        \"num_unique_values\": 5,\n        \"samples\": [\n          0.6238179946864623,\n          7.604699485529529,\n          9.302731805622804\n        ],\n        \"semantic_type\": \"\",\n        \"description\": \"\"\n      }\n    }\n  ]\n}"
            }
          },
          "metadata": {},
          "execution_count": 48
        }
      ]
    },
    {
      "cell_type": "code",
      "source": [
        "predicted_prices = regression_final_training.predict(new_diamonds_random)"
      ],
      "metadata": {
        "id": "HmqXF6vT6Z1E"
      },
      "id": "HmqXF6vT6Z1E",
      "execution_count": 49,
      "outputs": []
    },
    {
      "cell_type": "code",
      "source": [
        "from sklearn.metrics import mean_squared_error"
      ],
      "metadata": {
        "id": "UoMehzpg7fc7"
      },
      "id": "UoMehzpg7fc7",
      "execution_count": 50,
      "outputs": []
    },
    {
      "cell_type": "code",
      "source": [
        "mean_squared_error(y_test[:5], predicted_prices)"
      ],
      "metadata": {
        "colab": {
          "base_uri": "https://localhost:8080/"
        },
        "id": "mPK1MLPx7k8U",
        "outputId": "a828cc2e-0026-4dc2-969a-0958cdf854de"
      },
      "id": "mPK1MLPx7k8U",
      "execution_count": 51,
      "outputs": [
        {
          "output_type": "execute_result",
          "data": {
            "text/plain": [
              "722119774.7884436"
            ]
          },
          "metadata": {},
          "execution_count": 51
        }
      ]
    },
    {
      "cell_type": "markdown",
      "source": [
        "#### Question 3: Reading question (10 points)"
      ],
      "metadata": {
        "id": "WDvRby3r0IZF"
      },
      "id": "WDvRby3r0IZF"
    },
    {
      "cell_type": "markdown",
      "source": [
        "From section 3.3.3 of the book, read the ideas discussed on the fourth bullet point (Outliers).\n",
        "\n",
        "The last paragraph ends with this fragment:\n",
        "\n",
        "\"_However, care should be taken, since an outlier may instead indicate a\n",
        "deficiency with the model, such as a missing predictor._\"\n",
        "\n",
        "__Answer two questions about this fragment__:\n",
        "\n",
        "What do they mean when they say that an outlier may indicate a missing predictor?\n",
        "\n",
        "What can you detect this \"possible\" missing predictor?\n",
        "\n",
        "<br>\n",
        "\n",
        "_Note_ : ChatGPT may give you the wrong answer for this one :)"
      ],
      "metadata": {
        "id": "g8F16onyz6Mm"
      },
      "id": "g8F16onyz6Mm"
    },
    {
      "cell_type": "markdown",
      "source": [
        "# Answer for question 3\n",
        "\n",
        "## What do they mean when they say that an outlier may indicate a missing predictor?\n",
        "### When an outlier is caused by a missing predictor, it reflects a deficiency in the model’s ability to account for all factors influencing the outcome.\n",
        "\n",
        "## What can you detect this \"possible\" missing predictor?\n",
        "### You can detect the possibility of a missing predictor by analyzing the residuals, examining the context of the data, considering additional relevant variables, and using diagnostic techniques to evaluate the model's performance."
      ],
      "metadata": {
        "id": "-B_7uoolBBc9"
      },
      "id": "-B_7uoolBBc9"
    }
  ],
  "metadata": {
    "kernelspec": {
      "display_name": "Python 3 (ipykernel)",
      "language": "python",
      "name": "python3"
    },
    "language_info": {
      "codemirror_mode": {
        "name": "ipython",
        "version": 3
      },
      "file_extension": ".py",
      "mimetype": "text/x-python",
      "name": "python",
      "nbconvert_exporter": "python",
      "pygments_lexer": "ipython3",
      "version": "3.9.13"
    },
    "colab": {
      "provenance": []
    }
  },
  "nbformat": 4,
  "nbformat_minor": 5
}