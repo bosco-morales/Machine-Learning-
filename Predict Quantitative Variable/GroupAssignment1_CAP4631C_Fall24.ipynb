{
  "cells": [
    {
      "cell_type": "markdown",
      "source": [
        "**Group 5 members:**\n",
        "\n",
        "Alberto Diaz\n",
        "\n",
        "Barbara Lorenzo\n",
        "\n",
        "Bosco Morales\n",
        "\n",
        "Robert Rivera"
      ],
      "metadata": {
        "id": "co9j9NTW9rXP"
      },
      "id": "co9j9NTW9rXP"
    },
    {
      "cell_type": "markdown",
      "id": "a1624fd8",
      "metadata": {
        "id": "a1624fd8"
      },
      "source": [
        "## Assignment 1. CAP 4631C. Fall 2024\n",
        "\n",
        "### Instructions:\n",
        "\n",
        "Download the file \"radiation_clean.csv\" from Canvas (especifically from the Assignment 1 section). Open a python notebook in Colab and read this file as a data frame in this notebook (as we have done in class with other csv files). Call this data frame __df_assig1__\n",
        "\n",
        "The radiation_clean dataset is part of EPA's RadNet Database. It contains the near-real-time environmental radiation data from fixed and deployable air monitors in different locations in the US. It contains data about the level of several radioactive substances in different locations."
      ]
    },
    {
      "cell_type": "code",
      "source": [
        "from google.colab import drive\n",
        "drive.mount('/content/drive')"
      ],
      "metadata": {
        "colab": {
          "base_uri": "https://localhost:8080/"
        },
        "id": "Y6cfuUr6j9tW",
        "outputId": "f2153c95-4d28-4b02-d403-41f6e0393901"
      },
      "id": "Y6cfuUr6j9tW",
      "execution_count": null,
      "outputs": [
        {
          "output_type": "stream",
          "name": "stdout",
          "text": [
            "Mounted at /content/drive\n"
          ]
        }
      ]
    },
    {
      "cell_type": "code",
      "source": [
        "path_radiation_dataset=\"/content/drive/MyDrive/Colab Notebooks/Machine Learning 1/Module 1/Assignment 1/radiation_clean.csv\""
      ],
      "metadata": {
        "id": "6AORfoZzkIsW"
      },
      "id": "6AORfoZzkIsW",
      "execution_count": null,
      "outputs": []
    },
    {
      "cell_type": "code",
      "source": [
        "import pandas as pd"
      ],
      "metadata": {
        "id": "8nrwUM9TkitE"
      },
      "id": "8nrwUM9TkitE",
      "execution_count": null,
      "outputs": []
    },
    {
      "cell_type": "code",
      "source": [
        "df_assig1= pd.read_csv(path_radiation_dataset)"
      ],
      "metadata": {
        "id": "nPu755eCklbl"
      },
      "id": "nPu755eCklbl",
      "execution_count": null,
      "outputs": []
    },
    {
      "cell_type": "markdown",
      "id": "43cc3cfe",
      "metadata": {
        "id": "43cc3cfe"
      },
      "source": [
        "__AFTER__ you read the csv file as a data frame, take a look at __df_assig1__ by running the following code cell:"
      ]
    },
    {
      "cell_type": "code",
      "execution_count": null,
      "id": "bd73aae9",
      "metadata": {
        "scrolled": true,
        "id": "bd73aae9",
        "colab": {
          "base_uri": "https://localhost:8080/"
        },
        "outputId": "197e3cc2-306f-49aa-910b-9d98633979c5"
      },
      "outputs": [
        {
          "output_type": "stream",
          "name": "stdout",
          "text": [
            "<class 'pandas.core.frame.DataFrame'>\n",
            "RangeIndex: 606 entries, 0 to 605\n",
            "Data columns (total 18 columns):\n",
            " #   Column          Non-Null Count  Dtype  \n",
            "---  ------          --------------  -----  \n",
            " 0   State           606 non-null    object \n",
            " 1   Location        606 non-null    object \n",
            " 2   Date Posted     606 non-null    object \n",
            " 3   Date Collected  606 non-null    object \n",
            " 4   Sample Type     606 non-null    object \n",
            " 5   Unit            606 non-null    object \n",
            " 6   Ba-140          605 non-null    float64\n",
            " 7   Co-60           605 non-null    float64\n",
            " 8   Cs-134          606 non-null    int64  \n",
            " 9   Cs-136          506 non-null    float64\n",
            " 10  Cs-137          606 non-null    int64  \n",
            " 11  I-131           606 non-null    int64  \n",
            " 12  I-132           606 non-null    int64  \n",
            " 13  I-133           605 non-null    float64\n",
            " 14  Te-129          506 non-null    float64\n",
            " 15  Te-129m         506 non-null    float64\n",
            " 16  Te-132          606 non-null    int64  \n",
            " 17  Ba-140.1        0 non-null      float64\n",
            "dtypes: float64(7), int64(5), object(6)\n",
            "memory usage: 85.3+ KB\n"
          ]
        }
      ],
      "source": [
        "df_assig1.info()"
      ]
    },
    {
      "cell_type": "markdown",
      "id": "71b93188",
      "metadata": {
        "id": "71b93188"
      },
      "source": [
        "__Question 1__ (8 points): Create a Numpy array called _i131_data_ with the data from the column _I-131_ in __df_assig1__.\n",
        "\n",
        "Note: I-131 (i.e., Iodine-131) is one of many radiactive substances.\n",
        "\n",
        "Hint: Use the same method we used in class to read the PRCP column from the rain dataset into a NumPy array."
      ]
    },
    {
      "cell_type": "code",
      "execution_count": null,
      "id": "8200ebd7",
      "metadata": {
        "id": "8200ebd7"
      },
      "outputs": [],
      "source": [
        "# Answer question 1 here\n",
        "\n",
        "i131_data= df_assig1['I-131'].values"
      ]
    },
    {
      "cell_type": "code",
      "source": [
        "type(i131_data)"
      ],
      "metadata": {
        "colab": {
          "base_uri": "https://localhost:8080/"
        },
        "id": "Vhgh2LkNllMV",
        "outputId": "9fb41b69-0369-4af6-be17-7d4e2c8fec9c"
      },
      "id": "Vhgh2LkNllMV",
      "execution_count": null,
      "outputs": [
        {
          "output_type": "execute_result",
          "data": {
            "text/plain": [
              "numpy.ndarray"
            ]
          },
          "metadata": {},
          "execution_count": 7
        }
      ]
    },
    {
      "cell_type": "markdown",
      "id": "ed97b568",
      "metadata": {
        "id": "ed97b568"
      },
      "source": [
        "__Question 2__ (8 points): Return the first, sixth, and twelfth elements of i131_data. __Write only one line of code__ to answer this question."
      ]
    },
    {
      "cell_type": "code",
      "execution_count": null,
      "id": "2bbad1f1",
      "metadata": {
        "scrolled": true,
        "id": "2bbad1f1",
        "colab": {
          "base_uri": "https://localhost:8080/"
        },
        "outputId": "403c3f5c-9cbc-4d81-eac2-7cf7869a556a"
      },
      "outputs": [
        {
          "output_type": "stream",
          "name": "stdout",
          "text": [
            "[0 0 1]\n"
          ]
        }
      ],
      "source": [
        "# Answer question 2 here\n",
        "print(i131_data[:13:5])"
      ]
    },
    {
      "cell_type": "markdown",
      "id": "e61259e9",
      "metadata": {
        "id": "e61259e9"
      },
      "source": [
        "__Question 3__ (8 points): Return the last five elements of i131_data.\n",
        "\n",
        "Spring 24: __Write only one line of code__ to answer this question."
      ]
    },
    {
      "cell_type": "code",
      "execution_count": null,
      "id": "01d79cf8",
      "metadata": {
        "scrolled": false,
        "id": "01d79cf8",
        "colab": {
          "base_uri": "https://localhost:8080/"
        },
        "outputId": "cae53f7f-bc05-4ffa-b239-af19fa2bf9a1"
      },
      "outputs": [
        {
          "output_type": "stream",
          "name": "stdout",
          "text": [
            "[6 0 0 0 0]\n"
          ]
        }
      ],
      "source": [
        "# Answer question 3 here\n",
        "print(i131_data[-5:])"
      ]
    },
    {
      "cell_type": "markdown",
      "id": "fff14664",
      "metadata": {
        "id": "fff14664"
      },
      "source": [
        "__Question 4__ (8 points): Return how many times the value of i131_data is between 2 and 4 (both numbers included).\n",
        "\n",
        "__Write only one line of code__ to answer this question."
      ]
    },
    {
      "cell_type": "code",
      "execution_count": null,
      "id": "c3690811",
      "metadata": {
        "scrolled": true,
        "id": "c3690811",
        "colab": {
          "base_uri": "https://localhost:8080/"
        },
        "outputId": "57669a93-5536-4515-cf97-2f3c1d4010a4"
      },
      "outputs": [
        {
          "output_type": "stream",
          "name": "stdout",
          "text": [
            "25\n"
          ]
        }
      ],
      "source": [
        "# Answer question 4 here\n",
        "print(((i131_data >= 2) & (i131_data <= 4)).sum())"
      ]
    },
    {
      "cell_type": "markdown",
      "id": "ed9e3d98",
      "metadata": {
        "id": "ed9e3d98"
      },
      "source": [
        "__Question 5__ (8 points): Return how many times the value of i131_data is either zero or 1. To answer this question, you __CANNOT__ use the symbol < in your answer (the _less than_ symbol). You __must__ answer it without using this symbol."
      ]
    },
    {
      "cell_type": "code",
      "execution_count": null,
      "id": "73cd4879",
      "metadata": {
        "scrolled": true,
        "id": "73cd4879",
        "colab": {
          "base_uri": "https://localhost:8080/"
        },
        "outputId": "57b00913-2eeb-4148-ae49-c8159db67464"
      },
      "outputs": [
        {
          "output_type": "stream",
          "name": "stdout",
          "text": [
            "515\n"
          ]
        }
      ],
      "source": [
        "# Answer question 5 here\n",
        "print(((i131_data == 0) | (i131_data == 1)).sum())"
      ]
    },
    {
      "cell_type": "markdown",
      "id": "75d0192a",
      "metadata": {
        "id": "75d0192a"
      },
      "source": [
        "__Question 6__ (8 points): Return the names of the States where i131_data has been above 2. Use ONLY ONE line of code.\n",
        "\n",
        "Hint: It is ok if your output shows the same State repeated many times."
      ]
    },
    {
      "cell_type": "code",
      "execution_count": null,
      "id": "a1902b64",
      "metadata": {
        "scrolled": true,
        "id": "a1902b64",
        "colab": {
          "base_uri": "https://localhost:8080/"
        },
        "outputId": "ae31087f-bbd5-4647-c28e-2fd212d83306"
      },
      "outputs": [
        {
          "output_type": "stream",
          "name": "stdout",
          "text": [
            "54     AK\n",
            "408    HI\n",
            "411    MO\n",
            "415    AR\n",
            "417    CA\n",
            "       ..\n",
            "574    CO\n",
            "579    CT\n",
            "585    MI\n",
            "598    WA\n",
            "601    CA\n",
            "Name: State, Length: 82, dtype: object\n"
          ]
        }
      ],
      "source": [
        "# Answer question 6 here\n",
        "print(df_assig1.loc[i131_data > 2, 'State'])"
      ]
    },
    {
      "cell_type": "markdown",
      "id": "14d54d37",
      "metadata": {
        "id": "14d54d37"
      },
      "source": [
        "__Question 7__ (8 points): Return how many times i131_data has a value of zero in California.\n",
        "\n",
        "Hint: California is recorded as CA in the State colum."
      ]
    },
    {
      "cell_type": "code",
      "execution_count": null,
      "id": "d78de261",
      "metadata": {
        "scrolled": false,
        "id": "d78de261",
        "colab": {
          "base_uri": "https://localhost:8080/"
        },
        "outputId": "636d6afd-b9ef-47e6-80de-87a3e146f1a2"
      },
      "outputs": [
        {
          "output_type": "stream",
          "name": "stdout",
          "text": [
            "31\n"
          ]
        }
      ],
      "source": [
        "# Answer question 7 here\n",
        "print(((df_assig1['State'] == 'CA') & (i131_data == 0)).sum())"
      ]
    },
    {
      "cell_type": "markdown",
      "id": "95284077",
      "metadata": {
        "id": "95284077"
      },
      "source": [
        "__Question 8__ (8 points): Write a print statement that returns this message: _The highest registered value of I-131 is:_ FILL IN THE BLANK\n",
        "\n",
        "where, FILL IN THE BLANK is the actual highest registered value of i131_data."
      ]
    },
    {
      "cell_type": "code",
      "execution_count": null,
      "id": "36641cf4",
      "metadata": {
        "scrolled": true,
        "id": "36641cf4",
        "colab": {
          "base_uri": "https://localhost:8080/"
        },
        "outputId": "e1b0b4bb-d423-4326-cbfb-913c0f37af52"
      },
      "outputs": [
        {
          "output_type": "stream",
          "name": "stdout",
          "text": [
            "The highest registered value of I-131 is: 390\n"
          ]
        }
      ],
      "source": [
        "# Answer question 8 here\n",
        "print(f\"The highest registered value of I-131 is: {max(i131_data)}\")"
      ]
    },
    {
      "cell_type": "markdown",
      "source": [
        "__Question 9__ (8 points): Run the following code cell to create an array called q9_array."
      ],
      "metadata": {
        "id": "m21OlDseUJ8H"
      },
      "id": "m21OlDseUJ8H"
    },
    {
      "cell_type": "code",
      "source": [
        "import numpy as np"
      ],
      "metadata": {
        "id": "FbUUuR18jfgL"
      },
      "id": "FbUUuR18jfgL",
      "execution_count": null,
      "outputs": []
    },
    {
      "cell_type": "code",
      "source": [
        "q9_array = np.array ([13, 8, 3, 6, 8, 17, 2, 5, 10])"
      ],
      "metadata": {
        "id": "dSRz1aM6XcVL"
      },
      "id": "dSRz1aM6XcVL",
      "execution_count": null,
      "outputs": []
    },
    {
      "cell_type": "markdown",
      "source": [
        "9a) Create a new array called q9_array_sorted that contains the sorted values of q9_array."
      ],
      "metadata": {
        "id": "1SZ9_sCOXuID"
      },
      "id": "1SZ9_sCOXuID"
    },
    {
      "cell_type": "code",
      "source": [
        "# Answer question 9a here\n",
        "q9_array_sorted = np.sort(q9_array)\n",
        "print(q9_array_sorted)"
      ],
      "metadata": {
        "id": "ESPlLYYVUM7b",
        "colab": {
          "base_uri": "https://localhost:8080/"
        },
        "outputId": "3f6fa68e-2833-4331-b157-ec43f5136129"
      },
      "id": "ESPlLYYVUM7b",
      "execution_count": null,
      "outputs": [
        {
          "output_type": "stream",
          "name": "stdout",
          "text": [
            "[ 2  3  5  6  8  8 10 13 17]\n"
          ]
        }
      ]
    },
    {
      "cell_type": "markdown",
      "source": [
        "9b) Create a new array called q9_array_2dim that re-arranges the values of q9_array in a two-dimensional squared array (squared= with the same number of rows and columns)."
      ],
      "metadata": {
        "id": "OuNHC7XgYBav"
      },
      "id": "OuNHC7XgYBav"
    },
    {
      "cell_type": "code",
      "source": [
        "# Answer question 9b here\n",
        "q9_array_2dim = q9_array.reshape(3, 3)\n",
        "print(q9_array_2dim)"
      ],
      "metadata": {
        "id": "HeLoBpq0aKm4",
        "colab": {
          "base_uri": "https://localhost:8080/"
        },
        "outputId": "f1ad37ca-3009-4c53-c065-4f2c568c08dc"
      },
      "id": "HeLoBpq0aKm4",
      "execution_count": null,
      "outputs": [
        {
          "output_type": "stream",
          "name": "stdout",
          "text": [
            "[[13  8  3]\n",
            " [ 6  8 17]\n",
            " [ 2  5 10]]\n"
          ]
        }
      ]
    },
    {
      "cell_type": "code",
      "source": [
        "print(\"Number of dimensions in q9_array:\", q9_array.ndim)\n",
        "print(\"Number of dimensions in q9_array_2dim:\", q9_array_2dim.ndim)"
      ],
      "metadata": {
        "colab": {
          "base_uri": "https://localhost:8080/"
        },
        "id": "u_6Iw7lolJXh",
        "outputId": "b439f8bd-6d1c-42a6-84b7-e2e87396cf57"
      },
      "id": "u_6Iw7lolJXh",
      "execution_count": null,
      "outputs": [
        {
          "output_type": "stream",
          "name": "stdout",
          "text": [
            "Number of dimensions in q9_array: 1\n",
            "Number of dimensions in q9_array_2dim: 2\n"
          ]
        }
      ]
    },
    {
      "cell_type": "markdown",
      "id": "e98b7419",
      "metadata": {
        "id": "e98b7419"
      },
      "source": [
        "__Question 10__ (8 points): Use NumPy methods to generate the following arrays:\n",
        "\n",
        "10 a) Generate an array with the numbers from 96 to 0, decreasing in steps of 8 (i.e., 96, 88, 80, ...., 0). Call this array a1.\n",
        "\n",
        "10 b) Generate an array with the number 2 repeated as many times as the size of array a1. Call this array a2.\n",
        "\n",
        "10 c) Add the arrays created in a) and b) and save the results in a3. Return the values of a3 (i.e., print the values of a3).\n",
        "\n",
        "Note: To answer question 10 and create the arrays requested in a, b, and c, you __CANNOT__ enter the values of the arrays manually. You __must__ use the NumPy methods we learned in class to create them."
      ]
    },
    {
      "cell_type": "code",
      "execution_count": null,
      "id": "9b897ca9",
      "metadata": {
        "scrolled": true,
        "id": "9b897ca9",
        "colab": {
          "base_uri": "https://localhost:8080/"
        },
        "outputId": "a7a47cf9-f436-4d42-ae88-cb8ed42722ad"
      },
      "outputs": [
        {
          "output_type": "stream",
          "name": "stdout",
          "text": [
            "Array a1: [96 88 80 72 64 56 48 40 32 24 16  8  0]\n"
          ]
        }
      ],
      "source": [
        "# Answer question 10a here\n",
        "a1 = np.arange(96, -1, -8)\n",
        "print(\"Array a1:\", a1)"
      ]
    },
    {
      "cell_type": "code",
      "execution_count": null,
      "id": "4bbaf072",
      "metadata": {
        "scrolled": true,
        "id": "4bbaf072",
        "colab": {
          "base_uri": "https://localhost:8080/"
        },
        "outputId": "e8df3c9f-cbf3-4c4a-9492-3305640e3f86"
      },
      "outputs": [
        {
          "output_type": "stream",
          "name": "stdout",
          "text": [
            "Array a2: [2 2 2 2 2 2 2 2 2 2 2 2 2]\n"
          ]
        }
      ],
      "source": [
        "# Answer question 10b here\n",
        "a2 = np.full(a1.shape, 2)\n",
        "print(\"Array a2:\", a2)"
      ]
    },
    {
      "cell_type": "code",
      "source": [
        "# Concatenate arrays\n",
        "a3 = np.concatenate((a1, a2))\n",
        "\n",
        "# Print the concatenated array\n",
        "print(\"Array a3:\", a3)"
      ],
      "metadata": {
        "colab": {
          "base_uri": "https://localhost:8080/"
        },
        "id": "cuIvLg9Gh4EG",
        "outputId": "a163fcae-3a3b-4977-e501-8784d8ea6a62"
      },
      "id": "cuIvLg9Gh4EG",
      "execution_count": null,
      "outputs": [
        {
          "output_type": "stream",
          "name": "stdout",
          "text": [
            "Array a3: [96 88 80 72 64 56 48 40 32 24 16  8  0  2  2  2  2  2  2  2  2  2  2  2\n",
            "  2  2]\n"
          ]
        }
      ]
    },
    {
      "cell_type": "markdown",
      "id": "4e39bb78",
      "metadata": {
        "id": "4e39bb78"
      },
      "source": [
        "__Question 11__ (5 points): Return how many observations were taken at each State. __Write only one line of code__ to answer this question."
      ]
    },
    {
      "cell_type": "code",
      "execution_count": null,
      "id": "acb83072",
      "metadata": {
        "id": "acb83072",
        "colab": {
          "base_uri": "https://localhost:8080/",
          "height": 1000
        },
        "outputId": "33a1af31-2393-4c68-c61d-32d4cbeee797"
      },
      "outputs": [
        {
          "output_type": "execute_result",
          "data": {
            "text/plain": [
              "State\n",
              "AK       70\n",
              "AK        1\n",
              "AL       20\n",
              "AR       10\n",
              "AZ        3\n",
              "CA       42\n",
              "CNMI     19\n",
              "CO        6\n",
              "CT       11\n",
              "DE        4\n",
              "FL       11\n",
              "GA        8\n",
              "Guam     21\n",
              "Guam      3\n",
              "HI       49\n",
              "IA        4\n",
              "ID       29\n",
              "IL        4\n",
              "KS        9\n",
              "KY        2\n",
              "LA        2\n",
              "MA       10\n",
              "MD        6\n",
              "MI        9\n",
              "MN        8\n",
              "MO        4\n",
              "MS        4\n",
              "MT        2\n",
              "NC       12\n",
              "ND        2\n",
              "NE        2\n",
              "NH       10\n",
              "NJ        5\n",
              "NM        4\n",
              "NV       23\n",
              "NY       22\n",
              "OH       19\n",
              "OK        2\n",
              "OR        6\n",
              "PA       15\n",
              "PA        1\n",
              "RI        1\n",
              "RI        1\n",
              "SC        8\n",
              "TN       56\n",
              "TX        7\n",
              "UT        9\n",
              "VA        6\n",
              "VT        1\n",
              "WA       19\n",
              "WI        2\n",
              "WV        2\n",
              "dtype: int64"
            ],
            "text/html": [
              "<div>\n",
              "<style scoped>\n",
              "    .dataframe tbody tr th:only-of-type {\n",
              "        vertical-align: middle;\n",
              "    }\n",
              "\n",
              "    .dataframe tbody tr th {\n",
              "        vertical-align: top;\n",
              "    }\n",
              "\n",
              "    .dataframe thead th {\n",
              "        text-align: right;\n",
              "    }\n",
              "</style>\n",
              "<table border=\"1\" class=\"dataframe\">\n",
              "  <thead>\n",
              "    <tr style=\"text-align: right;\">\n",
              "      <th></th>\n",
              "      <th>0</th>\n",
              "    </tr>\n",
              "    <tr>\n",
              "      <th>State</th>\n",
              "      <th></th>\n",
              "    </tr>\n",
              "  </thead>\n",
              "  <tbody>\n",
              "    <tr>\n",
              "      <th>AK</th>\n",
              "      <td>70</td>\n",
              "    </tr>\n",
              "    <tr>\n",
              "      <th>AK</th>\n",
              "      <td>1</td>\n",
              "    </tr>\n",
              "    <tr>\n",
              "      <th>AL</th>\n",
              "      <td>20</td>\n",
              "    </tr>\n",
              "    <tr>\n",
              "      <th>AR</th>\n",
              "      <td>10</td>\n",
              "    </tr>\n",
              "    <tr>\n",
              "      <th>AZ</th>\n",
              "      <td>3</td>\n",
              "    </tr>\n",
              "    <tr>\n",
              "      <th>CA</th>\n",
              "      <td>42</td>\n",
              "    </tr>\n",
              "    <tr>\n",
              "      <th>CNMI</th>\n",
              "      <td>19</td>\n",
              "    </tr>\n",
              "    <tr>\n",
              "      <th>CO</th>\n",
              "      <td>6</td>\n",
              "    </tr>\n",
              "    <tr>\n",
              "      <th>CT</th>\n",
              "      <td>11</td>\n",
              "    </tr>\n",
              "    <tr>\n",
              "      <th>DE</th>\n",
              "      <td>4</td>\n",
              "    </tr>\n",
              "    <tr>\n",
              "      <th>FL</th>\n",
              "      <td>11</td>\n",
              "    </tr>\n",
              "    <tr>\n",
              "      <th>GA</th>\n",
              "      <td>8</td>\n",
              "    </tr>\n",
              "    <tr>\n",
              "      <th>Guam</th>\n",
              "      <td>21</td>\n",
              "    </tr>\n",
              "    <tr>\n",
              "      <th>Guam</th>\n",
              "      <td>3</td>\n",
              "    </tr>\n",
              "    <tr>\n",
              "      <th>HI</th>\n",
              "      <td>49</td>\n",
              "    </tr>\n",
              "    <tr>\n",
              "      <th>IA</th>\n",
              "      <td>4</td>\n",
              "    </tr>\n",
              "    <tr>\n",
              "      <th>ID</th>\n",
              "      <td>29</td>\n",
              "    </tr>\n",
              "    <tr>\n",
              "      <th>IL</th>\n",
              "      <td>4</td>\n",
              "    </tr>\n",
              "    <tr>\n",
              "      <th>KS</th>\n",
              "      <td>9</td>\n",
              "    </tr>\n",
              "    <tr>\n",
              "      <th>KY</th>\n",
              "      <td>2</td>\n",
              "    </tr>\n",
              "    <tr>\n",
              "      <th>LA</th>\n",
              "      <td>2</td>\n",
              "    </tr>\n",
              "    <tr>\n",
              "      <th>MA</th>\n",
              "      <td>10</td>\n",
              "    </tr>\n",
              "    <tr>\n",
              "      <th>MD</th>\n",
              "      <td>6</td>\n",
              "    </tr>\n",
              "    <tr>\n",
              "      <th>MI</th>\n",
              "      <td>9</td>\n",
              "    </tr>\n",
              "    <tr>\n",
              "      <th>MN</th>\n",
              "      <td>8</td>\n",
              "    </tr>\n",
              "    <tr>\n",
              "      <th>MO</th>\n",
              "      <td>4</td>\n",
              "    </tr>\n",
              "    <tr>\n",
              "      <th>MS</th>\n",
              "      <td>4</td>\n",
              "    </tr>\n",
              "    <tr>\n",
              "      <th>MT</th>\n",
              "      <td>2</td>\n",
              "    </tr>\n",
              "    <tr>\n",
              "      <th>NC</th>\n",
              "      <td>12</td>\n",
              "    </tr>\n",
              "    <tr>\n",
              "      <th>ND</th>\n",
              "      <td>2</td>\n",
              "    </tr>\n",
              "    <tr>\n",
              "      <th>NE</th>\n",
              "      <td>2</td>\n",
              "    </tr>\n",
              "    <tr>\n",
              "      <th>NH</th>\n",
              "      <td>10</td>\n",
              "    </tr>\n",
              "    <tr>\n",
              "      <th>NJ</th>\n",
              "      <td>5</td>\n",
              "    </tr>\n",
              "    <tr>\n",
              "      <th>NM</th>\n",
              "      <td>4</td>\n",
              "    </tr>\n",
              "    <tr>\n",
              "      <th>NV</th>\n",
              "      <td>23</td>\n",
              "    </tr>\n",
              "    <tr>\n",
              "      <th>NY</th>\n",
              "      <td>22</td>\n",
              "    </tr>\n",
              "    <tr>\n",
              "      <th>OH</th>\n",
              "      <td>19</td>\n",
              "    </tr>\n",
              "    <tr>\n",
              "      <th>OK</th>\n",
              "      <td>2</td>\n",
              "    </tr>\n",
              "    <tr>\n",
              "      <th>OR</th>\n",
              "      <td>6</td>\n",
              "    </tr>\n",
              "    <tr>\n",
              "      <th>PA</th>\n",
              "      <td>15</td>\n",
              "    </tr>\n",
              "    <tr>\n",
              "      <th>PA</th>\n",
              "      <td>1</td>\n",
              "    </tr>\n",
              "    <tr>\n",
              "      <th>RI</th>\n",
              "      <td>1</td>\n",
              "    </tr>\n",
              "    <tr>\n",
              "      <th>RI</th>\n",
              "      <td>1</td>\n",
              "    </tr>\n",
              "    <tr>\n",
              "      <th>SC</th>\n",
              "      <td>8</td>\n",
              "    </tr>\n",
              "    <tr>\n",
              "      <th>TN</th>\n",
              "      <td>56</td>\n",
              "    </tr>\n",
              "    <tr>\n",
              "      <th>TX</th>\n",
              "      <td>7</td>\n",
              "    </tr>\n",
              "    <tr>\n",
              "      <th>UT</th>\n",
              "      <td>9</td>\n",
              "    </tr>\n",
              "    <tr>\n",
              "      <th>VA</th>\n",
              "      <td>6</td>\n",
              "    </tr>\n",
              "    <tr>\n",
              "      <th>VT</th>\n",
              "      <td>1</td>\n",
              "    </tr>\n",
              "    <tr>\n",
              "      <th>WA</th>\n",
              "      <td>19</td>\n",
              "    </tr>\n",
              "    <tr>\n",
              "      <th>WI</th>\n",
              "      <td>2</td>\n",
              "    </tr>\n",
              "    <tr>\n",
              "      <th>WV</th>\n",
              "      <td>2</td>\n",
              "    </tr>\n",
              "  </tbody>\n",
              "</table>\n",
              "</div><br><label><b>dtype:</b> int64</label>"
            ]
          },
          "metadata": {},
          "execution_count": 23
        }
      ],
      "source": [
        "# Answer question 11 here\n",
        "df_assig1.groupby('State').size()"
      ]
    },
    {
      "cell_type": "markdown",
      "id": "a81f3441",
      "metadata": {
        "id": "a81f3441"
      },
      "source": [
        "__Question 12__ (5 points): Return the __df_assig1__ data frame sorted by the 'Date Collected'. Show the latest collected observations first. __Write only one line of code__ to answer this question."
      ]
    },
    {
      "cell_type": "code",
      "execution_count": null,
      "id": "09cffa45",
      "metadata": {
        "id": "09cffa45",
        "colab": {
          "base_uri": "https://localhost:8080/",
          "height": 423
        },
        "outputId": "eb637d40-d872-4a00-a611-a16dddd21aeb"
      },
      "outputs": [
        {
          "output_type": "execute_result",
          "data": {
            "text/plain": [
              "    State     Location Date Posted Date Collected     Sample Type    Unit  \\\n",
              "577    PA   Harrisburg  2011-05-24     2011-04-30  Precipitation    pCi/l   \n",
              "570    NC    Charlotte  2011-05-24     2011-04-29  Precipitation    pCi/l   \n",
              "584    TN    Knoxville  2011-05-24     2011-04-29  Precipitation    pCi/l   \n",
              "568    MA       Boston  2011-05-24     2011-04-29  Precipitation    pCi/l   \n",
              "599    OH  Painesville  2011-05-24     2011-04-29  Precipitation    pCi/l   \n",
              "..    ...          ...         ...            ...             ...     ...   \n",
              "539    OH  Painesville  2011-04-04     2011-03-15   Precipitation   pCi/l   \n",
              "510    TN    Nashville  2011-04-13     2011-03-15   Precipitation   pCi/l   \n",
              "213    CA    Riverside  2011-03-30     2011-03-15      Air Filter  pCi/m3   \n",
              "543    CA     Richmond  2011-04-04     2011-03-15   Precipitation   pCi/l   \n",
              "24     CA      Anaheim  2011-03-30     2011-03-11      Air Filter  pCi/m3   \n",
              "\n",
              "     Ba-140  Co-60  Cs-134  Cs-136  Cs-137  I-131  I-132  I-133  Te-129  \\\n",
              "577     0.0    0.0       0     0.0       0      0      0    0.0     0.0   \n",
              "570     0.0    0.0       0     0.0       0      0      0    0.0     0.0   \n",
              "584     0.0    0.0       0     0.0       0      0      0    0.0     0.0   \n",
              "568     0.0    0.0       0     0.0       0      0      0    0.0     0.0   \n",
              "599     0.0    0.0       0     0.0       0      0      0    0.0     0.0   \n",
              "..      ...    ...     ...     ...     ...    ...    ...    ...     ...   \n",
              "539     0.0    0.0       0     NaN       0      0      0    0.0     NaN   \n",
              "510     0.0    0.0       0     0.0       0      0      0    0.0     0.0   \n",
              "213     0.0    0.0       0     NaN       0      0      0    0.0     NaN   \n",
              "543     0.0    0.0       0     NaN       0      0      0    0.0     NaN   \n",
              "24      0.0    0.0       0     NaN       0      0      0    0.0     NaN   \n",
              "\n",
              "     Te-129m  Te-132  Ba-140.1  \n",
              "577      0.0       0       NaN  \n",
              "570      0.0       0       NaN  \n",
              "584      0.0       0       NaN  \n",
              "568      0.0       0       NaN  \n",
              "599      0.0       0       NaN  \n",
              "..       ...     ...       ...  \n",
              "539      NaN       0       NaN  \n",
              "510      0.0       0       NaN  \n",
              "213      NaN       0       NaN  \n",
              "543      NaN       0       NaN  \n",
              "24       NaN       0       NaN  \n",
              "\n",
              "[606 rows x 18 columns]"
            ],
            "text/html": [
              "\n",
              "  <div id=\"df-d1f7819b-035a-41cd-8128-207fdbdeaa62\" class=\"colab-df-container\">\n",
              "    <div>\n",
              "<style scoped>\n",
              "    .dataframe tbody tr th:only-of-type {\n",
              "        vertical-align: middle;\n",
              "    }\n",
              "\n",
              "    .dataframe tbody tr th {\n",
              "        vertical-align: top;\n",
              "    }\n",
              "\n",
              "    .dataframe thead th {\n",
              "        text-align: right;\n",
              "    }\n",
              "</style>\n",
              "<table border=\"1\" class=\"dataframe\">\n",
              "  <thead>\n",
              "    <tr style=\"text-align: right;\">\n",
              "      <th></th>\n",
              "      <th>State</th>\n",
              "      <th>Location</th>\n",
              "      <th>Date Posted</th>\n",
              "      <th>Date Collected</th>\n",
              "      <th>Sample Type</th>\n",
              "      <th>Unit</th>\n",
              "      <th>Ba-140</th>\n",
              "      <th>Co-60</th>\n",
              "      <th>Cs-134</th>\n",
              "      <th>Cs-136</th>\n",
              "      <th>Cs-137</th>\n",
              "      <th>I-131</th>\n",
              "      <th>I-132</th>\n",
              "      <th>I-133</th>\n",
              "      <th>Te-129</th>\n",
              "      <th>Te-129m</th>\n",
              "      <th>Te-132</th>\n",
              "      <th>Ba-140.1</th>\n",
              "    </tr>\n",
              "  </thead>\n",
              "  <tbody>\n",
              "    <tr>\n",
              "      <th>577</th>\n",
              "      <td>PA</td>\n",
              "      <td>Harrisburg</td>\n",
              "      <td>2011-05-24</td>\n",
              "      <td>2011-04-30</td>\n",
              "      <td>Precipitation</td>\n",
              "      <td>pCi/l</td>\n",
              "      <td>0.0</td>\n",
              "      <td>0.0</td>\n",
              "      <td>0</td>\n",
              "      <td>0.0</td>\n",
              "      <td>0</td>\n",
              "      <td>0</td>\n",
              "      <td>0</td>\n",
              "      <td>0.0</td>\n",
              "      <td>0.0</td>\n",
              "      <td>0.0</td>\n",
              "      <td>0</td>\n",
              "      <td>NaN</td>\n",
              "    </tr>\n",
              "    <tr>\n",
              "      <th>570</th>\n",
              "      <td>NC</td>\n",
              "      <td>Charlotte</td>\n",
              "      <td>2011-05-24</td>\n",
              "      <td>2011-04-29</td>\n",
              "      <td>Precipitation</td>\n",
              "      <td>pCi/l</td>\n",
              "      <td>0.0</td>\n",
              "      <td>0.0</td>\n",
              "      <td>0</td>\n",
              "      <td>0.0</td>\n",
              "      <td>0</td>\n",
              "      <td>0</td>\n",
              "      <td>0</td>\n",
              "      <td>0.0</td>\n",
              "      <td>0.0</td>\n",
              "      <td>0.0</td>\n",
              "      <td>0</td>\n",
              "      <td>NaN</td>\n",
              "    </tr>\n",
              "    <tr>\n",
              "      <th>584</th>\n",
              "      <td>TN</td>\n",
              "      <td>Knoxville</td>\n",
              "      <td>2011-05-24</td>\n",
              "      <td>2011-04-29</td>\n",
              "      <td>Precipitation</td>\n",
              "      <td>pCi/l</td>\n",
              "      <td>0.0</td>\n",
              "      <td>0.0</td>\n",
              "      <td>0</td>\n",
              "      <td>0.0</td>\n",
              "      <td>0</td>\n",
              "      <td>0</td>\n",
              "      <td>0</td>\n",
              "      <td>0.0</td>\n",
              "      <td>0.0</td>\n",
              "      <td>0.0</td>\n",
              "      <td>0</td>\n",
              "      <td>NaN</td>\n",
              "    </tr>\n",
              "    <tr>\n",
              "      <th>568</th>\n",
              "      <td>MA</td>\n",
              "      <td>Boston</td>\n",
              "      <td>2011-05-24</td>\n",
              "      <td>2011-04-29</td>\n",
              "      <td>Precipitation</td>\n",
              "      <td>pCi/l</td>\n",
              "      <td>0.0</td>\n",
              "      <td>0.0</td>\n",
              "      <td>0</td>\n",
              "      <td>0.0</td>\n",
              "      <td>0</td>\n",
              "      <td>0</td>\n",
              "      <td>0</td>\n",
              "      <td>0.0</td>\n",
              "      <td>0.0</td>\n",
              "      <td>0.0</td>\n",
              "      <td>0</td>\n",
              "      <td>NaN</td>\n",
              "    </tr>\n",
              "    <tr>\n",
              "      <th>599</th>\n",
              "      <td>OH</td>\n",
              "      <td>Painesville</td>\n",
              "      <td>2011-05-24</td>\n",
              "      <td>2011-04-29</td>\n",
              "      <td>Precipitation</td>\n",
              "      <td>pCi/l</td>\n",
              "      <td>0.0</td>\n",
              "      <td>0.0</td>\n",
              "      <td>0</td>\n",
              "      <td>0.0</td>\n",
              "      <td>0</td>\n",
              "      <td>0</td>\n",
              "      <td>0</td>\n",
              "      <td>0.0</td>\n",
              "      <td>0.0</td>\n",
              "      <td>0.0</td>\n",
              "      <td>0</td>\n",
              "      <td>NaN</td>\n",
              "    </tr>\n",
              "    <tr>\n",
              "      <th>...</th>\n",
              "      <td>...</td>\n",
              "      <td>...</td>\n",
              "      <td>...</td>\n",
              "      <td>...</td>\n",
              "      <td>...</td>\n",
              "      <td>...</td>\n",
              "      <td>...</td>\n",
              "      <td>...</td>\n",
              "      <td>...</td>\n",
              "      <td>...</td>\n",
              "      <td>...</td>\n",
              "      <td>...</td>\n",
              "      <td>...</td>\n",
              "      <td>...</td>\n",
              "      <td>...</td>\n",
              "      <td>...</td>\n",
              "      <td>...</td>\n",
              "      <td>...</td>\n",
              "    </tr>\n",
              "    <tr>\n",
              "      <th>539</th>\n",
              "      <td>OH</td>\n",
              "      <td>Painesville</td>\n",
              "      <td>2011-04-04</td>\n",
              "      <td>2011-03-15</td>\n",
              "      <td>Precipitation</td>\n",
              "      <td>pCi/l</td>\n",
              "      <td>0.0</td>\n",
              "      <td>0.0</td>\n",
              "      <td>0</td>\n",
              "      <td>NaN</td>\n",
              "      <td>0</td>\n",
              "      <td>0</td>\n",
              "      <td>0</td>\n",
              "      <td>0.0</td>\n",
              "      <td>NaN</td>\n",
              "      <td>NaN</td>\n",
              "      <td>0</td>\n",
              "      <td>NaN</td>\n",
              "    </tr>\n",
              "    <tr>\n",
              "      <th>510</th>\n",
              "      <td>TN</td>\n",
              "      <td>Nashville</td>\n",
              "      <td>2011-04-13</td>\n",
              "      <td>2011-03-15</td>\n",
              "      <td>Precipitation</td>\n",
              "      <td>pCi/l</td>\n",
              "      <td>0.0</td>\n",
              "      <td>0.0</td>\n",
              "      <td>0</td>\n",
              "      <td>0.0</td>\n",
              "      <td>0</td>\n",
              "      <td>0</td>\n",
              "      <td>0</td>\n",
              "      <td>0.0</td>\n",
              "      <td>0.0</td>\n",
              "      <td>0.0</td>\n",
              "      <td>0</td>\n",
              "      <td>NaN</td>\n",
              "    </tr>\n",
              "    <tr>\n",
              "      <th>213</th>\n",
              "      <td>CA</td>\n",
              "      <td>Riverside</td>\n",
              "      <td>2011-03-30</td>\n",
              "      <td>2011-03-15</td>\n",
              "      <td>Air Filter</td>\n",
              "      <td>pCi/m3</td>\n",
              "      <td>0.0</td>\n",
              "      <td>0.0</td>\n",
              "      <td>0</td>\n",
              "      <td>NaN</td>\n",
              "      <td>0</td>\n",
              "      <td>0</td>\n",
              "      <td>0</td>\n",
              "      <td>0.0</td>\n",
              "      <td>NaN</td>\n",
              "      <td>NaN</td>\n",
              "      <td>0</td>\n",
              "      <td>NaN</td>\n",
              "    </tr>\n",
              "    <tr>\n",
              "      <th>543</th>\n",
              "      <td>CA</td>\n",
              "      <td>Richmond</td>\n",
              "      <td>2011-04-04</td>\n",
              "      <td>2011-03-15</td>\n",
              "      <td>Precipitation</td>\n",
              "      <td>pCi/l</td>\n",
              "      <td>0.0</td>\n",
              "      <td>0.0</td>\n",
              "      <td>0</td>\n",
              "      <td>NaN</td>\n",
              "      <td>0</td>\n",
              "      <td>0</td>\n",
              "      <td>0</td>\n",
              "      <td>0.0</td>\n",
              "      <td>NaN</td>\n",
              "      <td>NaN</td>\n",
              "      <td>0</td>\n",
              "      <td>NaN</td>\n",
              "    </tr>\n",
              "    <tr>\n",
              "      <th>24</th>\n",
              "      <td>CA</td>\n",
              "      <td>Anaheim</td>\n",
              "      <td>2011-03-30</td>\n",
              "      <td>2011-03-11</td>\n",
              "      <td>Air Filter</td>\n",
              "      <td>pCi/m3</td>\n",
              "      <td>0.0</td>\n",
              "      <td>0.0</td>\n",
              "      <td>0</td>\n",
              "      <td>NaN</td>\n",
              "      <td>0</td>\n",
              "      <td>0</td>\n",
              "      <td>0</td>\n",
              "      <td>0.0</td>\n",
              "      <td>NaN</td>\n",
              "      <td>NaN</td>\n",
              "      <td>0</td>\n",
              "      <td>NaN</td>\n",
              "    </tr>\n",
              "  </tbody>\n",
              "</table>\n",
              "<p>606 rows × 18 columns</p>\n",
              "</div>\n",
              "    <div class=\"colab-df-buttons\">\n",
              "\n",
              "  <div class=\"colab-df-container\">\n",
              "    <button class=\"colab-df-convert\" onclick=\"convertToInteractive('df-d1f7819b-035a-41cd-8128-207fdbdeaa62')\"\n",
              "            title=\"Convert this dataframe to an interactive table.\"\n",
              "            style=\"display:none;\">\n",
              "\n",
              "  <svg xmlns=\"http://www.w3.org/2000/svg\" height=\"24px\" viewBox=\"0 -960 960 960\">\n",
              "    <path d=\"M120-120v-720h720v720H120Zm60-500h600v-160H180v160Zm220 220h160v-160H400v160Zm0 220h160v-160H400v160ZM180-400h160v-160H180v160Zm440 0h160v-160H620v160ZM180-180h160v-160H180v160Zm440 0h160v-160H620v160Z\"/>\n",
              "  </svg>\n",
              "    </button>\n",
              "\n",
              "  <style>\n",
              "    .colab-df-container {\n",
              "      display:flex;\n",
              "      gap: 12px;\n",
              "    }\n",
              "\n",
              "    .colab-df-convert {\n",
              "      background-color: #E8F0FE;\n",
              "      border: none;\n",
              "      border-radius: 50%;\n",
              "      cursor: pointer;\n",
              "      display: none;\n",
              "      fill: #1967D2;\n",
              "      height: 32px;\n",
              "      padding: 0 0 0 0;\n",
              "      width: 32px;\n",
              "    }\n",
              "\n",
              "    .colab-df-convert:hover {\n",
              "      background-color: #E2EBFA;\n",
              "      box-shadow: 0px 1px 2px rgba(60, 64, 67, 0.3), 0px 1px 3px 1px rgba(60, 64, 67, 0.15);\n",
              "      fill: #174EA6;\n",
              "    }\n",
              "\n",
              "    .colab-df-buttons div {\n",
              "      margin-bottom: 4px;\n",
              "    }\n",
              "\n",
              "    [theme=dark] .colab-df-convert {\n",
              "      background-color: #3B4455;\n",
              "      fill: #D2E3FC;\n",
              "    }\n",
              "\n",
              "    [theme=dark] .colab-df-convert:hover {\n",
              "      background-color: #434B5C;\n",
              "      box-shadow: 0px 1px 3px 1px rgba(0, 0, 0, 0.15);\n",
              "      filter: drop-shadow(0px 1px 2px rgba(0, 0, 0, 0.3));\n",
              "      fill: #FFFFFF;\n",
              "    }\n",
              "  </style>\n",
              "\n",
              "    <script>\n",
              "      const buttonEl =\n",
              "        document.querySelector('#df-d1f7819b-035a-41cd-8128-207fdbdeaa62 button.colab-df-convert');\n",
              "      buttonEl.style.display =\n",
              "        google.colab.kernel.accessAllowed ? 'block' : 'none';\n",
              "\n",
              "      async function convertToInteractive(key) {\n",
              "        const element = document.querySelector('#df-d1f7819b-035a-41cd-8128-207fdbdeaa62');\n",
              "        const dataTable =\n",
              "          await google.colab.kernel.invokeFunction('convertToInteractive',\n",
              "                                                    [key], {});\n",
              "        if (!dataTable) return;\n",
              "\n",
              "        const docLinkHtml = 'Like what you see? Visit the ' +\n",
              "          '<a target=\"_blank\" href=https://colab.research.google.com/notebooks/data_table.ipynb>data table notebook</a>'\n",
              "          + ' to learn more about interactive tables.';\n",
              "        element.innerHTML = '';\n",
              "        dataTable['output_type'] = 'display_data';\n",
              "        await google.colab.output.renderOutput(dataTable, element);\n",
              "        const docLink = document.createElement('div');\n",
              "        docLink.innerHTML = docLinkHtml;\n",
              "        element.appendChild(docLink);\n",
              "      }\n",
              "    </script>\n",
              "  </div>\n",
              "\n",
              "\n",
              "<div id=\"df-6eddfffd-42b6-45b7-a0d6-bbfbe33b2260\">\n",
              "  <button class=\"colab-df-quickchart\" onclick=\"quickchart('df-6eddfffd-42b6-45b7-a0d6-bbfbe33b2260')\"\n",
              "            title=\"Suggest charts\"\n",
              "            style=\"display:none;\">\n",
              "\n",
              "<svg xmlns=\"http://www.w3.org/2000/svg\" height=\"24px\"viewBox=\"0 0 24 24\"\n",
              "     width=\"24px\">\n",
              "    <g>\n",
              "        <path d=\"M19 3H5c-1.1 0-2 .9-2 2v14c0 1.1.9 2 2 2h14c1.1 0 2-.9 2-2V5c0-1.1-.9-2-2-2zM9 17H7v-7h2v7zm4 0h-2V7h2v10zm4 0h-2v-4h2v4z\"/>\n",
              "    </g>\n",
              "</svg>\n",
              "  </button>\n",
              "\n",
              "<style>\n",
              "  .colab-df-quickchart {\n",
              "      --bg-color: #E8F0FE;\n",
              "      --fill-color: #1967D2;\n",
              "      --hover-bg-color: #E2EBFA;\n",
              "      --hover-fill-color: #174EA6;\n",
              "      --disabled-fill-color: #AAA;\n",
              "      --disabled-bg-color: #DDD;\n",
              "  }\n",
              "\n",
              "  [theme=dark] .colab-df-quickchart {\n",
              "      --bg-color: #3B4455;\n",
              "      --fill-color: #D2E3FC;\n",
              "      --hover-bg-color: #434B5C;\n",
              "      --hover-fill-color: #FFFFFF;\n",
              "      --disabled-bg-color: #3B4455;\n",
              "      --disabled-fill-color: #666;\n",
              "  }\n",
              "\n",
              "  .colab-df-quickchart {\n",
              "    background-color: var(--bg-color);\n",
              "    border: none;\n",
              "    border-radius: 50%;\n",
              "    cursor: pointer;\n",
              "    display: none;\n",
              "    fill: var(--fill-color);\n",
              "    height: 32px;\n",
              "    padding: 0;\n",
              "    width: 32px;\n",
              "  }\n",
              "\n",
              "  .colab-df-quickchart:hover {\n",
              "    background-color: var(--hover-bg-color);\n",
              "    box-shadow: 0 1px 2px rgba(60, 64, 67, 0.3), 0 1px 3px 1px rgba(60, 64, 67, 0.15);\n",
              "    fill: var(--button-hover-fill-color);\n",
              "  }\n",
              "\n",
              "  .colab-df-quickchart-complete:disabled,\n",
              "  .colab-df-quickchart-complete:disabled:hover {\n",
              "    background-color: var(--disabled-bg-color);\n",
              "    fill: var(--disabled-fill-color);\n",
              "    box-shadow: none;\n",
              "  }\n",
              "\n",
              "  .colab-df-spinner {\n",
              "    border: 2px solid var(--fill-color);\n",
              "    border-color: transparent;\n",
              "    border-bottom-color: var(--fill-color);\n",
              "    animation:\n",
              "      spin 1s steps(1) infinite;\n",
              "  }\n",
              "\n",
              "  @keyframes spin {\n",
              "    0% {\n",
              "      border-color: transparent;\n",
              "      border-bottom-color: var(--fill-color);\n",
              "      border-left-color: var(--fill-color);\n",
              "    }\n",
              "    20% {\n",
              "      border-color: transparent;\n",
              "      border-left-color: var(--fill-color);\n",
              "      border-top-color: var(--fill-color);\n",
              "    }\n",
              "    30% {\n",
              "      border-color: transparent;\n",
              "      border-left-color: var(--fill-color);\n",
              "      border-top-color: var(--fill-color);\n",
              "      border-right-color: var(--fill-color);\n",
              "    }\n",
              "    40% {\n",
              "      border-color: transparent;\n",
              "      border-right-color: var(--fill-color);\n",
              "      border-top-color: var(--fill-color);\n",
              "    }\n",
              "    60% {\n",
              "      border-color: transparent;\n",
              "      border-right-color: var(--fill-color);\n",
              "    }\n",
              "    80% {\n",
              "      border-color: transparent;\n",
              "      border-right-color: var(--fill-color);\n",
              "      border-bottom-color: var(--fill-color);\n",
              "    }\n",
              "    90% {\n",
              "      border-color: transparent;\n",
              "      border-bottom-color: var(--fill-color);\n",
              "    }\n",
              "  }\n",
              "</style>\n",
              "\n",
              "  <script>\n",
              "    async function quickchart(key) {\n",
              "      const quickchartButtonEl =\n",
              "        document.querySelector('#' + key + ' button');\n",
              "      quickchartButtonEl.disabled = true;  // To prevent multiple clicks.\n",
              "      quickchartButtonEl.classList.add('colab-df-spinner');\n",
              "      try {\n",
              "        const charts = await google.colab.kernel.invokeFunction(\n",
              "            'suggestCharts', [key], {});\n",
              "      } catch (error) {\n",
              "        console.error('Error during call to suggestCharts:', error);\n",
              "      }\n",
              "      quickchartButtonEl.classList.remove('colab-df-spinner');\n",
              "      quickchartButtonEl.classList.add('colab-df-quickchart-complete');\n",
              "    }\n",
              "    (() => {\n",
              "      let quickchartButtonEl =\n",
              "        document.querySelector('#df-6eddfffd-42b6-45b7-a0d6-bbfbe33b2260 button');\n",
              "      quickchartButtonEl.style.display =\n",
              "        google.colab.kernel.accessAllowed ? 'block' : 'none';\n",
              "    })();\n",
              "  </script>\n",
              "</div>\n",
              "\n",
              "    </div>\n",
              "  </div>\n"
            ],
            "application/vnd.google.colaboratory.intrinsic+json": {
              "type": "dataframe",
              "summary": "{\n  \"name\": \"df_assig1\",\n  \"rows\": 606,\n  \"fields\": [\n    {\n      \"column\": \"State\",\n      \"properties\": {\n        \"dtype\": \"category\",\n        \"num_unique_values\": 52,\n        \"samples\": [\n          \"CT\",\n          \"WI\",\n          \"Guam \"\n        ],\n        \"semantic_type\": \"\",\n        \"description\": \"\"\n      }\n    },\n    {\n      \"column\": \"Location\",\n      \"properties\": {\n        \"dtype\": \"category\",\n        \"num_unique_values\": 141,\n        \"samples\": [\n          \"Oak Ridge/768\",\n          \"Spokane\",\n          \"Conowingo\"\n        ],\n        \"semantic_type\": \"\",\n        \"description\": \"\"\n      }\n    },\n    {\n      \"column\": \"Date Posted\",\n      \"properties\": {\n        \"dtype\": \"object\",\n        \"num_unique_values\": 18,\n        \"samples\": [\n          \"2011-05-24\",\n          \"2011-06-01\",\n          \"2011-04-16\"\n        ],\n        \"semantic_type\": \"\",\n        \"description\": \"\"\n      }\n    },\n    {\n      \"column\": \"Date Collected\",\n      \"properties\": {\n        \"dtype\": \"object\",\n        \"num_unique_values\": 43,\n        \"samples\": [\n          \"2011-03-19\",\n          \"2011-04-01\",\n          \"2011-03-31\"\n        ],\n        \"semantic_type\": \"\",\n        \"description\": \"\"\n      }\n    },\n    {\n      \"column\": \"Sample Type\",\n      \"properties\": {\n        \"dtype\": \"category\",\n        \"num_unique_values\": 6,\n        \"samples\": [\n          \"Precipitation \",\n          \"Drinking Water\",\n          \"Air Filter\"\n        ],\n        \"semantic_type\": \"\",\n        \"description\": \"\"\n      }\n    },\n    {\n      \"column\": \"Unit\",\n      \"properties\": {\n        \"dtype\": \"category\",\n        \"num_unique_values\": 2,\n        \"samples\": [\n          \"pCi/m3\",\n          \"pCi/l\"\n        ],\n        \"semantic_type\": \"\",\n        \"description\": \"\"\n      }\n    },\n    {\n      \"column\": \"Ba-140\",\n      \"properties\": {\n        \"dtype\": \"number\",\n        \"std\": 0.0,\n        \"min\": 0.0,\n        \"max\": 0.0,\n        \"num_unique_values\": 1,\n        \"samples\": [\n          0.0\n        ],\n        \"semantic_type\": \"\",\n        \"description\": \"\"\n      }\n    },\n    {\n      \"column\": \"Co-60\",\n      \"properties\": {\n        \"dtype\": \"number\",\n        \"std\": 0.0,\n        \"min\": 0.0,\n        \"max\": 0.0,\n        \"num_unique_values\": 1,\n        \"samples\": [\n          0.0\n        ],\n        \"semantic_type\": \"\",\n        \"description\": \"\"\n      }\n    },\n    {\n      \"column\": \"Cs-134\",\n      \"properties\": {\n        \"dtype\": \"number\",\n        \"std\": 2,\n        \"min\": 0,\n        \"max\": 42,\n        \"num_unique_values\": 10,\n        \"samples\": [\n          6\n        ],\n        \"semantic_type\": \"\",\n        \"description\": \"\"\n      }\n    },\n    {\n      \"column\": \"Cs-136\",\n      \"properties\": {\n        \"dtype\": \"number\",\n        \"std\": 0.0,\n        \"min\": 0.0,\n        \"max\": 0.0,\n        \"num_unique_values\": 1,\n        \"samples\": [\n          0.0\n        ],\n        \"semantic_type\": \"\",\n        \"description\": \"\"\n      }\n    },\n    {\n      \"column\": \"Cs-137\",\n      \"properties\": {\n        \"dtype\": \"number\",\n        \"std\": 1,\n        \"min\": 0,\n        \"max\": 36,\n        \"num_unique_values\": 10,\n        \"samples\": [\n          36\n        ],\n        \"semantic_type\": \"\",\n        \"description\": \"\"\n      }\n    },\n    {\n      \"column\": \"I-131\",\n      \"properties\": {\n        \"dtype\": \"number\",\n        \"std\": 25,\n        \"min\": 0,\n        \"max\": 390,\n        \"num_unique_values\": 44,\n        \"samples\": [\n          125\n        ],\n        \"semantic_type\": \"\",\n        \"description\": \"\"\n      }\n    },\n    {\n      \"column\": \"I-132\",\n      \"properties\": {\n        \"dtype\": \"number\",\n        \"std\": 0,\n        \"min\": 0,\n        \"max\": 0,\n        \"num_unique_values\": 1,\n        \"samples\": [\n          0\n        ],\n        \"semantic_type\": \"\",\n        \"description\": \"\"\n      }\n    },\n    {\n      \"column\": \"I-133\",\n      \"properties\": {\n        \"dtype\": \"number\",\n        \"std\": 0.0,\n        \"min\": 0.0,\n        \"max\": 0.0,\n        \"num_unique_values\": 1,\n        \"samples\": [\n          0.0\n        ],\n        \"semantic_type\": \"\",\n        \"description\": \"\"\n      }\n    },\n    {\n      \"column\": \"Te-129\",\n      \"properties\": {\n        \"dtype\": \"number\",\n        \"std\": 0.0,\n        \"min\": 0.0,\n        \"max\": 0.0,\n        \"num_unique_values\": 1,\n        \"samples\": [\n          0.0\n        ],\n        \"semantic_type\": \"\",\n        \"description\": \"\"\n      }\n    },\n    {\n      \"column\": \"Te-129m\",\n      \"properties\": {\n        \"dtype\": \"number\",\n        \"std\": 0.0,\n        \"min\": 0.0,\n        \"max\": 0.0,\n        \"num_unique_values\": 1,\n        \"samples\": [\n          0.0\n        ],\n        \"semantic_type\": \"\",\n        \"description\": \"\"\n      }\n    },\n    {\n      \"column\": \"Te-132\",\n      \"properties\": {\n        \"dtype\": \"number\",\n        \"std\": 0,\n        \"min\": 0,\n        \"max\": 6,\n        \"num_unique_values\": 2,\n        \"samples\": [\n          6\n        ],\n        \"semantic_type\": \"\",\n        \"description\": \"\"\n      }\n    },\n    {\n      \"column\": \"Ba-140.1\",\n      \"properties\": {\n        \"dtype\": \"number\",\n        \"std\": null,\n        \"min\": null,\n        \"max\": null,\n        \"num_unique_values\": 0,\n        \"samples\": [],\n        \"semantic_type\": \"\",\n        \"description\": \"\"\n      }\n    }\n  ]\n}"
            }
          },
          "metadata": {},
          "execution_count": 24
        }
      ],
      "source": [
        "# Answer question 12 here\n",
        "df_assig1.sort_values(by='Date Collected', ascending=False)"
      ]
    },
    {
      "cell_type": "markdown",
      "id": "742f7700",
      "metadata": {
        "id": "742f7700"
      },
      "source": [
        "__Question 13__ (5 points): Return the __df_assig1__ data frame only showing the samples taken in Miami. Miami is one of the values from the column 'Location'. __Write only one line of code__ to answer this question."
      ]
    },
    {
      "cell_type": "code",
      "execution_count": null,
      "id": "1c0aad00",
      "metadata": {
        "id": "1c0aad00",
        "colab": {
          "base_uri": "https://localhost:8080/",
          "height": 81
        },
        "outputId": "1f33065a-52b8-4753-8733-46002a64a918"
      },
      "outputs": [
        {
          "output_type": "execute_result",
          "data": {
            "text/plain": [
              "    State Location Date Posted Date Collected     Sample Type   Unit  Ba-140  \\\n",
              "312    FL    Miami  2011-04-08     2011-03-29  Drinking Water  pCi/l     0.0   \n",
              "\n",
              "     Co-60  Cs-134  Cs-136  Cs-137  I-131  I-132  I-133  Te-129  Te-129m  \\\n",
              "312    0.0       0     0.0       0      0      0    0.0     0.0      0.0   \n",
              "\n",
              "     Te-132  Ba-140.1  \n",
              "312       0       NaN  "
            ],
            "text/html": [
              "\n",
              "  <div id=\"df-da4e2285-d017-4bbf-ae0c-484e9806e9a7\" class=\"colab-df-container\">\n",
              "    <div>\n",
              "<style scoped>\n",
              "    .dataframe tbody tr th:only-of-type {\n",
              "        vertical-align: middle;\n",
              "    }\n",
              "\n",
              "    .dataframe tbody tr th {\n",
              "        vertical-align: top;\n",
              "    }\n",
              "\n",
              "    .dataframe thead th {\n",
              "        text-align: right;\n",
              "    }\n",
              "</style>\n",
              "<table border=\"1\" class=\"dataframe\">\n",
              "  <thead>\n",
              "    <tr style=\"text-align: right;\">\n",
              "      <th></th>\n",
              "      <th>State</th>\n",
              "      <th>Location</th>\n",
              "      <th>Date Posted</th>\n",
              "      <th>Date Collected</th>\n",
              "      <th>Sample Type</th>\n",
              "      <th>Unit</th>\n",
              "      <th>Ba-140</th>\n",
              "      <th>Co-60</th>\n",
              "      <th>Cs-134</th>\n",
              "      <th>Cs-136</th>\n",
              "      <th>Cs-137</th>\n",
              "      <th>I-131</th>\n",
              "      <th>I-132</th>\n",
              "      <th>I-133</th>\n",
              "      <th>Te-129</th>\n",
              "      <th>Te-129m</th>\n",
              "      <th>Te-132</th>\n",
              "      <th>Ba-140.1</th>\n",
              "    </tr>\n",
              "  </thead>\n",
              "  <tbody>\n",
              "    <tr>\n",
              "      <th>312</th>\n",
              "      <td>FL</td>\n",
              "      <td>Miami</td>\n",
              "      <td>2011-04-08</td>\n",
              "      <td>2011-03-29</td>\n",
              "      <td>Drinking Water</td>\n",
              "      <td>pCi/l</td>\n",
              "      <td>0.0</td>\n",
              "      <td>0.0</td>\n",
              "      <td>0</td>\n",
              "      <td>0.0</td>\n",
              "      <td>0</td>\n",
              "      <td>0</td>\n",
              "      <td>0</td>\n",
              "      <td>0.0</td>\n",
              "      <td>0.0</td>\n",
              "      <td>0.0</td>\n",
              "      <td>0</td>\n",
              "      <td>NaN</td>\n",
              "    </tr>\n",
              "  </tbody>\n",
              "</table>\n",
              "</div>\n",
              "    <div class=\"colab-df-buttons\">\n",
              "\n",
              "  <div class=\"colab-df-container\">\n",
              "    <button class=\"colab-df-convert\" onclick=\"convertToInteractive('df-da4e2285-d017-4bbf-ae0c-484e9806e9a7')\"\n",
              "            title=\"Convert this dataframe to an interactive table.\"\n",
              "            style=\"display:none;\">\n",
              "\n",
              "  <svg xmlns=\"http://www.w3.org/2000/svg\" height=\"24px\" viewBox=\"0 -960 960 960\">\n",
              "    <path d=\"M120-120v-720h720v720H120Zm60-500h600v-160H180v160Zm220 220h160v-160H400v160Zm0 220h160v-160H400v160ZM180-400h160v-160H180v160Zm440 0h160v-160H620v160ZM180-180h160v-160H180v160Zm440 0h160v-160H620v160Z\"/>\n",
              "  </svg>\n",
              "    </button>\n",
              "\n",
              "  <style>\n",
              "    .colab-df-container {\n",
              "      display:flex;\n",
              "      gap: 12px;\n",
              "    }\n",
              "\n",
              "    .colab-df-convert {\n",
              "      background-color: #E8F0FE;\n",
              "      border: none;\n",
              "      border-radius: 50%;\n",
              "      cursor: pointer;\n",
              "      display: none;\n",
              "      fill: #1967D2;\n",
              "      height: 32px;\n",
              "      padding: 0 0 0 0;\n",
              "      width: 32px;\n",
              "    }\n",
              "\n",
              "    .colab-df-convert:hover {\n",
              "      background-color: #E2EBFA;\n",
              "      box-shadow: 0px 1px 2px rgba(60, 64, 67, 0.3), 0px 1px 3px 1px rgba(60, 64, 67, 0.15);\n",
              "      fill: #174EA6;\n",
              "    }\n",
              "\n",
              "    .colab-df-buttons div {\n",
              "      margin-bottom: 4px;\n",
              "    }\n",
              "\n",
              "    [theme=dark] .colab-df-convert {\n",
              "      background-color: #3B4455;\n",
              "      fill: #D2E3FC;\n",
              "    }\n",
              "\n",
              "    [theme=dark] .colab-df-convert:hover {\n",
              "      background-color: #434B5C;\n",
              "      box-shadow: 0px 1px 3px 1px rgba(0, 0, 0, 0.15);\n",
              "      filter: drop-shadow(0px 1px 2px rgba(0, 0, 0, 0.3));\n",
              "      fill: #FFFFFF;\n",
              "    }\n",
              "  </style>\n",
              "\n",
              "    <script>\n",
              "      const buttonEl =\n",
              "        document.querySelector('#df-da4e2285-d017-4bbf-ae0c-484e9806e9a7 button.colab-df-convert');\n",
              "      buttonEl.style.display =\n",
              "        google.colab.kernel.accessAllowed ? 'block' : 'none';\n",
              "\n",
              "      async function convertToInteractive(key) {\n",
              "        const element = document.querySelector('#df-da4e2285-d017-4bbf-ae0c-484e9806e9a7');\n",
              "        const dataTable =\n",
              "          await google.colab.kernel.invokeFunction('convertToInteractive',\n",
              "                                                    [key], {});\n",
              "        if (!dataTable) return;\n",
              "\n",
              "        const docLinkHtml = 'Like what you see? Visit the ' +\n",
              "          '<a target=\"_blank\" href=https://colab.research.google.com/notebooks/data_table.ipynb>data table notebook</a>'\n",
              "          + ' to learn more about interactive tables.';\n",
              "        element.innerHTML = '';\n",
              "        dataTable['output_type'] = 'display_data';\n",
              "        await google.colab.output.renderOutput(dataTable, element);\n",
              "        const docLink = document.createElement('div');\n",
              "        docLink.innerHTML = docLinkHtml;\n",
              "        element.appendChild(docLink);\n",
              "      }\n",
              "    </script>\n",
              "  </div>\n",
              "\n",
              "\n",
              "    </div>\n",
              "  </div>\n"
            ],
            "application/vnd.google.colaboratory.intrinsic+json": {
              "type": "dataframe",
              "repr_error": "0"
            }
          },
          "metadata": {},
          "execution_count": 25
        }
      ],
      "source": [
        "# Asnwer question 13 here\n",
        "df_assig1[df_assig1['Location'] == 'Miami']"
      ]
    },
    {
      "cell_type": "markdown",
      "id": "a9621810",
      "metadata": {
        "id": "a9621810"
      },
      "source": [
        "__Question 14__ (5 points): Return the average concentration of 'I-131' found on each state. __Write only one line of code__ to answer this question."
      ]
    },
    {
      "cell_type": "code",
      "execution_count": null,
      "id": "f38ad10f",
      "metadata": {
        "id": "f38ad10f",
        "colab": {
          "base_uri": "https://localhost:8080/",
          "height": 1000
        },
        "outputId": "ca4e4654-0d26-496a-ae76-b5714fc3c4d7"
      },
      "outputs": [
        {
          "output_type": "execute_result",
          "data": {
            "text/plain": [
              "State\n",
              "AK        0.157143\n",
              "AK        0.000000\n",
              "AL        1.050000\n",
              "AR        5.900000\n",
              "AZ        1.000000\n",
              "CA        7.119048\n",
              "CNMI      0.105263\n",
              "CO        8.333333\n",
              "CT        5.454545\n",
              "DE        0.000000\n",
              "FL       15.636364\n",
              "GA        2.125000\n",
              "Guam      0.047619\n",
              "Guam      0.000000\n",
              "HI        0.591837\n",
              "IA        0.000000\n",
              "ID       23.068966\n",
              "IL        0.000000\n",
              "KS       24.444444\n",
              "KY        0.000000\n",
              "LA        0.000000\n",
              "MA       14.400000\n",
              "MD        0.000000\n",
              "MI        2.777778\n",
              "MN        7.125000\n",
              "MO        0.750000\n",
              "MS        0.000000\n",
              "MT        0.000000\n",
              "NC        7.500000\n",
              "ND        0.000000\n",
              "NE        0.000000\n",
              "NH        7.100000\n",
              "NJ        0.000000\n",
              "NM        0.000000\n",
              "NV        0.173913\n",
              "NY        3.227273\n",
              "OH        2.789474\n",
              "OK        0.000000\n",
              "OR       14.500000\n",
              "PA        0.733333\n",
              "PA        1.000000\n",
              "RI        0.000000\n",
              "RI        0.000000\n",
              "SC        0.000000\n",
              "TN        7.535714\n",
              "TX        0.000000\n",
              "UT       24.444444\n",
              "VA        1.500000\n",
              "VT        0.000000\n",
              "WA       10.368421\n",
              "WI        0.000000\n",
              "WV        0.000000\n",
              "Name: I-131, dtype: float64"
            ],
            "text/html": [
              "<div>\n",
              "<style scoped>\n",
              "    .dataframe tbody tr th:only-of-type {\n",
              "        vertical-align: middle;\n",
              "    }\n",
              "\n",
              "    .dataframe tbody tr th {\n",
              "        vertical-align: top;\n",
              "    }\n",
              "\n",
              "    .dataframe thead th {\n",
              "        text-align: right;\n",
              "    }\n",
              "</style>\n",
              "<table border=\"1\" class=\"dataframe\">\n",
              "  <thead>\n",
              "    <tr style=\"text-align: right;\">\n",
              "      <th></th>\n",
              "      <th>I-131</th>\n",
              "    </tr>\n",
              "    <tr>\n",
              "      <th>State</th>\n",
              "      <th></th>\n",
              "    </tr>\n",
              "  </thead>\n",
              "  <tbody>\n",
              "    <tr>\n",
              "      <th>AK</th>\n",
              "      <td>0.157143</td>\n",
              "    </tr>\n",
              "    <tr>\n",
              "      <th>AK</th>\n",
              "      <td>0.000000</td>\n",
              "    </tr>\n",
              "    <tr>\n",
              "      <th>AL</th>\n",
              "      <td>1.050000</td>\n",
              "    </tr>\n",
              "    <tr>\n",
              "      <th>AR</th>\n",
              "      <td>5.900000</td>\n",
              "    </tr>\n",
              "    <tr>\n",
              "      <th>AZ</th>\n",
              "      <td>1.000000</td>\n",
              "    </tr>\n",
              "    <tr>\n",
              "      <th>CA</th>\n",
              "      <td>7.119048</td>\n",
              "    </tr>\n",
              "    <tr>\n",
              "      <th>CNMI</th>\n",
              "      <td>0.105263</td>\n",
              "    </tr>\n",
              "    <tr>\n",
              "      <th>CO</th>\n",
              "      <td>8.333333</td>\n",
              "    </tr>\n",
              "    <tr>\n",
              "      <th>CT</th>\n",
              "      <td>5.454545</td>\n",
              "    </tr>\n",
              "    <tr>\n",
              "      <th>DE</th>\n",
              "      <td>0.000000</td>\n",
              "    </tr>\n",
              "    <tr>\n",
              "      <th>FL</th>\n",
              "      <td>15.636364</td>\n",
              "    </tr>\n",
              "    <tr>\n",
              "      <th>GA</th>\n",
              "      <td>2.125000</td>\n",
              "    </tr>\n",
              "    <tr>\n",
              "      <th>Guam</th>\n",
              "      <td>0.047619</td>\n",
              "    </tr>\n",
              "    <tr>\n",
              "      <th>Guam</th>\n",
              "      <td>0.000000</td>\n",
              "    </tr>\n",
              "    <tr>\n",
              "      <th>HI</th>\n",
              "      <td>0.591837</td>\n",
              "    </tr>\n",
              "    <tr>\n",
              "      <th>IA</th>\n",
              "      <td>0.000000</td>\n",
              "    </tr>\n",
              "    <tr>\n",
              "      <th>ID</th>\n",
              "      <td>23.068966</td>\n",
              "    </tr>\n",
              "    <tr>\n",
              "      <th>IL</th>\n",
              "      <td>0.000000</td>\n",
              "    </tr>\n",
              "    <tr>\n",
              "      <th>KS</th>\n",
              "      <td>24.444444</td>\n",
              "    </tr>\n",
              "    <tr>\n",
              "      <th>KY</th>\n",
              "      <td>0.000000</td>\n",
              "    </tr>\n",
              "    <tr>\n",
              "      <th>LA</th>\n",
              "      <td>0.000000</td>\n",
              "    </tr>\n",
              "    <tr>\n",
              "      <th>MA</th>\n",
              "      <td>14.400000</td>\n",
              "    </tr>\n",
              "    <tr>\n",
              "      <th>MD</th>\n",
              "      <td>0.000000</td>\n",
              "    </tr>\n",
              "    <tr>\n",
              "      <th>MI</th>\n",
              "      <td>2.777778</td>\n",
              "    </tr>\n",
              "    <tr>\n",
              "      <th>MN</th>\n",
              "      <td>7.125000</td>\n",
              "    </tr>\n",
              "    <tr>\n",
              "      <th>MO</th>\n",
              "      <td>0.750000</td>\n",
              "    </tr>\n",
              "    <tr>\n",
              "      <th>MS</th>\n",
              "      <td>0.000000</td>\n",
              "    </tr>\n",
              "    <tr>\n",
              "      <th>MT</th>\n",
              "      <td>0.000000</td>\n",
              "    </tr>\n",
              "    <tr>\n",
              "      <th>NC</th>\n",
              "      <td>7.500000</td>\n",
              "    </tr>\n",
              "    <tr>\n",
              "      <th>ND</th>\n",
              "      <td>0.000000</td>\n",
              "    </tr>\n",
              "    <tr>\n",
              "      <th>NE</th>\n",
              "      <td>0.000000</td>\n",
              "    </tr>\n",
              "    <tr>\n",
              "      <th>NH</th>\n",
              "      <td>7.100000</td>\n",
              "    </tr>\n",
              "    <tr>\n",
              "      <th>NJ</th>\n",
              "      <td>0.000000</td>\n",
              "    </tr>\n",
              "    <tr>\n",
              "      <th>NM</th>\n",
              "      <td>0.000000</td>\n",
              "    </tr>\n",
              "    <tr>\n",
              "      <th>NV</th>\n",
              "      <td>0.173913</td>\n",
              "    </tr>\n",
              "    <tr>\n",
              "      <th>NY</th>\n",
              "      <td>3.227273</td>\n",
              "    </tr>\n",
              "    <tr>\n",
              "      <th>OH</th>\n",
              "      <td>2.789474</td>\n",
              "    </tr>\n",
              "    <tr>\n",
              "      <th>OK</th>\n",
              "      <td>0.000000</td>\n",
              "    </tr>\n",
              "    <tr>\n",
              "      <th>OR</th>\n",
              "      <td>14.500000</td>\n",
              "    </tr>\n",
              "    <tr>\n",
              "      <th>PA</th>\n",
              "      <td>0.733333</td>\n",
              "    </tr>\n",
              "    <tr>\n",
              "      <th>PA</th>\n",
              "      <td>1.000000</td>\n",
              "    </tr>\n",
              "    <tr>\n",
              "      <th>RI</th>\n",
              "      <td>0.000000</td>\n",
              "    </tr>\n",
              "    <tr>\n",
              "      <th>RI</th>\n",
              "      <td>0.000000</td>\n",
              "    </tr>\n",
              "    <tr>\n",
              "      <th>SC</th>\n",
              "      <td>0.000000</td>\n",
              "    </tr>\n",
              "    <tr>\n",
              "      <th>TN</th>\n",
              "      <td>7.535714</td>\n",
              "    </tr>\n",
              "    <tr>\n",
              "      <th>TX</th>\n",
              "      <td>0.000000</td>\n",
              "    </tr>\n",
              "    <tr>\n",
              "      <th>UT</th>\n",
              "      <td>24.444444</td>\n",
              "    </tr>\n",
              "    <tr>\n",
              "      <th>VA</th>\n",
              "      <td>1.500000</td>\n",
              "    </tr>\n",
              "    <tr>\n",
              "      <th>VT</th>\n",
              "      <td>0.000000</td>\n",
              "    </tr>\n",
              "    <tr>\n",
              "      <th>WA</th>\n",
              "      <td>10.368421</td>\n",
              "    </tr>\n",
              "    <tr>\n",
              "      <th>WI</th>\n",
              "      <td>0.000000</td>\n",
              "    </tr>\n",
              "    <tr>\n",
              "      <th>WV</th>\n",
              "      <td>0.000000</td>\n",
              "    </tr>\n",
              "  </tbody>\n",
              "</table>\n",
              "</div><br><label><b>dtype:</b> float64</label>"
            ]
          },
          "metadata": {},
          "execution_count": 26
        }
      ],
      "source": [
        "# Answer question 14 here\n",
        "df_assig1.groupby('State')['I-131'].mean()"
      ]
    }
  ],
  "metadata": {
    "kernelspec": {
      "display_name": "Python 3 (ipykernel)",
      "language": "python",
      "name": "python3"
    },
    "language_info": {
      "codemirror_mode": {
        "name": "ipython",
        "version": 3
      },
      "file_extension": ".py",
      "mimetype": "text/x-python",
      "name": "python",
      "nbconvert_exporter": "python",
      "pygments_lexer": "ipython3",
      "version": "3.9.13"
    },
    "colab": {
      "provenance": []
    }
  },
  "nbformat": 4,
  "nbformat_minor": 5
}